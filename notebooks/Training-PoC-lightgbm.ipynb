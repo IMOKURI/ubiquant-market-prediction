{
 "cells": [
  {
   "cell_type": "markdown",
   "id": "3933b5ca-2b69-438a-b31c-d5410dd3ff87",
   "metadata": {},
   "source": [
    "# Training PoC"
   ]
  },
  {
   "cell_type": "code",
   "execution_count": 1,
   "id": "2aa35ceb-50e9-4090-bf01-af0423059961",
   "metadata": {},
   "outputs": [],
   "source": [
    "import sys\n",
    "\n",
    "sys.path.append(\"..\")\n",
    "sys.path.append(\"../../inputs\")"
   ]
  },
  {
   "cell_type": "code",
   "execution_count": 2,
   "id": "a2b8a249-a86a-45ac-866d-e8e24391a8b3",
   "metadata": {},
   "outputs": [],
   "source": [
    "import logging\n",
    "\n",
    "logging.basicConfig(\n",
    "    # filename=__file__.replace('.py', '.log'),\n",
    "    stream=sys.stdout,\n",
    "    level=logging.getLevelName(\"INFO\"),\n",
    "    format=\"%(asctime)s [%(levelname)s] [%(module)s] %(message)s\",\n",
    ")"
   ]
  },
  {
   "cell_type": "code",
   "execution_count": 3,
   "id": "f3359f42-fedd-4112-b756-9db1f94b7acf",
   "metadata": {},
   "outputs": [],
   "source": [
    "log = logging.getLogger(__name__)"
   ]
  },
  {
   "cell_type": "code",
   "execution_count": 4,
   "id": "6ce78107-23d6-4e0e-abeb-78c0196d584a",
   "metadata": {},
   "outputs": [],
   "source": [
    "from omegaconf import OmegaConf"
   ]
  },
  {
   "cell_type": "code",
   "execution_count": 5,
   "id": "30546e6e-deba-4e25-a758-026f1a1b0ef1",
   "metadata": {},
   "outputs": [],
   "source": [
    "c = OmegaConf.load(\"../config/main.yaml\")"
   ]
  },
  {
   "cell_type": "code",
   "execution_count": 6,
   "id": "4c0c57b3-9ad0-496d-b224-393873b27f1b",
   "metadata": {},
   "outputs": [],
   "source": [
    "c.settings.debug = True\n",
    "c.wandb.enabled = False\n",
    "c.settings.dirs.working = \"..\"\n",
    "c.settings.dirs.input = \"../../inputs/\""
   ]
  },
  {
   "cell_type": "code",
   "execution_count": 7,
   "id": "b091304e-fca8-40aa-85be-8926feb837ac",
   "metadata": {},
   "outputs": [
    {
     "name": "stdout",
     "output_type": "stream",
     "text": [
      "2022-02-08 14:16:32,032 [INFO] [3244290467] defaults:\n",
      "- _self_\n",
      "hydra:\n",
      "  run:\n",
      "    dir: ../outputs/${now:%Y-%m-%d_%H-%M-%S}\n",
      "  job_logging:\n",
      "    formatters:\n",
      "      simple:\n",
      "        format: '%(asctime)s [%(levelname)s][%(module)s] %(message)s'\n",
      "wandb:\n",
      "  enabled: false\n",
      "  entity: imokuri\n",
      "  project: ump\n",
      "  dir: ${hydra:runtime.cwd}/../cache\n",
      "  group: default\n",
      "settings:\n",
      "  print_freq: 100\n",
      "  gpus: 6,7\n",
      "  dirs:\n",
      "    working: ..\n",
      "    input: ../../inputs/\n",
      "    feature: ${settings.dirs.input}features/\n",
      "    preprocess: ${settings.dirs.input}preprocess/\n",
      "  inputs:\n",
      "  - train.csv\n",
      "  - example_test.csv\n",
      "  - example_sample_submission.csv\n",
      "  debug: true\n",
      "  n_debug_data: 100000\n",
      "  amp: true\n",
      "  multi_gpu: true\n",
      "params:\n",
      "  seed: 440\n",
      "  n_class: 1\n",
      "  preprocess: false\n",
      "  n_fold: 5\n",
      "  skip_training: false\n",
      "  epoch: 20\n",
      "  es_patience: 0\n",
      "  batch_size: 640\n",
      "  gradient_acc_step: 1\n",
      "  max_grad_norm: 1000\n",
      "  fold: simple_cpcv\n",
      "  group_name: investment_id\n",
      "  time_name: time_id\n",
      "  label_name: target\n",
      "  use_feature: true\n",
      "  feature_set:\n",
      "  - f000\n",
      "  dataset: ump_1\n",
      "  model: ump_1\n",
      "  pretrained: []\n",
      "  criterion: RMSELoss\n",
      "  optimizer: Adam\n",
      "  scheduler: CosineAnnealingWarmupRestarts\n",
      "  lr: 0.001\n",
      "  min_lr: 1.0e-06\n",
      "  weight_decay: 1.0e-05\n",
      "  label_smoothing: 1.0e-06\n",
      "  scoring: pearson\n",
      "\n"
     ]
    }
   ],
   "source": [
    "log.info(OmegaConf.to_yaml(c))"
   ]
  },
  {
   "cell_type": "markdown",
   "id": "ad72c687-c321-48e8-a979-81c6755b8923",
   "metadata": {},
   "source": [
    "## Main"
   ]
  },
  {
   "cell_type": "code",
   "execution_count": 8,
   "id": "1bcb2359-cd66-438e-8c15-ff0dc01876ba",
   "metadata": {},
   "outputs": [],
   "source": [
    "import os\n",
    "import time\n",
    "\n",
    "import lightgbm as lgb\n",
    "import matplotlib.pyplot as plt\n",
    "import numpy as np\n",
    "import pandas as pd\n",
    "import seaborn as sns\n",
    "import torch.cuda.amp as amp"
   ]
  },
  {
   "cell_type": "code",
   "execution_count": 9,
   "id": "5f17bfd5-73dc-4058-a431-d05e3a6fccb1",
   "metadata": {},
   "outputs": [],
   "source": [
    "import src.utils as utils\n",
    "from src.load_data import InputData\n",
    "from src.make_dataset import make_dataset_lightgbm\n",
    "from src.make_fold import train_test_split\n",
    "from src.make_loss import make_criterion, make_optimizer, make_scheduler\n",
    "from src.make_model import make_model\n",
    "from src.run_loop import EarlyStopping\n",
    "from src.time_series_api import TimeSeriesAPI\n",
    "from src.utils import AverageMeter"
   ]
  },
  {
   "cell_type": "code",
   "execution_count": 10,
   "id": "58670521-2067-4c08-9e13-5cea2ee6445e",
   "metadata": {},
   "outputs": [
    {
     "name": "stdout",
     "output_type": "stream",
     "text": [
      "2022-02-08 14:16:33,680 [INFO] [utils] Enable debug mode.\n"
     ]
    }
   ],
   "source": [
    "utils.debug_settings(c)"
   ]
  },
  {
   "cell_type": "code",
   "execution_count": 11,
   "id": "e18a84d8-c569-4b2d-bb05-4181e5f7f785",
   "metadata": {},
   "outputs": [],
   "source": [
    "run = utils.setup_wandb(c)"
   ]
  },
  {
   "cell_type": "code",
   "execution_count": 12,
   "id": "8745a44a-fd19-4545-8e07-4852a82f576c",
   "metadata": {},
   "outputs": [
    {
     "name": "stdout",
     "output_type": "stream",
     "text": [
      "2022-02-08 14:16:33,688 [INFO] [utils] Fix seed: 440\n"
     ]
    }
   ],
   "source": [
    "utils.fix_seed(c.params.seed)"
   ]
  },
  {
   "cell_type": "code",
   "execution_count": 13,
   "id": "cf72341c-cff8-4362-87f3-4e5d365764ac",
   "metadata": {},
   "outputs": [
    {
     "name": "stdout",
     "output_type": "stream",
     "text": [
      "2022-02-08 14:16:33,692 [INFO] [utils] CUDA_VISIBLE_DEVICES: 6,7\n",
      "2022-02-08 14:16:33,770 [INFO] [utils] torch device: cuda, device count: 2\n"
     ]
    }
   ],
   "source": [
    "device = utils.gpu_settings(c)"
   ]
  },
  {
   "cell_type": "code",
   "execution_count": 14,
   "id": "7dbf167e-3c8d-428c-b64a-b88a652392c0",
   "metadata": {},
   "outputs": [
    {
     "name": "stdout",
     "output_type": "stream",
     "text": [
      "2022-02-08 14:16:33,774 [INFO] [load_data] Load feather file. path: ../../inputs/train.f\n",
      "2022-02-08 14:17:03,978 [INFO] [utils] Mem. usage decreased to 366Mb: 49% reduction\n",
      "2022-02-08 14:17:04,011 [INFO] [load_data] Load feather file. path: ../../inputs/example_test.f\n",
      "2022-02-08 14:17:04,079 [INFO] [utils] Mem. usage decreased to 0.0Mb: 49% reduction\n",
      "2022-02-08 14:17:04,080 [INFO] [load_data] Load feather file. path: ../../inputs/example_sample_submission.f\n",
      "2022-02-08 14:17:04,084 [INFO] [utils] Mem. usage decreased to 0.0Mb: 34% reduction\n"
     ]
    }
   ],
   "source": [
    "input = InputData(c)"
   ]
  },
  {
   "cell_type": "code",
   "execution_count": 15,
   "id": "3360c604-44dd-47ed-aed4-a6b86d510f90",
   "metadata": {},
   "outputs": [
    {
     "name": "stdout",
     "output_type": "stream",
     "text": [
      "<class 'pandas.core.frame.DataFrame'>\n",
      "RangeIndex: 3141410 entries, 0 to 3141409\n",
      "Columns: 306 entries, row_id to time_fold\n",
      "dtypes: float32(303), int16(2), object(1)\n",
      "memory usage: 3.6+ GB\n"
     ]
    }
   ],
   "source": [
    "input.train.info()"
   ]
  },
  {
   "cell_type": "code",
   "execution_count": 16,
   "id": "d0585cbf-689e-4b96-bbd7-fe3d8d6624eb",
   "metadata": {},
   "outputs": [],
   "source": [
    "oof_df = pd.DataFrame()\n",
    "losses = utils.AverageMeter()\n",
    "evaluation_results = {}\n",
    "callbacks = [\n",
    "    lgb.log_evaluation(period=10),\n",
    "    lgb.record_evaluation(evaluation_results),\n",
    "    lgb.early_stopping(stopping_rounds=10),\n",
    "]"
   ]
  },
  {
   "cell_type": "code",
   "execution_count": 17,
   "id": "8bd31a52-9849-4dac-b3ec-817de80e1fa0",
   "metadata": {},
   "outputs": [
    {
     "name": "stdout",
     "output_type": "stream",
     "text": [
      "2022-02-08 14:17:04,104 [INFO] [152865046] ========== fold 0 training ==========\n",
      "2022-02-08 14:17:04,105 [INFO] [utils] Fix seed: 440\n",
      "2022-02-08 14:17:05,065 [INFO] [make_fold] Num of training data: 1676930, num of validation data: 1047138\n",
      "[LightGBM] [Warning] Auto-choosing col-wise multi-threading, the overhead of testing was 0.309352 seconds.\n",
      "You can set `force_col_wise=true` to remove the overhead.\n",
      "[LightGBM] [Info] Total Bins 76500\n",
      "[LightGBM] [Info] Number of data points in the train set: 1676930, number of used features: 300\n",
      "[LightGBM] [Info] Start training from score -0.013432\n",
      "Training until validation scores don't improve for 10 rounds\n",
      "[10]\ttrain's rmse: 0.91497\tvalid's rmse: 0.915036\n",
      "[20]\ttrain's rmse: 0.912786\tvalid's rmse: 0.913706\n",
      "[30]\ttrain's rmse: 0.911302\tvalid's rmse: 0.912874\n",
      "[40]\ttrain's rmse: 0.910156\tvalid's rmse: 0.912352\n",
      "[50]\ttrain's rmse: 0.909168\tvalid's rmse: 0.911951\n",
      "[60]\ttrain's rmse: 0.908177\tvalid's rmse: 0.911632\n",
      "[70]\ttrain's rmse: 0.907281\tvalid's rmse: 0.911424\n",
      "[80]\ttrain's rmse: 0.90644\tvalid's rmse: 0.91117\n",
      "[90]\ttrain's rmse: 0.905633\tvalid's rmse: 0.910948\n",
      "[100]\ttrain's rmse: 0.904875\tvalid's rmse: 0.910779\n",
      "Did not meet early stopping. Best iteration is:\n",
      "[100]\ttrain's rmse: 0.904875\tvalid's rmse: 0.910779\n"
     ]
    }
   ],
   "source": [
    "for fold in range(c.params.n_fold):\n",
    "    log.info(f\"========== fold {fold} training ==========\")\n",
    "    utils.fix_seed(c.params.seed + fold)\n",
    "\n",
    "    ####################################################\n",
    "    # _oof_df, score, loss = train_fold(c, input.train, fold, device)\n",
    "    df = input.train\n",
    "\n",
    "    train_folds, valid_folds = train_test_split(c, df, fold)\n",
    "    train_ds, valid_ds = make_dataset_lightgbm(c, train_folds, valid_folds)\n",
    "\n",
    "    lgb_params = {\n",
    "        \"objective\": \"regression\",\n",
    "        \"boosting\": \"gbdt\",\n",
    "        \"metric\": \"rmse\",\n",
    "        \"learning_rate\": 0.05,\n",
    "        \"min_data_in_leaf\": 20,\n",
    "        \"feature_fraction\": 0.7,\n",
    "        \"num_leaves\": 41,\n",
    "        \"drop_rate\": 0.1,\n",
    "        \"seed\": c.params.seed,\n",
    "        # 'device': 'gpu',\n",
    "        # 'max_bin': 63,\n",
    "    }\n",
    "\n",
    "    booster = lgb.train(\n",
    "        train_set=train_ds,\n",
    "        valid_sets=[train_ds, valid_ds],\n",
    "        valid_names=[\"train\", \"valid\"],\n",
    "        params=lgb_params,\n",
    "        num_boost_round=100,\n",
    "        callbacks=callbacks,\n",
    "    )\n",
    "\n",
    "    break\n",
    "\n",
    "    ####################################################\n",
    "\n",
    "    oof_df = pd.concat([oof_df, _oof_df])\n",
    "    losses.update(loss)\n",
    "\n",
    "    log.info(f\"========== fold {fold} result ==========\")\n",
    "    record_result(c, _oof_df, fold, loss)\n",
    "\n",
    "    if c.settings.debug:\n",
    "        break"
   ]
  },
  {
   "cell_type": "code",
   "execution_count": 18,
   "id": "637cdca2-aa9d-4367-9de5-2bd793b44bfd",
   "metadata": {},
   "outputs": [
    {
     "data": {
      "text/plain": [
       "{'objective': 'regression',\n",
       " 'boosting': 'gbdt',\n",
       " 'metric': 'rmse',\n",
       " 'learning_rate': 0.05,\n",
       " 'min_data_in_leaf': 20,\n",
       " 'feature_fraction': 0.7,\n",
       " 'num_leaves': 41,\n",
       " 'drop_rate': 0.1,\n",
       " 'seed': 440,\n",
       " 'num_iterations': 100,\n",
       " 'early_stopping_round': None}"
      ]
     },
     "execution_count": 18,
     "metadata": {},
     "output_type": "execute_result"
    }
   ],
   "source": [
    "booster.params"
   ]
  },
  {
   "cell_type": "code",
   "execution_count": 19,
   "id": "a09c05ce-720b-4129-8a51-2930b3ede2fb",
   "metadata": {},
   "outputs": [
    {
     "data": {
      "text/plain": [
       "defaultdict(collections.OrderedDict,\n",
       "            {'train': OrderedDict([('rmse', 0.9048747920905363)]),\n",
       "             'valid': OrderedDict([('rmse', 0.9107790500723759)])})"
      ]
     },
     "execution_count": 19,
     "metadata": {},
     "output_type": "execute_result"
    }
   ],
   "source": [
    "booster.best_score"
   ]
  },
  {
   "cell_type": "code",
   "execution_count": 20,
   "id": "6ca57324-6d33-495b-a083-082b93f17d0b",
   "metadata": {},
   "outputs": [
    {
     "data": {
      "image/png": "[encoded data removed]",
      "text/plain": [
       "<Figure size 1080x288 with 2 Axes>"
      ]
     },
     "metadata": {
      "needs_background": "light"
     },
     "output_type": "display_data"
    }
   ],
   "source": [
    "fig, axs = plt.subplots(1, 2, figsize=[15, 4])\n",
    "\n",
    "# Plot the log loss during training\n",
    "axs[0].plot(evaluation_results[\"train\"][\"rmse\"], label=\"train\")\n",
    "axs[0].plot(evaluation_results[\"valid\"][\"rmse\"], label=\"valid\")\n",
    "axs[0].set_ylabel(\"RMSE\")\n",
    "axs[0].set_xlabel(\"Boosting round\")\n",
    "axs[0].set_title(\"Training performance\")\n",
    "axs[0].legend()\n",
    "\n",
    "# Plot feature importance\n",
    "importances = pd.DataFrame(\n",
    "    {\"features\": booster.feature_name(), \"importance\": booster.feature_importance()}\n",
    ").sort_values(\"importance\", ascending=False)[:10]\n",
    "axs[1].bar(x=np.arange(len(importances)), height=importances[\"importance\"])\n",
    "axs[1].set_xticks(np.arange(len(importances)))\n",
    "axs[1].set_xticklabels(importances[\"features\"], rotation=45)\n",
    "axs[1].set_ylabel(\"Feature importance (# times used to split)\")\n",
    "axs[1].set_title(\"Feature importance\")\n",
    "\n",
    "plt.show()"
   ]
  },
  {
   "cell_type": "code",
   "execution_count": 21,
   "id": "3dbef56c-91f0-4f04-a229-6309fde3b91b",
   "metadata": {},
   "outputs": [
    {
     "data": {
      "text/html": [
       "<div>\n",
       "<style scoped>\n",
       "    .dataframe tbody tr th:only-of-type {\n",
       "        vertical-align: middle;\n",
       "    }\n",
       "\n",
       "    .dataframe tbody tr th {\n",
       "        vertical-align: top;\n",
       "    }\n",
       "\n",
       "    .dataframe thead th {\n",
       "        text-align: right;\n",
       "    }\n",
       "</style>\n",
       "<table border=\"1\" class=\"dataframe\">\n",
       "  <thead>\n",
       "    <tr style=\"text-align: right;\">\n",
       "      <th></th>\n",
       "      <th>features</th>\n",
       "      <th>importance</th>\n",
       "    </tr>\n",
       "  </thead>\n",
       "  <tbody>\n",
       "    <tr>\n",
       "      <th>74</th>\n",
       "      <td>f_74</td>\n",
       "      <td>89</td>\n",
       "    </tr>\n",
       "    <tr>\n",
       "      <th>225</th>\n",
       "      <td>f_225</td>\n",
       "      <td>88</td>\n",
       "    </tr>\n",
       "    <tr>\n",
       "      <th>231</th>\n",
       "      <td>f_231</td>\n",
       "      <td>87</td>\n",
       "    </tr>\n",
       "    <tr>\n",
       "      <th>153</th>\n",
       "      <td>f_153</td>\n",
       "      <td>78</td>\n",
       "    </tr>\n",
       "    <tr>\n",
       "      <th>118</th>\n",
       "      <td>f_118</td>\n",
       "      <td>53</td>\n",
       "    </tr>\n",
       "    <tr>\n",
       "      <th>145</th>\n",
       "      <td>f_145</td>\n",
       "      <td>50</td>\n",
       "    </tr>\n",
       "    <tr>\n",
       "      <th>179</th>\n",
       "      <td>f_179</td>\n",
       "      <td>45</td>\n",
       "    </tr>\n",
       "    <tr>\n",
       "      <th>63</th>\n",
       "      <td>f_63</td>\n",
       "      <td>45</td>\n",
       "    </tr>\n",
       "    <tr>\n",
       "      <th>174</th>\n",
       "      <td>f_174</td>\n",
       "      <td>43</td>\n",
       "    </tr>\n",
       "    <tr>\n",
       "      <th>65</th>\n",
       "      <td>f_65</td>\n",
       "      <td>43</td>\n",
       "    </tr>\n",
       "  </tbody>\n",
       "</table>\n",
       "</div>"
      ],
      "text/plain": [
       "    features  importance\n",
       "74      f_74          89\n",
       "225    f_225          88\n",
       "231    f_231          87\n",
       "153    f_153          78\n",
       "118    f_118          53\n",
       "145    f_145          50\n",
       "179    f_179          45\n",
       "63      f_63          45\n",
       "174    f_174          43\n",
       "65      f_65          43"
      ]
     },
     "execution_count": 21,
     "metadata": {},
     "output_type": "execute_result"
    }
   ],
   "source": [
    "importances.sort_values(\"importance\", ascending=False)"
   ]
  },
  {
   "cell_type": "code",
   "execution_count": 22,
   "id": "02ca9954-af52-4dfc-aa95-7a6678a16218",
   "metadata": {},
   "outputs": [
    {
     "data": {
      "text/plain": [
       "100"
      ]
     },
     "execution_count": 22,
     "metadata": {},
     "output_type": "execute_result"
    }
   ],
   "source": [
    "booster.best_iteration"
   ]
  },
  {
   "cell_type": "code",
   "execution_count": 27,
   "id": "ac3183f5-b9a9-4c21-8fdc-5dd6b26f4f1d",
   "metadata": {},
   "outputs": [],
   "source": [
    "oof = booster.predict(valid_folds.drop([\"row_id\", \"time_id\", \"investment_id\", \"target\", \"group_fold\", \"time_fold\"], axis=1), num_iteration=booster.best_iteration)"
   ]
  },
  {
   "cell_type": "code",
   "execution_count": 28,
   "id": "8a647070-1013-4079-9723-0b3382535e43",
   "metadata": {},
   "outputs": [
    {
     "data": {
      "text/plain": [
       "array([ 0.02588464, -0.03501445,  0.01480406, ..., -0.01931024,\n",
       "        0.11307297, -0.03030902])"
      ]
     },
     "execution_count": 28,
     "metadata": {},
     "output_type": "execute_result"
    }
   ],
   "source": [
    "oof"
   ]
  },
  {
   "cell_type": "code",
   "execution_count": 29,
   "id": "17b7e44b-0772-47d9-908c-e5fc8c02fa91",
   "metadata": {},
   "outputs": [
    {
     "data": {
      "text/plain": [
       "1047138"
      ]
     },
     "execution_count": 29,
     "metadata": {},
     "output_type": "execute_result"
    }
   ],
   "source": [
    "len(oof)"
   ]
  },
  {
   "cell_type": "code",
   "execution_count": null,
   "id": "458e457b-7091-41b6-94ec-9ce1f529a7c1",
   "metadata": {},
   "outputs": [],
   "source": []
  }
 ],
 "metadata": {
  "kernelspec": {
   "display_name": "py37-all-in-one",
   "language": "python",
   "name": "py37-all-in-one"
  },
  "language_info": {
   "codemirror_mode": {
    "name": "ipython",
    "version": 3
   },
   "file_extension": ".py",
   "mimetype": "text/x-python",
   "name": "python",
   "nbconvert_exporter": "python",
   "pygments_lexer": "ipython3",
   "version": "3.7.0"
  }
 },
 "nbformat": 4,
 "nbformat_minor": 5
}
