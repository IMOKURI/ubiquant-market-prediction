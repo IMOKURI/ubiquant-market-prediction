{
 "cells": [
  {
   "cell_type": "markdown",
   "id": "3b02d0fe-17b6-4a30-9445-bc035af17743",
   "metadata": {},
   "source": [
    "# PoC"
   ]
  },
  {
   "cell_type": "code",
   "execution_count": 1,
   "id": "e0b3f4d1-ea25-4fbf-a513-3c775fb5a1df",
   "metadata": {},
   "outputs": [],
   "source": [
    "import sys\n",
    "\n",
    "sys.path.append(\"..\")\n",
    "sys.path.append(\"../../inputs\")"
   ]
  },
  {
   "cell_type": "code",
   "execution_count": 2,
   "id": "dc1c3027-9a46-4388-9fd5-07d4b3ba83df",
   "metadata": {},
   "outputs": [],
   "source": [
    "import logging"
   ]
  },
  {
   "cell_type": "code",
   "execution_count": 3,
   "id": "f35bb72f-a032-4e84-8a94-cf0d3501927f",
   "metadata": {},
   "outputs": [],
   "source": [
    "logging.basicConfig(\n",
    "    # filename=__file__.replace('.py', '.log'),\n",
    "    stream=sys.stdout,\n",
    "    level=logging.getLevelName(\"INFO\"),\n",
    "    format=\"%(asctime)s [%(levelname)s] [%(module)s] %(message)s\",\n",
    ")"
   ]
  },
  {
   "cell_type": "code",
   "execution_count": 4,
   "id": "e5210d1b-4683-4387-9e3e-716894134cfd",
   "metadata": {},
   "outputs": [],
   "source": [
    "log = logging.getLogger(__name__)"
   ]
  },
  {
   "cell_type": "code",
   "execution_count": 5,
   "id": "88dc8375-5484-43ff-9228-33906d9420c2",
   "metadata": {},
   "outputs": [],
   "source": [
    "from omegaconf import OmegaConf"
   ]
  },
  {
   "cell_type": "code",
   "execution_count": 6,
   "id": "ebf72915-7219-45e7-bbc7-b2a66db453ca",
   "metadata": {},
   "outputs": [],
   "source": [
    "c = OmegaConf.load(\"../config/main.yaml\")"
   ]
  },
  {
   "cell_type": "code",
   "execution_count": 7,
   "id": "b3478df2-66e3-497d-9a40-1fdb174e11a3",
   "metadata": {},
   "outputs": [],
   "source": [
    "c.settings.debug = False\n",
    "c.wandb.enabled = False\n",
    "c.settings.dirs.working = \"..\"\n",
    "c.settings.dirs.input = \"../../inputs/\"\n",
    "c.settings.dirs.input_minimal = \"../../datasets/inputs/\"\n",
    "c.settings.dirs.preprocess = \"../../inputs/preprocess/\""
   ]
  },
  {
   "cell_type": "code",
   "execution_count": 8,
   "id": "e27e5544-eeab-428a-ab1c-eb8bf456a532",
   "metadata": {},
   "outputs": [
    {
     "name": "stdout",
     "output_type": "stream",
     "text": [
      "2022-02-25 21:40:23,643 [INFO] [3244290467] defaults:\n",
      "- _self_\n",
      "hydra:\n",
      "  run:\n",
      "    dir: ../outputs/${now:%Y-%m-%d_%H-%M-%S}\n",
      "  job_logging:\n",
      "    formatters:\n",
      "      simple:\n",
      "        format: '%(asctime)s [%(levelname)s][%(module)s] %(message)s'\n",
      "wandb:\n",
      "  enabled: false\n",
      "  entity: imokuri\n",
      "  project: ump\n",
      "  dir: ${hydra:runtime.cwd}/../cache\n",
      "  group: default\n",
      "settings:\n",
      "  print_freq: 100\n",
      "  gpus: 6,7\n",
      "  dirs:\n",
      "    working: ..\n",
      "    input: ../../inputs/\n",
      "    input_minimal: ../../datasets/inputs/\n",
      "    feature: ${settings.dirs.input}features/\n",
      "    preprocess: ../../inputs/preprocess/\n",
      "  inputs:\n",
      "  - train.csv\n",
      "  - example_test.csv\n",
      "  - example_sample_submission.csv\n",
      "  debug: false\n",
      "  n_debug_data: 100000\n",
      "  amp: true\n",
      "  multi_gpu: true\n",
      "  training_method: nn\n",
      "params:\n",
      "  seed: 440\n",
      "  n_class: 10\n",
      "  preprocess:\n",
      "  - remove_china_shock\n",
      "  pca_n_components: 50\n",
      "  n_fold: 5\n",
      "  skip_training: false\n",
      "  epoch: 10\n",
      "  es_patience: 0\n",
      "  batch_size: 640\n",
      "  gradient_acc_step: 1\n",
      "  max_grad_norm: 1000\n",
      "  fold: combinational_purged\n",
      "  group_name: investment_id\n",
      "  time_name: time_id\n",
      "  label_name: target\n",
      "  use_feature: true\n",
      "  feature_set:\n",
      "  - f001\n",
      "  - f410\n",
      "  - f411\n",
      "  - f902\n",
      "  dataset: ump_1\n",
      "  model: ump_lstm\n",
      "  model_input: 900\n",
      "  model_window: 10\n",
      "  pretrained: []\n",
      "  criterion: RMSELoss\n",
      "  optimizer: Adam\n",
      "  scheduler: CosineAnnealingWarmupRestarts\n",
      "  lr: 0.001\n",
      "  min_lr: 1.0e-06\n",
      "  weight_decay: 1.0e-05\n",
      "  label_smoothing: 1.0e-06\n",
      "  scoring: pearson\n",
      "\n"
     ]
    }
   ],
   "source": [
    "log.info(OmegaConf.to_yaml(c))"
   ]
  },
  {
   "cell_type": "code",
   "execution_count": 9,
   "id": "d89b2156-0d7e-4af1-8e67-f92deaa8585a",
   "metadata": {},
   "outputs": [],
   "source": [
    "import torch"
   ]
  },
  {
   "cell_type": "code",
   "execution_count": 10,
   "id": "4ac19050-2411-4a11-b908-f1e8ea23f223",
   "metadata": {},
   "outputs": [],
   "source": [
    "import src.utils as utils"
   ]
  },
  {
   "cell_type": "code",
   "execution_count": 11,
   "id": "78f062fa-daf4-42a6-b248-b715a31f23ee",
   "metadata": {},
   "outputs": [
    {
     "name": "stdout",
     "output_type": "stream",
     "text": [
      "2022-02-25 21:40:24,880 [INFO] [utils] CUDA_VISIBLE_DEVICES: 6,7\n",
      "2022-02-25 21:40:24,917 [INFO] [utils] torch device: cuda, device count: 2\n"
     ]
    }
   ],
   "source": [
    "device = utils.gpu_settings(c)"
   ]
  },
  {
   "cell_type": "markdown",
   "id": "e65e2cd0-b228-46ef-896d-cf82e20e693a",
   "metadata": {},
   "source": [
    "## Preprocess"
   ]
  },
  {
   "cell_type": "code",
   "execution_count": 12,
   "id": "a5e5469b-9229-4af6-a049-c4d4b09d1d6f",
   "metadata": {},
   "outputs": [
    {
     "name": "stdout",
     "output_type": "stream",
     "text": [
      "2022-02-25 21:40:25,240 [INFO] [loader] Loading faiss with AVX2 support.\n",
      "2022-02-25 21:40:25,332 [INFO] [loader] Successfully loaded faiss with AVX2 support.\n"
     ]
    }
   ],
   "source": [
    "from src.load_data import InputData"
   ]
  },
  {
   "cell_type": "code",
   "execution_count": 13,
   "id": "3ab02525-1930-4d5f-b55e-b38c703ef153",
   "metadata": {},
   "outputs": [
    {
     "name": "stdout",
     "output_type": "stream",
     "text": [
      "2022-02-25 21:40:25,358 [INFO] [load_data] Load feather file. path: ../../inputs/train.f\n",
      "2022-02-25 21:40:56,973 [INFO] [utils] Mem. usage decreased to 307Mb: 49% reduction\n",
      "2022-02-25 21:40:57,005 [INFO] [load_data] Load feather file. path: ../../inputs/example_test.f\n",
      "2022-02-25 21:40:57,084 [INFO] [utils] Mem. usage decreased to 0.0Mb: 49% reduction\n",
      "2022-02-25 21:40:57,085 [INFO] [load_data] Load feather file. path: ../../inputs/example_sample_submission.f\n",
      "2022-02-25 21:40:57,090 [INFO] [utils] Mem. usage decreased to 0.0Mb: 34% reduction\n"
     ]
    }
   ],
   "source": [
    "input = InputData(c)"
   ]
  },
  {
   "cell_type": "code",
   "execution_count": 14,
   "id": "6d4ad746-645e-41c7-b9d7-f0506018f4d0",
   "metadata": {},
   "outputs": [
    {
     "data": {
      "text/html": [
       "<div>\n",
       "<style scoped>\n",
       "    .dataframe tbody tr th:only-of-type {\n",
       "        vertical-align: middle;\n",
       "    }\n",
       "\n",
       "    .dataframe tbody tr th {\n",
       "        vertical-align: top;\n",
       "    }\n",
       "\n",
       "    .dataframe thead th {\n",
       "        text-align: right;\n",
       "    }\n",
       "</style>\n",
       "<table border=\"1\" class=\"dataframe\">\n",
       "  <thead>\n",
       "    <tr style=\"text-align: right;\">\n",
       "      <th></th>\n",
       "      <th>time_id</th>\n",
       "      <th>investment_id</th>\n",
       "      <th>target</th>\n",
       "      <th>f_0</th>\n",
       "      <th>f_1</th>\n",
       "      <th>f_2</th>\n",
       "      <th>f_3</th>\n",
       "      <th>f_4</th>\n",
       "      <th>f_5</th>\n",
       "      <th>f_6</th>\n",
       "      <th>...</th>\n",
       "      <th>f_292</th>\n",
       "      <th>f_293</th>\n",
       "      <th>f_294</th>\n",
       "      <th>f_295</th>\n",
       "      <th>f_296</th>\n",
       "      <th>f_297</th>\n",
       "      <th>f_298</th>\n",
       "      <th>f_299</th>\n",
       "      <th>group_fold</th>\n",
       "      <th>time_fold</th>\n",
       "    </tr>\n",
       "  </thead>\n",
       "  <tbody>\n",
       "    <tr>\n",
       "      <th>count</th>\n",
       "      <td>2.635488e+06</td>\n",
       "      <td>2.635488e+06</td>\n",
       "      <td>2.635488e+06</td>\n",
       "      <td>2.635488e+06</td>\n",
       "      <td>2.635488e+06</td>\n",
       "      <td>2.635488e+06</td>\n",
       "      <td>2.635488e+06</td>\n",
       "      <td>2.635488e+06</td>\n",
       "      <td>2.635488e+06</td>\n",
       "      <td>2.635488e+06</td>\n",
       "      <td>...</td>\n",
       "      <td>2.635488e+06</td>\n",
       "      <td>2.635488e+06</td>\n",
       "      <td>2.635488e+06</td>\n",
       "      <td>2.635488e+06</td>\n",
       "      <td>2.635488e+06</td>\n",
       "      <td>2.635488e+06</td>\n",
       "      <td>2.635488e+06</td>\n",
       "      <td>2.635488e+06</td>\n",
       "      <td>2.635488e+06</td>\n",
       "      <td>2.635488e+06</td>\n",
       "    </tr>\n",
       "    <tr>\n",
       "      <th>mean</th>\n",
       "      <td>7.103500e+02</td>\n",
       "      <td>1.885160e+03</td>\n",
       "      <td>-1.702157e-02</td>\n",
       "      <td>6.950274e-04</td>\n",
       "      <td>-8.909235e-03</td>\n",
       "      <td>6.209589e-03</td>\n",
       "      <td>-1.757490e-02</td>\n",
       "      <td>-3.142135e-03</td>\n",
       "      <td>-1.961225e-03</td>\n",
       "      <td>-3.933720e-04</td>\n",
       "      <td>...</td>\n",
       "      <td>-6.558229e-03</td>\n",
       "      <td>9.289950e-04</td>\n",
       "      <td>-2.182449e-03</td>\n",
       "      <td>-2.326412e-02</td>\n",
       "      <td>-1.609894e-03</td>\n",
       "      <td>-5.184209e-03</td>\n",
       "      <td>-4.299405e-03</td>\n",
       "      <td>-3.754060e-03</td>\n",
       "      <td>2.000000e+00</td>\n",
       "      <td>2.500000e+00</td>\n",
       "    </tr>\n",
       "    <tr>\n",
       "      <th>std</th>\n",
       "      <td>3.708622e+02</td>\n",
       "      <td>1.083865e+03</td>\n",
       "      <td>9.220569e-01</td>\n",
       "      <td>1.097723e+00</td>\n",
       "      <td>1.043660e+00</td>\n",
       "      <td>1.034713e+00</td>\n",
       "      <td>9.686490e-01</td>\n",
       "      <td>9.959193e-01</td>\n",
       "      <td>1.119593e+00</td>\n",
       "      <td>1.080068e+00</td>\n",
       "      <td>...</td>\n",
       "      <td>1.083052e+00</td>\n",
       "      <td>1.123110e+00</td>\n",
       "      <td>1.164162e+00</td>\n",
       "      <td>9.673325e-01</td>\n",
       "      <td>1.158741e+00</td>\n",
       "      <td>1.126991e+00</td>\n",
       "      <td>1.063325e+00</td>\n",
       "      <td>1.013074e+00</td>\n",
       "      <td>1.414214e+00</td>\n",
       "      <td>1.686267e+00</td>\n",
       "    </tr>\n",
       "    <tr>\n",
       "      <th>min</th>\n",
       "      <td>0.000000e+00</td>\n",
       "      <td>0.000000e+00</td>\n",
       "      <td>-9.419646e+00</td>\n",
       "      <td>-1.765789e+01</td>\n",
       "      <td>-6.579473e+00</td>\n",
       "      <td>-8.644268e+00</td>\n",
       "      <td>-1.240608e+01</td>\n",
       "      <td>-4.000015e+00</td>\n",
       "      <td>-8.833704e+00</td>\n",
       "      <td>-6.384251e+00</td>\n",
       "      <td>...</td>\n",
       "      <td>-8.183732e+00</td>\n",
       "      <td>-2.399478e+01</td>\n",
       "      <td>-8.911345e+00</td>\n",
       "      <td>-9.348986e+00</td>\n",
       "      <td>-7.366648e+00</td>\n",
       "      <td>-7.579406e+00</td>\n",
       "      <td>-6.707284e+00</td>\n",
       "      <td>-1.028264e+01</td>\n",
       "      <td>0.000000e+00</td>\n",
       "      <td>0.000000e+00</td>\n",
       "    </tr>\n",
       "    <tr>\n",
       "      <th>25%</th>\n",
       "      <td>2.930000e+02</td>\n",
       "      <td>9.510000e+02</td>\n",
       "      <td>-4.822457e-01</td>\n",
       "      <td>-4.268636e-01</td>\n",
       "      <td>-6.918773e-01</td>\n",
       "      <td>-6.546747e-01</td>\n",
       "      <td>-4.543629e-01</td>\n",
       "      <td>-3.231966e-01</td>\n",
       "      <td>-7.110226e-01</td>\n",
       "      <td>-8.051575e-01</td>\n",
       "      <td>...</td>\n",
       "      <td>-7.049787e-01</td>\n",
       "      <td>-2.051390e-01</td>\n",
       "      <td>-9.585723e-01</td>\n",
       "      <td>-5.027200e-01</td>\n",
       "      <td>-9.759416e-01</td>\n",
       "      <td>-7.407039e-01</td>\n",
       "      <td>-8.141529e-01</td>\n",
       "      <td>-5.032123e-01</td>\n",
       "      <td>1.000000e+00</td>\n",
       "      <td>1.000000e+00</td>\n",
       "    </tr>\n",
       "    <tr>\n",
       "      <th>50%</th>\n",
       "      <td>7.970000e+02</td>\n",
       "      <td>1.881000e+03</td>\n",
       "      <td>-8.900590e-02</td>\n",
       "      <td>2.451799e-01</td>\n",
       "      <td>-4.580044e-02</td>\n",
       "      <td>7.742916e-02</td>\n",
       "      <td>-2.804235e-01</td>\n",
       "      <td>-1.807949e-01</td>\n",
       "      <td>-1.967342e-02</td>\n",
       "      <td>6.589857e-03</td>\n",
       "      <td>...</td>\n",
       "      <td>-2.043986e-01</td>\n",
       "      <td>2.393769e-01</td>\n",
       "      <td>2.033623e-01</td>\n",
       "      <td>-2.872780e-01</td>\n",
       "      <td>7.143374e-03</td>\n",
       "      <td>-1.648386e-01</td>\n",
       "      <td>3.606625e-02</td>\n",
       "      <td>-2.855791e-01</td>\n",
       "      <td>2.000000e+00</td>\n",
       "      <td>2.500000e+00</td>\n",
       "    </tr>\n",
       "    <tr>\n",
       "      <th>75%</th>\n",
       "      <td>1.016000e+03</td>\n",
       "      <td>2.830000e+03</td>\n",
       "      <td>3.534553e-01</td>\n",
       "      <td>6.788467e-01</td>\n",
       "      <td>6.313426e-01</td>\n",
       "      <td>6.642895e-01</td>\n",
       "      <td>7.873586e-02</td>\n",
       "      <td>2.538166e-02</td>\n",
       "      <td>6.906360e-01</td>\n",
       "      <td>8.086394e-01</td>\n",
       "      <td>...</td>\n",
       "      <td>4.779136e-01</td>\n",
       "      <td>5.475935e-01</td>\n",
       "      <td>8.738781e-01</td>\n",
       "      <td>1.196992e-01</td>\n",
       "      <td>9.685071e-01</td>\n",
       "      <td>6.232187e-01</td>\n",
       "      <td>7.972904e-01</td>\n",
       "      <td>1.359206e-01</td>\n",
       "      <td>3.000000e+00</td>\n",
       "      <td>4.000000e+00</td>\n",
       "    </tr>\n",
       "    <tr>\n",
       "      <th>max</th>\n",
       "      <td>1.219000e+03</td>\n",
       "      <td>3.773000e+03</td>\n",
       "      <td>1.203861e+01</td>\n",
       "      <td>7.845261e+00</td>\n",
       "      <td>8.707207e+00</td>\n",
       "      <td>8.009340e+00</td>\n",
       "      <td>3.575379e+01</td>\n",
       "      <td>7.662866e+01</td>\n",
       "      <td>7.646200e+00</td>\n",
       "      <td>6.778142e+00</td>\n",
       "      <td>...</td>\n",
       "      <td>2.231185e+01</td>\n",
       "      <td>6.587691e+00</td>\n",
       "      <td>6.978151e+00</td>\n",
       "      <td>6.140367e+01</td>\n",
       "      <td>7.679950e+00</td>\n",
       "      <td>1.241804e+01</td>\n",
       "      <td>7.003982e+00</td>\n",
       "      <td>4.337021e+01</td>\n",
       "      <td>4.000000e+00</td>\n",
       "      <td>5.000000e+00</td>\n",
       "    </tr>\n",
       "  </tbody>\n",
       "</table>\n",
       "<p>8 rows × 305 columns</p>\n",
       "</div>"
      ],
      "text/plain": [
       "            time_id  investment_id        target           f_0           f_1  \\\n",
       "count  2.635488e+06   2.635488e+06  2.635488e+06  2.635488e+06  2.635488e+06   \n",
       "mean   7.103500e+02   1.885160e+03 -1.702157e-02  6.950274e-04 -8.909235e-03   \n",
       "std    3.708622e+02   1.083865e+03  9.220569e-01  1.097723e+00  1.043660e+00   \n",
       "min    0.000000e+00   0.000000e+00 -9.419646e+00 -1.765789e+01 -6.579473e+00   \n",
       "25%    2.930000e+02   9.510000e+02 -4.822457e-01 -4.268636e-01 -6.918773e-01   \n",
       "50%    7.970000e+02   1.881000e+03 -8.900590e-02  2.451799e-01 -4.580044e-02   \n",
       "75%    1.016000e+03   2.830000e+03  3.534553e-01  6.788467e-01  6.313426e-01   \n",
       "max    1.219000e+03   3.773000e+03  1.203861e+01  7.845261e+00  8.707207e+00   \n",
       "\n",
       "                f_2           f_3           f_4           f_5           f_6  \\\n",
       "count  2.635488e+06  2.635488e+06  2.635488e+06  2.635488e+06  2.635488e+06   \n",
       "mean   6.209589e-03 -1.757490e-02 -3.142135e-03 -1.961225e-03 -3.933720e-04   \n",
       "std    1.034713e+00  9.686490e-01  9.959193e-01  1.119593e+00  1.080068e+00   \n",
       "min   -8.644268e+00 -1.240608e+01 -4.000015e+00 -8.833704e+00 -6.384251e+00   \n",
       "25%   -6.546747e-01 -4.543629e-01 -3.231966e-01 -7.110226e-01 -8.051575e-01   \n",
       "50%    7.742916e-02 -2.804235e-01 -1.807949e-01 -1.967342e-02  6.589857e-03   \n",
       "75%    6.642895e-01  7.873586e-02  2.538166e-02  6.906360e-01  8.086394e-01   \n",
       "max    8.009340e+00  3.575379e+01  7.662866e+01  7.646200e+00  6.778142e+00   \n",
       "\n",
       "       ...         f_292         f_293         f_294         f_295  \\\n",
       "count  ...  2.635488e+06  2.635488e+06  2.635488e+06  2.635488e+06   \n",
       "mean   ... -6.558229e-03  9.289950e-04 -2.182449e-03 -2.326412e-02   \n",
       "std    ...  1.083052e+00  1.123110e+00  1.164162e+00  9.673325e-01   \n",
       "min    ... -8.183732e+00 -2.399478e+01 -8.911345e+00 -9.348986e+00   \n",
       "25%    ... -7.049787e-01 -2.051390e-01 -9.585723e-01 -5.027200e-01   \n",
       "50%    ... -2.043986e-01  2.393769e-01  2.033623e-01 -2.872780e-01   \n",
       "75%    ...  4.779136e-01  5.475935e-01  8.738781e-01  1.196992e-01   \n",
       "max    ...  2.231185e+01  6.587691e+00  6.978151e+00  6.140367e+01   \n",
       "\n",
       "              f_296         f_297         f_298         f_299    group_fold  \\\n",
       "count  2.635488e+06  2.635488e+06  2.635488e+06  2.635488e+06  2.635488e+06   \n",
       "mean  -1.609894e-03 -5.184209e-03 -4.299405e-03 -3.754060e-03  2.000000e+00   \n",
       "std    1.158741e+00  1.126991e+00  1.063325e+00  1.013074e+00  1.414214e+00   \n",
       "min   -7.366648e+00 -7.579406e+00 -6.707284e+00 -1.028264e+01  0.000000e+00   \n",
       "25%   -9.759416e-01 -7.407039e-01 -8.141529e-01 -5.032123e-01  1.000000e+00   \n",
       "50%    7.143374e-03 -1.648386e-01  3.606625e-02 -2.855791e-01  2.000000e+00   \n",
       "75%    9.685071e-01  6.232187e-01  7.972904e-01  1.359206e-01  3.000000e+00   \n",
       "max    7.679950e+00  1.241804e+01  7.003982e+00  4.337021e+01  4.000000e+00   \n",
       "\n",
       "          time_fold  \n",
       "count  2.635488e+06  \n",
       "mean   2.500000e+00  \n",
       "std    1.686267e+00  \n",
       "min    0.000000e+00  \n",
       "25%    1.000000e+00  \n",
       "50%    2.500000e+00  \n",
       "75%    4.000000e+00  \n",
       "max    5.000000e+00  \n",
       "\n",
       "[8 rows x 305 columns]"
      ]
     },
     "execution_count": 14,
     "metadata": {},
     "output_type": "execute_result"
    }
   ],
   "source": [
    "input.train.describe()"
   ]
  },
  {
   "cell_type": "code",
   "execution_count": null,
   "id": "9442d474-d04c-45ec-90d8-5d95e62e2d65",
   "metadata": {},
   "outputs": [],
   "source": []
  },
  {
   "cell_type": "markdown",
   "id": "13aab07b-6b2c-44e3-89bd-3cdd852303ef",
   "metadata": {},
   "source": [
    "## Fold"
   ]
  },
  {
   "cell_type": "code",
   "execution_count": 15,
   "id": "6868a75d-ce76-4f0f-8852-f4e726b0effa",
   "metadata": {},
   "outputs": [],
   "source": [
    "input.train.fillna({\"time_fold\": c.params.n_fold}, inplace=True)"
   ]
  },
  {
   "cell_type": "code",
   "execution_count": 16,
   "id": "c4da8214-5d7d-452b-842c-52c51629c59b",
   "metadata": {},
   "outputs": [
    {
     "data": {
      "text/html": [
       "<div>\n",
       "<style scoped>\n",
       "    .dataframe tbody tr th:only-of-type {\n",
       "        vertical-align: middle;\n",
       "    }\n",
       "\n",
       "    .dataframe tbody tr th {\n",
       "        vertical-align: top;\n",
       "    }\n",
       "\n",
       "    .dataframe thead th {\n",
       "        text-align: right;\n",
       "    }\n",
       "</style>\n",
       "<table border=\"1\" class=\"dataframe\">\n",
       "  <thead>\n",
       "    <tr style=\"text-align: right;\">\n",
       "      <th></th>\n",
       "      <th>row_id</th>\n",
       "      <th>time_id</th>\n",
       "      <th>investment_id</th>\n",
       "      <th>target</th>\n",
       "      <th>f_0</th>\n",
       "      <th>f_1</th>\n",
       "      <th>f_2</th>\n",
       "      <th>f_3</th>\n",
       "      <th>f_4</th>\n",
       "      <th>f_5</th>\n",
       "      <th>...</th>\n",
       "      <th>f_292</th>\n",
       "      <th>f_293</th>\n",
       "      <th>f_294</th>\n",
       "      <th>f_295</th>\n",
       "      <th>f_296</th>\n",
       "      <th>f_297</th>\n",
       "      <th>f_298</th>\n",
       "      <th>f_299</th>\n",
       "      <th>group_fold</th>\n",
       "      <th>time_fold</th>\n",
       "    </tr>\n",
       "  </thead>\n",
       "  <tbody>\n",
       "    <tr>\n",
       "      <th>0</th>\n",
       "      <td>0_1</td>\n",
       "      <td>0</td>\n",
       "      <td>1</td>\n",
       "      <td>-0.300875</td>\n",
       "      <td>0.932573</td>\n",
       "      <td>0.113691</td>\n",
       "      <td>-0.402206</td>\n",
       "      <td>0.378386</td>\n",
       "      <td>-0.203938</td>\n",
       "      <td>-0.413469</td>\n",
       "      <td>...</td>\n",
       "      <td>0.200075</td>\n",
       "      <td>0.819155</td>\n",
       "      <td>0.941183</td>\n",
       "      <td>-0.086764</td>\n",
       "      <td>-1.087009</td>\n",
       "      <td>-1.044826</td>\n",
       "      <td>-0.287605</td>\n",
       "      <td>0.321566</td>\n",
       "      <td>4.0</td>\n",
       "      <td>0.0</td>\n",
       "    </tr>\n",
       "    <tr>\n",
       "      <th>1</th>\n",
       "      <td>0_2</td>\n",
       "      <td>0</td>\n",
       "      <td>2</td>\n",
       "      <td>-0.231040</td>\n",
       "      <td>0.810802</td>\n",
       "      <td>-0.514115</td>\n",
       "      <td>0.742368</td>\n",
       "      <td>-0.616673</td>\n",
       "      <td>-0.194255</td>\n",
       "      <td>1.771210</td>\n",
       "      <td>...</td>\n",
       "      <td>-0.734579</td>\n",
       "      <td>0.819155</td>\n",
       "      <td>0.941183</td>\n",
       "      <td>-0.387617</td>\n",
       "      <td>-1.087009</td>\n",
       "      <td>-0.929529</td>\n",
       "      <td>-0.974060</td>\n",
       "      <td>-0.343624</td>\n",
       "      <td>2.0</td>\n",
       "      <td>0.0</td>\n",
       "    </tr>\n",
       "    <tr>\n",
       "      <th>2</th>\n",
       "      <td>0_6</td>\n",
       "      <td>0</td>\n",
       "      <td>6</td>\n",
       "      <td>0.568807</td>\n",
       "      <td>0.393974</td>\n",
       "      <td>0.615937</td>\n",
       "      <td>0.567806</td>\n",
       "      <td>-0.607963</td>\n",
       "      <td>0.068883</td>\n",
       "      <td>-1.083155</td>\n",
       "      <td>...</td>\n",
       "      <td>-0.551904</td>\n",
       "      <td>-1.220772</td>\n",
       "      <td>-1.060166</td>\n",
       "      <td>-0.219097</td>\n",
       "      <td>-1.087009</td>\n",
       "      <td>-0.612428</td>\n",
       "      <td>-0.113944</td>\n",
       "      <td>0.243608</td>\n",
       "      <td>0.0</td>\n",
       "      <td>0.0</td>\n",
       "    </tr>\n",
       "    <tr>\n",
       "      <th>3</th>\n",
       "      <td>0_7</td>\n",
       "      <td>0</td>\n",
       "      <td>7</td>\n",
       "      <td>-1.064780</td>\n",
       "      <td>-2.343535</td>\n",
       "      <td>-0.011870</td>\n",
       "      <td>1.874606</td>\n",
       "      <td>-0.606346</td>\n",
       "      <td>-0.586827</td>\n",
       "      <td>-0.815737</td>\n",
       "      <td>...</td>\n",
       "      <td>-0.266359</td>\n",
       "      <td>-1.220772</td>\n",
       "      <td>0.941183</td>\n",
       "      <td>-0.609113</td>\n",
       "      <td>0.104928</td>\n",
       "      <td>-0.783423</td>\n",
       "      <td>1.151730</td>\n",
       "      <td>-0.773309</td>\n",
       "      <td>2.0</td>\n",
       "      <td>0.0</td>\n",
       "    </tr>\n",
       "    <tr>\n",
       "      <th>4</th>\n",
       "      <td>0_8</td>\n",
       "      <td>0</td>\n",
       "      <td>8</td>\n",
       "      <td>-0.531940</td>\n",
       "      <td>0.842057</td>\n",
       "      <td>-0.262993</td>\n",
       "      <td>2.330030</td>\n",
       "      <td>-0.583422</td>\n",
       "      <td>-0.618392</td>\n",
       "      <td>-0.742814</td>\n",
       "      <td>...</td>\n",
       "      <td>-0.741355</td>\n",
       "      <td>-1.220772</td>\n",
       "      <td>0.941183</td>\n",
       "      <td>-0.588445</td>\n",
       "      <td>0.104928</td>\n",
       "      <td>0.753279</td>\n",
       "      <td>1.345611</td>\n",
       "      <td>-0.737624</td>\n",
       "      <td>0.0</td>\n",
       "      <td>0.0</td>\n",
       "    </tr>\n",
       "    <tr>\n",
       "      <th>...</th>\n",
       "      <td>...</td>\n",
       "      <td>...</td>\n",
       "      <td>...</td>\n",
       "      <td>...</td>\n",
       "      <td>...</td>\n",
       "      <td>...</td>\n",
       "      <td>...</td>\n",
       "      <td>...</td>\n",
       "      <td>...</td>\n",
       "      <td>...</td>\n",
       "      <td>...</td>\n",
       "      <td>...</td>\n",
       "      <td>...</td>\n",
       "      <td>...</td>\n",
       "      <td>...</td>\n",
       "      <td>...</td>\n",
       "      <td>...</td>\n",
       "      <td>...</td>\n",
       "      <td>...</td>\n",
       "      <td>...</td>\n",
       "      <td>...</td>\n",
       "    </tr>\n",
       "    <tr>\n",
       "      <th>2635483</th>\n",
       "      <td>1219_3768</td>\n",
       "      <td>1219</td>\n",
       "      <td>3768</td>\n",
       "      <td>0.033600</td>\n",
       "      <td>0.093530</td>\n",
       "      <td>-0.720275</td>\n",
       "      <td>-0.345497</td>\n",
       "      <td>-0.438781</td>\n",
       "      <td>-0.166972</td>\n",
       "      <td>-0.437182</td>\n",
       "      <td>...</td>\n",
       "      <td>-0.660579</td>\n",
       "      <td>0.875537</td>\n",
       "      <td>0.421628</td>\n",
       "      <td>-0.428097</td>\n",
       "      <td>-0.075548</td>\n",
       "      <td>-0.533092</td>\n",
       "      <td>-0.193732</td>\n",
       "      <td>-0.581394</td>\n",
       "      <td>3.0</td>\n",
       "      <td>5.0</td>\n",
       "    </tr>\n",
       "    <tr>\n",
       "      <th>2635484</th>\n",
       "      <td>1219_3769</td>\n",
       "      <td>1219</td>\n",
       "      <td>3769</td>\n",
       "      <td>-0.223264</td>\n",
       "      <td>-1.344935</td>\n",
       "      <td>-0.199987</td>\n",
       "      <td>-0.107702</td>\n",
       "      <td>-0.454677</td>\n",
       "      <td>-0.221914</td>\n",
       "      <td>-0.141174</td>\n",
       "      <td>...</td>\n",
       "      <td>-0.670493</td>\n",
       "      <td>0.875537</td>\n",
       "      <td>0.421628</td>\n",
       "      <td>-0.729949</td>\n",
       "      <td>-1.514277</td>\n",
       "      <td>0.013145</td>\n",
       "      <td>-0.890270</td>\n",
       "      <td>-0.589705</td>\n",
       "      <td>3.0</td>\n",
       "      <td>5.0</td>\n",
       "    </tr>\n",
       "    <tr>\n",
       "      <th>2635485</th>\n",
       "      <td>1219_3770</td>\n",
       "      <td>1219</td>\n",
       "      <td>3770</td>\n",
       "      <td>-0.559415</td>\n",
       "      <td>0.979489</td>\n",
       "      <td>-1.110491</td>\n",
       "      <td>1.006980</td>\n",
       "      <td>-0.467307</td>\n",
       "      <td>-0.159549</td>\n",
       "      <td>1.355671</td>\n",
       "      <td>...</td>\n",
       "      <td>0.820784</td>\n",
       "      <td>-1.142157</td>\n",
       "      <td>0.421628</td>\n",
       "      <td>-0.363329</td>\n",
       "      <td>1.363181</td>\n",
       "      <td>-0.079106</td>\n",
       "      <td>-1.580124</td>\n",
       "      <td>-0.297625</td>\n",
       "      <td>1.0</td>\n",
       "      <td>5.0</td>\n",
       "    </tr>\n",
       "    <tr>\n",
       "      <th>2635486</th>\n",
       "      <td>1219_3772</td>\n",
       "      <td>1219</td>\n",
       "      <td>3772</td>\n",
       "      <td>0.009599</td>\n",
       "      <td>-2.565332</td>\n",
       "      <td>0.320301</td>\n",
       "      <td>0.076600</td>\n",
       "      <td>1.380182</td>\n",
       "      <td>-0.155366</td>\n",
       "      <td>-0.689000</td>\n",
       "      <td>...</td>\n",
       "      <td>0.133074</td>\n",
       "      <td>-1.142157</td>\n",
       "      <td>0.421628</td>\n",
       "      <td>-0.375288</td>\n",
       "      <td>-1.514277</td>\n",
       "      <td>-0.973762</td>\n",
       "      <td>0.608647</td>\n",
       "      <td>-0.372040</td>\n",
       "      <td>0.0</td>\n",
       "      <td>5.0</td>\n",
       "    </tr>\n",
       "    <tr>\n",
       "      <th>2635487</th>\n",
       "      <td>1219_3773</td>\n",
       "      <td>1219</td>\n",
       "      <td>3773</td>\n",
       "      <td>1.212112</td>\n",
       "      <td>-0.089557</td>\n",
       "      <td>0.190229</td>\n",
       "      <td>-0.548256</td>\n",
       "      <td>0.151205</td>\n",
       "      <td>0.079773</td>\n",
       "      <td>0.447962</td>\n",
       "      <td>...</td>\n",
       "      <td>3.271590</td>\n",
       "      <td>0.875537</td>\n",
       "      <td>0.421628</td>\n",
       "      <td>-0.170709</td>\n",
       "      <td>1.363181</td>\n",
       "      <td>-0.563314</td>\n",
       "      <td>0.669586</td>\n",
       "      <td>0.456400</td>\n",
       "      <td>0.0</td>\n",
       "      <td>5.0</td>\n",
       "    </tr>\n",
       "  </tbody>\n",
       "</table>\n",
       "<p>2635488 rows × 306 columns</p>\n",
       "</div>"
      ],
      "text/plain": [
       "            row_id  time_id  investment_id    target       f_0       f_1  \\\n",
       "0              0_1        0              1 -0.300875  0.932573  0.113691   \n",
       "1              0_2        0              2 -0.231040  0.810802 -0.514115   \n",
       "2              0_6        0              6  0.568807  0.393974  0.615937   \n",
       "3              0_7        0              7 -1.064780 -2.343535 -0.011870   \n",
       "4              0_8        0              8 -0.531940  0.842057 -0.262993   \n",
       "...            ...      ...            ...       ...       ...       ...   \n",
       "2635483  1219_3768     1219           3768  0.033600  0.093530 -0.720275   \n",
       "2635484  1219_3769     1219           3769 -0.223264 -1.344935 -0.199987   \n",
       "2635485  1219_3770     1219           3770 -0.559415  0.979489 -1.110491   \n",
       "2635486  1219_3772     1219           3772  0.009599 -2.565332  0.320301   \n",
       "2635487  1219_3773     1219           3773  1.212112 -0.089557  0.190229   \n",
       "\n",
       "              f_2       f_3       f_4       f_5  ...     f_292     f_293  \\\n",
       "0       -0.402206  0.378386 -0.203938 -0.413469  ...  0.200075  0.819155   \n",
       "1        0.742368 -0.616673 -0.194255  1.771210  ... -0.734579  0.819155   \n",
       "2        0.567806 -0.607963  0.068883 -1.083155  ... -0.551904 -1.220772   \n",
       "3        1.874606 -0.606346 -0.586827 -0.815737  ... -0.266359 -1.220772   \n",
       "4        2.330030 -0.583422 -0.618392 -0.742814  ... -0.741355 -1.220772   \n",
       "...           ...       ...       ...       ...  ...       ...       ...   \n",
       "2635483 -0.345497 -0.438781 -0.166972 -0.437182  ... -0.660579  0.875537   \n",
       "2635484 -0.107702 -0.454677 -0.221914 -0.141174  ... -0.670493  0.875537   \n",
       "2635485  1.006980 -0.467307 -0.159549  1.355671  ...  0.820784 -1.142157   \n",
       "2635486  0.076600  1.380182 -0.155366 -0.689000  ...  0.133074 -1.142157   \n",
       "2635487 -0.548256  0.151205  0.079773  0.447962  ...  3.271590  0.875537   \n",
       "\n",
       "            f_294     f_295     f_296     f_297     f_298     f_299  \\\n",
       "0        0.941183 -0.086764 -1.087009 -1.044826 -0.287605  0.321566   \n",
       "1        0.941183 -0.387617 -1.087009 -0.929529 -0.974060 -0.343624   \n",
       "2       -1.060166 -0.219097 -1.087009 -0.612428 -0.113944  0.243608   \n",
       "3        0.941183 -0.609113  0.104928 -0.783423  1.151730 -0.773309   \n",
       "4        0.941183 -0.588445  0.104928  0.753279  1.345611 -0.737624   \n",
       "...           ...       ...       ...       ...       ...       ...   \n",
       "2635483  0.421628 -0.428097 -0.075548 -0.533092 -0.193732 -0.581394   \n",
       "2635484  0.421628 -0.729949 -1.514277  0.013145 -0.890270 -0.589705   \n",
       "2635485  0.421628 -0.363329  1.363181 -0.079106 -1.580124 -0.297625   \n",
       "2635486  0.421628 -0.375288 -1.514277 -0.973762  0.608647 -0.372040   \n",
       "2635487  0.421628 -0.170709  1.363181 -0.563314  0.669586  0.456400   \n",
       "\n",
       "         group_fold  time_fold  \n",
       "0               4.0        0.0  \n",
       "1               2.0        0.0  \n",
       "2               0.0        0.0  \n",
       "3               2.0        0.0  \n",
       "4               0.0        0.0  \n",
       "...             ...        ...  \n",
       "2635483         3.0        5.0  \n",
       "2635484         3.0        5.0  \n",
       "2635485         1.0        5.0  \n",
       "2635486         0.0        5.0  \n",
       "2635487         0.0        5.0  \n",
       "\n",
       "[2635488 rows x 306 columns]"
      ]
     },
     "execution_count": 16,
     "metadata": {},
     "output_type": "execute_result"
    }
   ],
   "source": [
    "input.train"
   ]
  },
  {
   "cell_type": "code",
   "execution_count": 17,
   "id": "081e43f5-0c9d-4092-8679-7fb4df4ee365",
   "metadata": {},
   "outputs": [
    {
     "data": {
      "text/plain": [
       "1.0    527098\n",
       "4.0    527098\n",
       "2.0    527098\n",
       "3.0    527097\n",
       "0.0    527097\n",
       "Name: group_fold, dtype: int64"
      ]
     },
     "execution_count": 17,
     "metadata": {},
     "output_type": "execute_result"
    }
   ],
   "source": [
    "input.train[\"group_fold\"].value_counts()"
   ]
  },
  {
   "cell_type": "code",
   "execution_count": 18,
   "id": "2849c98d-0b62-4666-b8f4-f57be0decdbe",
   "metadata": {},
   "outputs": [
    {
     "data": {
      "text/plain": [
       "1.0    439248\n",
       "5.0    439248\n",
       "4.0    439248\n",
       "3.0    439248\n",
       "2.0    439248\n",
       "0.0    439248\n",
       "Name: time_fold, dtype: int64"
      ]
     },
     "execution_count": 18,
     "metadata": {},
     "output_type": "execute_result"
    }
   ],
   "source": [
    "input.train[\"time_fold\"].value_counts()"
   ]
  },
  {
   "cell_type": "code",
   "execution_count": 19,
   "id": "2194489c-de5c-40e7-a9b6-c3c74759e7a4",
   "metadata": {},
   "outputs": [
    {
     "data": {
      "text/plain": [
       "group_fold  time_fold\n",
       "1.0         0.0          89294\n",
       "2.0         2.0          88471\n",
       "3.0         1.0          88417\n",
       "1.0         1.0          88367\n",
       "4.0         0.0          88255\n",
       "            3.0          88254\n",
       "            5.0          88228\n",
       "2.0         4.0          88211\n",
       "3.0         4.0          88186\n",
       "2.0         3.0          88158\n",
       "3.0         3.0          88143\n",
       "0.0         5.0          88142\n",
       "            2.0          88079\n",
       "3.0         5.0          88041\n",
       "0.0         3.0          87807\n",
       "            0.0          87758\n",
       "1.0         2.0          87737\n",
       "0.0         4.0          87725\n",
       "            1.0          87586\n",
       "4.0         4.0          87583\n",
       "3.0         2.0          87583\n",
       "2.0         5.0          87566\n",
       "1.0         4.0          87543\n",
       "2.0         1.0          87478\n",
       "4.0         1.0          87400\n",
       "            2.0          87378\n",
       "1.0         5.0          87271\n",
       "2.0         0.0          87214\n",
       "1.0         3.0          86886\n",
       "3.0         0.0          86727\n",
       "dtype: int64"
      ]
     },
     "execution_count": 19,
     "metadata": {},
     "output_type": "execute_result"
    }
   ],
   "source": [
    "input.train[[\"group_fold\", \"time_fold\"]].value_counts()"
   ]
  },
  {
   "cell_type": "code",
   "execution_count": 20,
   "id": "7a94e738-a3e1-4175-b04f-0e3d9f6085ff",
   "metadata": {},
   "outputs": [],
   "source": [
    "from src.make_fold import train_test_split"
   ]
  },
  {
   "cell_type": "code",
   "execution_count": 21,
   "id": "89ad596c-8b29-46ac-8d7c-615b831f5160",
   "metadata": {},
   "outputs": [
    {
     "name": "stdout",
     "output_type": "stream",
     "text": [
      "2022-02-25 21:41:19,553 [INFO] [make_fold] Num of training data: 1753256, num of validation data: 878496\n"
     ]
    }
   ],
   "source": [
    "train_folds, valid_folds = train_test_split(c, input.train, 1)"
   ]
  },
  {
   "cell_type": "code",
   "execution_count": 22,
   "id": "e4b78bfc-5578-4492-a4f4-08989e13196e",
   "metadata": {},
   "outputs": [
    {
     "data": {
      "text/plain": [
       "1753256"
      ]
     },
     "execution_count": 22,
     "metadata": {},
     "output_type": "execute_result"
    }
   ],
   "source": [
    "len(train_folds)"
   ]
  },
  {
   "cell_type": "code",
   "execution_count": 23,
   "id": "0d0bb58e-b402-4281-aa7a-b19df5c7b14b",
   "metadata": {},
   "outputs": [
    {
     "data": {
      "text/plain": [
       "878496"
      ]
     },
     "execution_count": 23,
     "metadata": {},
     "output_type": "execute_result"
    }
   ],
   "source": [
    "len(valid_folds)"
   ]
  },
  {
   "cell_type": "markdown",
   "id": "972c4554-94b4-4316-98ed-604f9e592b9a",
   "metadata": {},
   "source": [
    "## Model"
   ]
  },
  {
   "cell_type": "code",
   "execution_count": 24,
   "id": "ccb5abc9-b37b-40be-b8a6-0e757cba8f1c",
   "metadata": {},
   "outputs": [],
   "source": [
    "from src.make_model import make_model"
   ]
  },
  {
   "cell_type": "code",
   "execution_count": 25,
   "id": "15f09b4b-e38a-4907-b6b9-07de57e3e4c5",
   "metadata": {},
   "outputs": [],
   "source": [
    "# c.params.model = \"ump_1\""
   ]
  },
  {
   "cell_type": "code",
   "execution_count": 26,
   "id": "0eaff286-5a4d-4e05-bd48-caf17f48d57e",
   "metadata": {},
   "outputs": [],
   "source": [
    "model = make_model(c, device)"
   ]
  },
  {
   "cell_type": "code",
   "execution_count": 27,
   "id": "dc67b7ea-a0a7-400a-879e-f38f1c03a829",
   "metadata": {},
   "outputs": [
    {
     "data": {
      "text/plain": [
       "DataParallel(\n",
       "  (module): LSTMModel(\n",
       "    (bn_1): BatchNorm1d(10, eps=1e-05, momentum=0.1, affine=True, track_running_stats=True)\n",
       "    (rnn): LSTM(900, 300, batch_first=True, bidirectional=True)\n",
       "    (head): Linear(in_features=600, out_features=1, bias=True)\n",
       "  )\n",
       ")"
      ]
     },
     "execution_count": 27,
     "metadata": {},
     "output_type": "execute_result"
    }
   ],
   "source": [
    "model"
   ]
  },
  {
   "cell_type": "code",
   "execution_count": 28,
   "id": "9db35f81-fc2d-4641-88fa-35c0409a92ff",
   "metadata": {},
   "outputs": [],
   "source": [
    "input_ = torch.randn(c.params.batch_size, c.params.model_input * 10).to(device)\n",
    "# input_ = torch.randn(c.params.batch_size, c.params.model_window, c.params.model_input).to(device)\n",
    "\n",
    "# num_gpu = len(c.settings.gpus.split(\",\"))\n",
    "# hidden = torch.zeros(1, c.params.batch_size // num_gpu, 300).to(device)\n",
    "# cell = torch.zeros(1, c.params.batch_size // num_gpu, 300).to(device)\n",
    "# hidden_cell = (hidden, cell)"
   ]
  },
  {
   "cell_type": "code",
   "execution_count": 29,
   "id": "f3c6ee7e-9d1f-4c7c-973a-bf9aaead9519",
   "metadata": {},
   "outputs": [
    {
     "data": {
      "text/plain": [
       "torch.Size([640, 9000])"
      ]
     },
     "execution_count": 29,
     "metadata": {},
     "output_type": "execute_result"
    }
   ],
   "source": [
    "input_.size()"
   ]
  },
  {
   "cell_type": "code",
   "execution_count": 30,
   "id": "b06c11c0-d3aa-4388-87b5-9e0f0e432596",
   "metadata": {},
   "outputs": [],
   "source": [
    "res = model(input_)\n",
    "# res, hidden_cell = model(input_, hidden_cell)\n",
    "# res, hidden_cell = model(input_)"
   ]
  },
  {
   "cell_type": "code",
   "execution_count": 31,
   "id": "6de18f3f-b29d-4bc8-bc04-32962075a18c",
   "metadata": {},
   "outputs": [
    {
     "data": {
      "text/plain": [
       "torch.Size([640, 10])"
      ]
     },
     "execution_count": 31,
     "metadata": {},
     "output_type": "execute_result"
    }
   ],
   "source": [
    "res.shape"
   ]
  },
  {
   "cell_type": "code",
   "execution_count": 32,
   "id": "83c2dce5-bb05-4a3d-b8d5-f2101bdc24ad",
   "metadata": {},
   "outputs": [
    {
     "data": {
      "text/plain": [
       "tensor([[-0.0403,  0.0547,  0.2515,  ..., -0.1478, -0.1288, -0.2212],\n",
       "        [-0.0569, -0.0569,  0.1770,  ...,  0.0724, -0.0057, -0.1610],\n",
       "        [ 0.2192,  0.1237,  0.3071,  ..., -0.0595, -0.1566, -0.0493],\n",
       "        ...,\n",
       "        [-0.0457,  0.0742,  0.0134,  ...,  0.1462,  0.1443,  0.0099],\n",
       "        [ 0.1139,  0.0947,  0.3130,  ..., -0.0405, -0.0991,  0.0658],\n",
       "        [ 0.0894,  0.1619, -0.2130,  ...,  0.0745,  0.1992, -0.0068]],\n",
       "       device='cuda:0', dtype=torch.float16, grad_fn=<GatherBackward>)"
      ]
     },
     "execution_count": 32,
     "metadata": {},
     "output_type": "execute_result"
    }
   ],
   "source": [
    "res"
   ]
  },
  {
   "cell_type": "code",
   "execution_count": null,
   "id": "76352e24-6645-465d-a20b-d8267418f71a",
   "metadata": {},
   "outputs": [],
   "source": []
  }
 ],
 "metadata": {
  "kernelspec": {
   "display_name": "py37-all-in-one",
   "language": "python",
   "name": "py37-all-in-one"
  },
  "language_info": {
   "codemirror_mode": {
    "name": "ipython",
    "version": 3
   },
   "file_extension": ".py",
   "mimetype": "text/x-python",
   "name": "python",
   "nbconvert_exporter": "python",
   "pygments_lexer": "ipython3",
   "version": "3.7.0"
  }
 },
 "nbformat": 4,
 "nbformat_minor": 5
}
