{
 "cells": [
  {
   "cell_type": "markdown",
   "id": "3b02d0fe-17b6-4a30-9445-bc035af17743",
   "metadata": {},
   "source": [
    "# PoC"
   ]
  },
  {
   "cell_type": "code",
   "execution_count": 1,
   "id": "e0b3f4d1-ea25-4fbf-a513-3c775fb5a1df",
   "metadata": {},
   "outputs": [],
   "source": [
    "import sys\n",
    "\n",
    "sys.path.append(\"..\")\n",
    "sys.path.append(\"../../inputs\")"
   ]
  },
  {
   "cell_type": "code",
   "execution_count": 2,
   "id": "dc1c3027-9a46-4388-9fd5-07d4b3ba83df",
   "metadata": {},
   "outputs": [],
   "source": [
    "import logging"
   ]
  },
  {
   "cell_type": "code",
   "execution_count": 3,
   "id": "f35bb72f-a032-4e84-8a94-cf0d3501927f",
   "metadata": {},
   "outputs": [],
   "source": [
    "logging.basicConfig(\n",
    "    # filename=__file__.replace('.py', '.log'),\n",
    "    stream=sys.stdout,\n",
    "    level=logging.getLevelName(\"INFO\"),\n",
    "    format=\"%(asctime)s [%(levelname)s] [%(module)s] %(message)s\",\n",
    ")"
   ]
  },
  {
   "cell_type": "code",
   "execution_count": 4,
   "id": "e5210d1b-4683-4387-9e3e-716894134cfd",
   "metadata": {},
   "outputs": [],
   "source": [
    "log = logging.getLogger(__name__)"
   ]
  },
  {
   "cell_type": "code",
   "execution_count": 5,
   "id": "88dc8375-5484-43ff-9228-33906d9420c2",
   "metadata": {},
   "outputs": [],
   "source": [
    "from omegaconf import OmegaConf"
   ]
  },
  {
   "cell_type": "code",
   "execution_count": 6,
   "id": "ebf72915-7219-45e7-bbc7-b2a66db453ca",
   "metadata": {},
   "outputs": [],
   "source": [
    "c = OmegaConf.load(\"../config/main.yaml\")"
   ]
  },
  {
   "cell_type": "code",
   "execution_count": 7,
   "id": "b3478df2-66e3-497d-9a40-1fdb174e11a3",
   "metadata": {},
   "outputs": [],
   "source": [
    "c.settings.debug = False\n",
    "c.wandb.enabled = False\n",
    "c.settings.dirs.working = \"..\"\n",
    "c.settings.dirs.input = \"../../inputs/\"\n",
    "c.settings.dirs.input_minimal = \"../../datasets/inputs/\"\n",
    "c.settings.dirs.preprocess = \"../../inputs/preprocess/\""
   ]
  },
  {
   "cell_type": "code",
   "execution_count": 8,
   "id": "e27e5544-eeab-428a-ab1c-eb8bf456a532",
   "metadata": {},
   "outputs": [
    {
     "name": "stdout",
     "output_type": "stream",
     "text": [
      "2022-02-23 21:02:58,461 [INFO] [3244290467] defaults:\n",
      "- _self_\n",
      "hydra:\n",
      "  run:\n",
      "    dir: ../outputs/${now:%Y-%m-%d_%H-%M-%S}\n",
      "  job_logging:\n",
      "    formatters:\n",
      "      simple:\n",
      "        format: '%(asctime)s [%(levelname)s][%(module)s] %(message)s'\n",
      "wandb:\n",
      "  enabled: false\n",
      "  entity: imokuri\n",
      "  project: ump\n",
      "  dir: ${hydra:runtime.cwd}/../cache\n",
      "  group: default\n",
      "settings:\n",
      "  print_freq: 100\n",
      "  gpus: 1,2,6,7\n",
      "  dirs:\n",
      "    working: ..\n",
      "    input: ../../inputs/\n",
      "    input_minimal: ../../datasets/inputs/\n",
      "    feature: ${settings.dirs.input}features/\n",
      "    preprocess: ../../inputs/preprocess/\n",
      "  inputs:\n",
      "  - train.csv\n",
      "  - example_test.csv\n",
      "  - example_sample_submission.csv\n",
      "  debug: false\n",
      "  n_debug_data: 100000\n",
      "  amp: true\n",
      "  multi_gpu: true\n",
      "  training_method: nn\n",
      "params:\n",
      "  seed: 440\n",
      "  n_class: 1\n",
      "  preprocess: null\n",
      "  pca_n_components: 50\n",
      "  n_fold: 5\n",
      "  skip_training: false\n",
      "  epoch: 10\n",
      "  es_patience: 0\n",
      "  batch_size: 640\n",
      "  gradient_acc_step: 1\n",
      "  max_grad_norm: 1000\n",
      "  fold: combinational_group\n",
      "  group_name: investment_id\n",
      "  time_name: time_id\n",
      "  label_name: target\n",
      "  use_feature: true\n",
      "  feature_set:\n",
      "  - f000\n",
      "  - f200\n",
      "  - f201\n",
      "  - f202\n",
      "  dataset: ump_1\n",
      "  model: ump_1\n",
      "  model_input: 1200\n",
      "  model_window: 10\n",
      "  pretrained: []\n",
      "  criterion: RMSELoss\n",
      "  optimizer: Adam\n",
      "  scheduler: CosineAnnealingWarmupRestarts\n",
      "  lr: 0.001\n",
      "  min_lr: 1.0e-06\n",
      "  weight_decay: 1.0e-05\n",
      "  label_smoothing: 1.0e-06\n",
      "  scoring: pearson\n",
      "\n"
     ]
    }
   ],
   "source": [
    "log.info(OmegaConf.to_yaml(c))"
   ]
  },
  {
   "cell_type": "code",
   "execution_count": 9,
   "id": "d89b2156-0d7e-4af1-8e67-f92deaa8585a",
   "metadata": {},
   "outputs": [],
   "source": [
    "import torch"
   ]
  },
  {
   "cell_type": "code",
   "execution_count": 10,
   "id": "4ac19050-2411-4a11-b908-f1e8ea23f223",
   "metadata": {},
   "outputs": [],
   "source": [
    "import src.utils as utils"
   ]
  },
  {
   "cell_type": "code",
   "execution_count": 11,
   "id": "78f062fa-daf4-42a6-b248-b715a31f23ee",
   "metadata": {},
   "outputs": [
    {
     "name": "stdout",
     "output_type": "stream",
     "text": [
      "2022-02-23 21:03:02,342 [INFO] [utils] CUDA_VISIBLE_DEVICES: 1,2,6,7\n",
      "2022-02-23 21:03:02,407 [INFO] [utils] torch device: cuda, device count: 4\n"
     ]
    }
   ],
   "source": [
    "device = utils.gpu_settings(c)"
   ]
  },
  {
   "cell_type": "markdown",
   "id": "e65e2cd0-b228-46ef-896d-cf82e20e693a",
   "metadata": {},
   "source": [
    "## Preprocess"
   ]
  },
  {
   "cell_type": "code",
   "execution_count": 12,
   "id": "a5e5469b-9229-4af6-a049-c4d4b09d1d6f",
   "metadata": {},
   "outputs": [
    {
     "name": "stdout",
     "output_type": "stream",
     "text": [
      "2022-02-23 20:51:16,128 [INFO] [loader] Loading faiss with AVX2 support.\n",
      "2022-02-23 20:51:16,248 [INFO] [loader] Successfully loaded faiss with AVX2 support.\n"
     ]
    }
   ],
   "source": [
    "from src.load_data import InputData"
   ]
  },
  {
   "cell_type": "code",
   "execution_count": null,
   "id": "3ab02525-1930-4d5f-b55e-b38c703ef153",
   "metadata": {},
   "outputs": [
    {
     "name": "stdout",
     "output_type": "stream",
     "text": [
      "2022-02-23 20:51:16,284 [INFO] [load_data] Load feather file. path: ../../inputs/train.f\n"
     ]
    }
   ],
   "source": [
    "input = InputData(c)"
   ]
  },
  {
   "cell_type": "code",
   "execution_count": null,
   "id": "6d4ad746-645e-41c7-b9d7-f0506018f4d0",
   "metadata": {},
   "outputs": [],
   "source": [
    "input.train.describe()"
   ]
  },
  {
   "cell_type": "code",
   "execution_count": null,
   "id": "9442d474-d04c-45ec-90d8-5d95e62e2d65",
   "metadata": {},
   "outputs": [],
   "source": []
  },
  {
   "cell_type": "markdown",
   "id": "13aab07b-6b2c-44e3-89bd-3cdd852303ef",
   "metadata": {},
   "source": [
    "## Fold"
   ]
  },
  {
   "cell_type": "code",
   "execution_count": null,
   "id": "6868a75d-ce76-4f0f-8852-f4e726b0effa",
   "metadata": {},
   "outputs": [],
   "source": [
    "input.train.fillna({\"time_fold\": c.params.n_fold}, inplace=True)"
   ]
  },
  {
   "cell_type": "code",
   "execution_count": null,
   "id": "c4da8214-5d7d-452b-842c-52c51629c59b",
   "metadata": {},
   "outputs": [],
   "source": [
    "input.train"
   ]
  },
  {
   "cell_type": "code",
   "execution_count": null,
   "id": "081e43f5-0c9d-4092-8679-7fb4df4ee365",
   "metadata": {},
   "outputs": [],
   "source": [
    "input.train[\"group_fold\"].value_counts()"
   ]
  },
  {
   "cell_type": "code",
   "execution_count": null,
   "id": "2849c98d-0b62-4666-b8f4-f57be0decdbe",
   "metadata": {},
   "outputs": [],
   "source": [
    "input.train[\"time_fold\"].value_counts()"
   ]
  },
  {
   "cell_type": "code",
   "execution_count": null,
   "id": "2194489c-de5c-40e7-a9b6-c3c74759e7a4",
   "metadata": {},
   "outputs": [],
   "source": [
    "input.train[[\"group_fold\", \"time_fold\"]].value_counts()"
   ]
  },
  {
   "cell_type": "code",
   "execution_count": null,
   "id": "7a94e738-a3e1-4175-b04f-0e3d9f6085ff",
   "metadata": {},
   "outputs": [],
   "source": [
    "from src.make_fold import train_test_split"
   ]
  },
  {
   "cell_type": "code",
   "execution_count": null,
   "id": "89ad596c-8b29-46ac-8d7c-615b831f5160",
   "metadata": {},
   "outputs": [],
   "source": [
    "train_folds, valid_folds = train_test_split(c, input.train, 1)"
   ]
  },
  {
   "cell_type": "code",
   "execution_count": null,
   "id": "e4b78bfc-5578-4492-a4f4-08989e13196e",
   "metadata": {},
   "outputs": [],
   "source": [
    "len(train_folds)"
   ]
  },
  {
   "cell_type": "code",
   "execution_count": null,
   "id": "0d0bb58e-b402-4281-aa7a-b19df5c7b14b",
   "metadata": {},
   "outputs": [],
   "source": [
    "len(valid_folds)"
   ]
  },
  {
   "cell_type": "markdown",
   "id": "972c4554-94b4-4316-98ed-604f9e592b9a",
   "metadata": {},
   "source": [
    "## Model"
   ]
  },
  {
   "cell_type": "code",
   "execution_count": 12,
   "id": "ccb5abc9-b37b-40be-b8a6-0e757cba8f1c",
   "metadata": {},
   "outputs": [],
   "source": [
    "from src.make_model import make_model"
   ]
  },
  {
   "cell_type": "code",
   "execution_count": 13,
   "id": "15f09b4b-e38a-4907-b6b9-07de57e3e4c5",
   "metadata": {},
   "outputs": [],
   "source": [
    "# c.params.model = \"ump_1\""
   ]
  },
  {
   "cell_type": "code",
   "execution_count": 14,
   "id": "0eaff286-5a4d-4e05-bd48-caf17f48d57e",
   "metadata": {},
   "outputs": [],
   "source": [
    "model = make_model(c, device)"
   ]
  },
  {
   "cell_type": "code",
   "execution_count": 15,
   "id": "dc67b7ea-a0a7-400a-879e-f38f1c03a829",
   "metadata": {},
   "outputs": [
    {
     "data": {
      "text/plain": [
       "DataParallel(\n",
       "  (module): MLPModel(\n",
       "    (bn_1): BatchNorm1d(1200, eps=1e-05, momentum=0.1, affine=True, track_running_stats=True)\n",
       "    (fc_1): Linear(in_features=1200, out_features=1200, bias=True)\n",
       "    (fc_2): Linear(in_features=1200, out_features=600, bias=True)\n",
       "    (fc_3): Linear(in_features=600, out_features=300, bias=True)\n",
       "    (fc_4): Linear(in_features=300, out_features=150, bias=True)\n",
       "    (head): Linear(in_features=150, out_features=1, bias=True)\n",
       "  )\n",
       ")"
      ]
     },
     "execution_count": 15,
     "metadata": {},
     "output_type": "execute_result"
    }
   ],
   "source": [
    "model"
   ]
  },
  {
   "cell_type": "code",
   "execution_count": 16,
   "id": "9db35f81-fc2d-4641-88fa-35c0409a92ff",
   "metadata": {},
   "outputs": [],
   "source": [
    "input_ = torch.randn(c.params.batch_size, c.params.model_input).to(device)\n",
    "# input_ = torch.randn(c.params.batch_size, c.params.model_window, c.params.model_input).to(device)\n",
    "\n",
    "# num_gpu = len(c.settings.gpus.split(\",\"))\n",
    "# hidden = torch.zeros(1, c.params.batch_size // num_gpu, 300).to(device)\n",
    "# cell = torch.zeros(1, c.params.batch_size // num_gpu, 300).to(device)\n",
    "# hidden_cell = (hidden, cell)"
   ]
  },
  {
   "cell_type": "code",
   "execution_count": 17,
   "id": "f3c6ee7e-9d1f-4c7c-973a-bf9aaead9519",
   "metadata": {},
   "outputs": [
    {
     "data": {
      "text/plain": [
       "torch.Size([640, 1200])"
      ]
     },
     "execution_count": 17,
     "metadata": {},
     "output_type": "execute_result"
    }
   ],
   "source": [
    "input_.size()"
   ]
  },
  {
   "cell_type": "code",
   "execution_count": 18,
   "id": "b06c11c0-d3aa-4388-87b5-9e0f0e432596",
   "metadata": {},
   "outputs": [],
   "source": [
    "res = model(input_)\n",
    "# res, hidden_cell = model(input_, hidden_cell)\n",
    "# res, hidden_cell = model(input_)"
   ]
  },
  {
   "cell_type": "code",
   "execution_count": 19,
   "id": "6de18f3f-b29d-4bc8-bc04-32962075a18c",
   "metadata": {},
   "outputs": [
    {
     "data": {
      "text/plain": [
       "torch.Size([640])"
      ]
     },
     "execution_count": 19,
     "metadata": {},
     "output_type": "execute_result"
    }
   ],
   "source": [
    "res.shape"
   ]
  },
  {
   "cell_type": "code",
   "execution_count": 20,
   "id": "83c2dce5-bb05-4a3d-b8d5-f2101bdc24ad",
   "metadata": {},
   "outputs": [
    {
     "data": {
      "text/plain": [
       "tensor([-0.0347, -0.0347, -0.0326, -0.0423, -0.0451, -0.0416, -0.0492, -0.0407,\n",
       "        -0.0433, -0.0388, -0.0417, -0.0433, -0.0372, -0.0466, -0.0405, -0.0416,\n",
       "        -0.0375, -0.0389, -0.0367, -0.0436, -0.0344, -0.0459, -0.0380, -0.0429,\n",
       "        -0.0372, -0.0475, -0.0394, -0.0402, -0.0399, -0.0335, -0.0376, -0.0386,\n",
       "        -0.0421, -0.0390, -0.0384, -0.0422, -0.0467, -0.0380, -0.0401, -0.0322,\n",
       "        -0.0332, -0.0365, -0.0313, -0.0392, -0.0343, -0.0355, -0.0362, -0.0347,\n",
       "        -0.0318, -0.0419, -0.0421, -0.0349, -0.0415, -0.0384, -0.0375, -0.0421,\n",
       "        -0.0451, -0.0361, -0.0482, -0.0298, -0.0397, -0.0409, -0.0407, -0.0453,\n",
       "        -0.0366, -0.0469, -0.0464, -0.0379, -0.0443, -0.0392, -0.0406, -0.0363,\n",
       "        -0.0354, -0.0349, -0.0447, -0.0414, -0.0392, -0.0469, -0.0400, -0.0427,\n",
       "        -0.0359, -0.0517, -0.0354, -0.0406, -0.0355, -0.0437, -0.0428, -0.0413,\n",
       "        -0.0454, -0.0409, -0.0429, -0.0475, -0.0498, -0.0372, -0.0396, -0.0471,\n",
       "        -0.0354, -0.0412, -0.0407, -0.0387, -0.0451, -0.0486, -0.0431, -0.0327,\n",
       "        -0.0327, -0.0514, -0.0538, -0.0390, -0.0480, -0.0357, -0.0314, -0.0432,\n",
       "        -0.0347, -0.0385, -0.0487, -0.0490, -0.0407, -0.0409, -0.0345, -0.0431,\n",
       "        -0.0391, -0.0383, -0.0422, -0.0396, -0.0405, -0.0445, -0.0419, -0.0383,\n",
       "        -0.0417, -0.0354, -0.0373, -0.0378, -0.0406, -0.0260, -0.0516, -0.0403,\n",
       "        -0.0457, -0.0441, -0.0400, -0.0453, -0.0384, -0.0456, -0.0382, -0.0433,\n",
       "        -0.0410, -0.0427, -0.0419, -0.0443, -0.0376, -0.0385, -0.0387, -0.0445,\n",
       "        -0.0308, -0.0468, -0.0500, -0.0403, -0.0334, -0.0390, -0.0368, -0.0339,\n",
       "        -0.0371, -0.0428, -0.0425, -0.0413, -0.0390, -0.0434, -0.0396, -0.0364,\n",
       "        -0.0393, -0.0447, -0.0371, -0.0422, -0.0450, -0.0427, -0.0427, -0.0392,\n",
       "        -0.0488, -0.0370, -0.0421, -0.0343, -0.0449, -0.0498, -0.0447, -0.0380,\n",
       "        -0.0422, -0.0386, -0.0349, -0.0377, -0.0471, -0.0398, -0.0342, -0.0383,\n",
       "        -0.0357, -0.0389, -0.0319, -0.0344, -0.0412, -0.0424, -0.0489, -0.0396,\n",
       "        -0.0429, -0.0419, -0.0404, -0.0345, -0.0391, -0.0378, -0.0422, -0.0425,\n",
       "        -0.0432, -0.0424, -0.0448, -0.0347, -0.0391, -0.0375, -0.0454, -0.0347,\n",
       "        -0.0396, -0.0440, -0.0473, -0.0432, -0.0401, -0.0376, -0.0354, -0.0432,\n",
       "        -0.0434, -0.0416, -0.0400, -0.0377, -0.0466, -0.0367, -0.0416, -0.0476,\n",
       "        -0.0407, -0.0446, -0.0415, -0.0358, -0.0562, -0.0451, -0.0460, -0.0405,\n",
       "        -0.0356, -0.0333, -0.0417, -0.0344, -0.0398, -0.0393, -0.0409, -0.0359,\n",
       "        -0.0504, -0.0390, -0.0332, -0.0309, -0.0410, -0.0414, -0.0385, -0.0389,\n",
       "        -0.0355, -0.0401, -0.0473, -0.0412, -0.0456, -0.0298, -0.0370, -0.0337,\n",
       "        -0.0385, -0.0345, -0.0331, -0.0477, -0.0348, -0.0437, -0.0443, -0.0403,\n",
       "        -0.0409, -0.0410, -0.0534, -0.0442, -0.0377, -0.0403, -0.0367, -0.0445,\n",
       "        -0.0316, -0.0354, -0.0394, -0.0402, -0.0387, -0.0395, -0.0398, -0.0402,\n",
       "        -0.0395, -0.0363, -0.0418, -0.0331, -0.0328, -0.0414, -0.0352, -0.0453,\n",
       "        -0.0391, -0.0367, -0.0403, -0.0439, -0.0409, -0.0461, -0.0370, -0.0415,\n",
       "        -0.0368, -0.0461, -0.0390, -0.0428, -0.0423, -0.0363, -0.0448, -0.0418,\n",
       "        -0.0459, -0.0395, -0.0409, -0.0490, -0.0424, -0.0394, -0.0422, -0.0312,\n",
       "        -0.0442, -0.0356, -0.0506, -0.0422, -0.0388, -0.0432, -0.0411, -0.0468,\n",
       "        -0.0424, -0.0453, -0.0346, -0.0422, -0.0364, -0.0337, -0.0413, -0.0439,\n",
       "        -0.0406, -0.0354, -0.0372, -0.0442, -0.0428, -0.0392, -0.0357, -0.0392,\n",
       "        -0.0516, -0.0461, -0.0388, -0.0386, -0.0477, -0.0483, -0.0390, -0.0444,\n",
       "        -0.0504, -0.0472, -0.0416, -0.0434, -0.0418, -0.0385, -0.0497, -0.0376,\n",
       "        -0.0349, -0.0413, -0.0353, -0.0361, -0.0367, -0.0382, -0.0402, -0.0362,\n",
       "        -0.0407, -0.0417, -0.0376, -0.0393, -0.0307, -0.0386, -0.0395, -0.0347,\n",
       "        -0.0389, -0.0355, -0.0470, -0.0416, -0.0424, -0.0539, -0.0404, -0.0385,\n",
       "        -0.0426, -0.0402, -0.0436, -0.0424, -0.0426, -0.0454, -0.0358, -0.0444,\n",
       "        -0.0368, -0.0441, -0.0411, -0.0446, -0.0326, -0.0431, -0.0435, -0.0351,\n",
       "        -0.0421, -0.0433, -0.0351, -0.0479, -0.0386, -0.0448, -0.0420, -0.0372,\n",
       "        -0.0327, -0.0417, -0.0403, -0.0406, -0.0294, -0.0383, -0.0383, -0.0382,\n",
       "        -0.0399, -0.0345, -0.0473, -0.0421, -0.0457, -0.0345, -0.0427, -0.0401,\n",
       "        -0.0357, -0.0371, -0.0444, -0.0431, -0.0370, -0.0371, -0.0393, -0.0482,\n",
       "        -0.0493, -0.0375, -0.0346, -0.0333, -0.0388, -0.0453, -0.0331, -0.0400,\n",
       "        -0.0368, -0.0457, -0.0410, -0.0358, -0.0488, -0.0376, -0.0323, -0.0473,\n",
       "        -0.0378, -0.0391, -0.0339, -0.0335, -0.0410, -0.0417, -0.0414, -0.0463,\n",
       "        -0.0402, -0.0413, -0.0395, -0.0365, -0.0333, -0.0316, -0.0439, -0.0322,\n",
       "        -0.0417, -0.0424, -0.0365, -0.0402, -0.0388, -0.0467, -0.0336, -0.0441,\n",
       "        -0.0437, -0.0363, -0.0432, -0.0429, -0.0407, -0.0425, -0.0334, -0.0341,\n",
       "        -0.0417, -0.0418, -0.0427, -0.0297, -0.0374, -0.0451, -0.0439, -0.0417,\n",
       "        -0.0386, -0.0405, -0.0383, -0.0347, -0.0460, -0.0417, -0.0469, -0.0442,\n",
       "        -0.0434, -0.0423, -0.0383, -0.0396, -0.0292, -0.0381, -0.0435, -0.0431,\n",
       "        -0.0345, -0.0394, -0.0442, -0.0348, -0.0411, -0.0397, -0.0383, -0.0396,\n",
       "        -0.0411, -0.0471, -0.0442, -0.0382, -0.0488, -0.0388, -0.0343, -0.0318,\n",
       "        -0.0386, -0.0389, -0.0318, -0.0344, -0.0428, -0.0458, -0.0428, -0.0408,\n",
       "        -0.0405, -0.0367, -0.0395, -0.0471, -0.0391, -0.0356, -0.0485, -0.0352,\n",
       "        -0.0288, -0.0359, -0.0365, -0.0415, -0.0429, -0.0364, -0.0430, -0.0394,\n",
       "        -0.0373, -0.0330, -0.0456, -0.0491, -0.0387, -0.0437, -0.0370, -0.0383,\n",
       "        -0.0520, -0.0374, -0.0441, -0.0421, -0.0437, -0.0419, -0.0478, -0.0409,\n",
       "        -0.0399, -0.0397, -0.0434, -0.0429, -0.0445, -0.0363, -0.0340, -0.0422,\n",
       "        -0.0487, -0.0366, -0.0392, -0.0416, -0.0381, -0.0474, -0.0407, -0.0420,\n",
       "        -0.0373, -0.0514, -0.0436, -0.0395, -0.0434, -0.0417, -0.0410, -0.0389,\n",
       "        -0.0370, -0.0341, -0.0375, -0.0428, -0.0339, -0.0479, -0.0361, -0.0349,\n",
       "        -0.0384, -0.0433, -0.0405, -0.0484, -0.0414, -0.0304, -0.0407, -0.0370,\n",
       "        -0.0331, -0.0334, -0.0421, -0.0411, -0.0372, -0.0384, -0.0462, -0.0451,\n",
       "        -0.0411, -0.0445, -0.0402, -0.0470, -0.0366, -0.0389, -0.0494, -0.0423,\n",
       "        -0.0425, -0.0408, -0.0432, -0.0386, -0.0416, -0.0394, -0.0314, -0.0358,\n",
       "        -0.0419, -0.0399, -0.0433, -0.0443, -0.0448, -0.0381, -0.0434, -0.0437,\n",
       "        -0.0370, -0.0505, -0.0434, -0.0480, -0.0497, -0.0493, -0.0397, -0.0332],\n",
       "       device='cuda:0', dtype=torch.float16, grad_fn=<GatherBackward>)"
      ]
     },
     "execution_count": 20,
     "metadata": {},
     "output_type": "execute_result"
    }
   ],
   "source": [
    "res"
   ]
  },
  {
   "cell_type": "code",
   "execution_count": null,
   "id": "76352e24-6645-465d-a20b-d8267418f71a",
   "metadata": {},
   "outputs": [],
   "source": []
  }
 ],
 "metadata": {
  "kernelspec": {
   "display_name": "py37-all-in-one",
   "language": "python",
   "name": "py37-all-in-one"
  },
  "language_info": {
   "codemirror_mode": {
    "name": "ipython",
    "version": 3
   },
   "file_extension": ".py",
   "mimetype": "text/x-python",
   "name": "python",
   "nbconvert_exporter": "python",
   "pygments_lexer": "ipython3",
   "version": "3.7.0"
  }
 },
 "nbformat": 4,
 "nbformat_minor": 5
}
