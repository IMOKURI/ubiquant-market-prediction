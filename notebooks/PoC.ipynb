{
 "cells": [
  {
   "cell_type": "markdown",
   "id": "3b02d0fe-17b6-4a30-9445-bc035af17743",
   "metadata": {},
   "source": [
    "# PoC"
   ]
  },
  {
   "cell_type": "code",
   "execution_count": 1,
   "id": "e0b3f4d1-ea25-4fbf-a513-3c775fb5a1df",
   "metadata": {},
   "outputs": [],
   "source": [
    "import sys\n",
    "\n",
    "sys.path.append(\"..\")\n",
    "sys.path.append(\"../../inputs\")"
   ]
  },
  {
   "cell_type": "code",
   "execution_count": 2,
   "id": "dc1c3027-9a46-4388-9fd5-07d4b3ba83df",
   "metadata": {},
   "outputs": [],
   "source": [
    "import logging"
   ]
  },
  {
   "cell_type": "code",
   "execution_count": 3,
   "id": "f35bb72f-a032-4e84-8a94-cf0d3501927f",
   "metadata": {},
   "outputs": [],
   "source": [
    "logging.basicConfig(\n",
    "    # filename=__file__.replace('.py', '.log'),\n",
    "    level=logging.getLevelName(\"INFO\"),\n",
    "    format=\"%(asctime)s [%(levelname)s] [%(module)s] %(message)s\",\n",
    ")"
   ]
  },
  {
   "cell_type": "code",
   "execution_count": 4,
   "id": "e5210d1b-4683-4387-9e3e-716894134cfd",
   "metadata": {},
   "outputs": [],
   "source": [
    "log = logging.getLogger(__name__)"
   ]
  },
  {
   "cell_type": "code",
   "execution_count": 5,
   "id": "88dc8375-5484-43ff-9228-33906d9420c2",
   "metadata": {},
   "outputs": [],
   "source": [
    "from omegaconf import OmegaConf"
   ]
  },
  {
   "cell_type": "code",
   "execution_count": 6,
   "id": "ebf72915-7219-45e7-bbc7-b2a66db453ca",
   "metadata": {},
   "outputs": [],
   "source": [
    "c = OmegaConf.load(\"../config/main.yaml\")"
   ]
  },
  {
   "cell_type": "code",
   "execution_count": 7,
   "id": "b3478df2-66e3-497d-9a40-1fdb174e11a3",
   "metadata": {},
   "outputs": [],
   "source": [
    "c.settings.debug = False\n",
    "c.wandb.enabled = False\n",
    "c.settings.dirs.working = \"..\"\n",
    "c.settings.dirs.input = \"../../inputs/\"\n",
    "\n",
    "c.params.model = \"ump_1dcnn\""
   ]
  },
  {
   "cell_type": "code",
   "execution_count": 8,
   "id": "e27e5544-eeab-428a-ab1c-eb8bf456a532",
   "metadata": {},
   "outputs": [
    {
     "name": "stderr",
     "output_type": "stream",
     "text": [
      "2022-02-01 22:20:07,770 [INFO] [3244290467] defaults:\n",
      "- _self_\n",
      "hydra:\n",
      "  run:\n",
      "    dir: ../outputs/${now:%Y-%m-%d_%H-%M-%S}\n",
      "  job_logging:\n",
      "    formatters:\n",
      "      simple:\n",
      "        format: '%(asctime)s [%(levelname)s][%(module)s] %(message)s'\n",
      "wandb:\n",
      "  enabled: false\n",
      "  entity: imokuri\n",
      "  project: ump\n",
      "  dir: ${hydra:runtime.cwd}/../cache\n",
      "  group: default\n",
      "settings:\n",
      "  print_freq: 100\n",
      "  gpus: 6,7\n",
      "  dirs:\n",
      "    working: ..\n",
      "    input: ../../inputs/\n",
      "  inputs:\n",
      "  - train.csv\n",
      "  - example_test.csv\n",
      "  - example_sample_submission.csv\n",
      "  debug: false\n",
      "  n_debug_data: 100000\n",
      "  amp: true\n",
      "  multi_gpu: true\n",
      "params:\n",
      "  seed: 440\n",
      "  n_class: 1\n",
      "  n_fold: 5\n",
      "  skip_training: false\n",
      "  epoch: 20\n",
      "  es_patience: 0\n",
      "  batch_size: 640\n",
      "  gradient_acc_step: 1\n",
      "  max_grad_norm: 1000\n",
      "  fold: simple_cpcv\n",
      "  group_name: investment_id\n",
      "  time_name: time_id\n",
      "  label_name: target\n",
      "  feature_set:\n",
      "  - f000\n",
      "  dataset: ump_1\n",
      "  model: ump_1dcnn\n",
      "  pretrained: []\n",
      "  criterion: RMSELoss\n",
      "  optimizer: Adam\n",
      "  scheduler: CosineAnnealingWarmupRestarts\n",
      "  lr: 0.001\n",
      "  min_lr: 1.0e-06\n",
      "  weight_decay: 1.0e-05\n",
      "  label_smoothing: 1.0e-06\n",
      "  scoring: pearson\n",
      "\n"
     ]
    }
   ],
   "source": [
    "log.info(OmegaConf.to_yaml(c))"
   ]
  },
  {
   "cell_type": "code",
   "execution_count": 9,
   "id": "d89b2156-0d7e-4af1-8e67-f92deaa8585a",
   "metadata": {},
   "outputs": [],
   "source": [
    "import torch"
   ]
  },
  {
   "cell_type": "code",
   "execution_count": 10,
   "id": "4ac19050-2411-4a11-b908-f1e8ea23f223",
   "metadata": {},
   "outputs": [],
   "source": [
    "import src.utils as utils"
   ]
  },
  {
   "cell_type": "code",
   "execution_count": 11,
   "id": "78f062fa-daf4-42a6-b248-b715a31f23ee",
   "metadata": {},
   "outputs": [
    {
     "name": "stderr",
     "output_type": "stream",
     "text": [
      "2022-02-01 22:20:09,149 [INFO] [utils] CUDA_VISIBLE_DEVICES: 6,7\n",
      "2022-02-01 22:20:09,205 [INFO] [utils] torch device: cuda, device count: 2\n"
     ]
    }
   ],
   "source": [
    "device = utils.gpu_settings(c)"
   ]
  },
  {
   "cell_type": "markdown",
   "id": "13aab07b-6b2c-44e3-89bd-3cdd852303ef",
   "metadata": {},
   "source": [
    "## Fold"
   ]
  },
  {
   "cell_type": "code",
   "execution_count": 12,
   "id": "a5e5469b-9229-4af6-a049-c4d4b09d1d6f",
   "metadata": {},
   "outputs": [],
   "source": [
    "from src.load_data import InputData"
   ]
  },
  {
   "cell_type": "code",
   "execution_count": 13,
   "id": "3ab02525-1930-4d5f-b55e-b38c703ef153",
   "metadata": {},
   "outputs": [
    {
     "name": "stderr",
     "output_type": "stream",
     "text": [
      "2022-02-01 22:20:09,472 [INFO] [load_data] Load feather file. path: ../../inputs/train.f\n",
      "2022-02-01 22:20:37,115 [INFO] [utils] Mem. usage decreased to 366Mb: 49% reduction\n",
      "2022-02-01 22:20:37,152 [INFO] [load_data] Load feather file. path: ../../inputs/example_test.f\n",
      "2022-02-01 22:20:37,340 [INFO] [utils] Mem. usage decreased to 0.0Mb: 49% reduction\n",
      "2022-02-01 22:20:37,341 [INFO] [load_data] Load feather file. path: ../../inputs/example_sample_submission.f\n",
      "2022-02-01 22:20:37,347 [INFO] [utils] Mem. usage decreased to 0.0Mb: 34% reduction\n"
     ]
    }
   ],
   "source": [
    "input = InputData(c)"
   ]
  },
  {
   "cell_type": "code",
   "execution_count": 14,
   "id": "6868a75d-ce76-4f0f-8852-f4e726b0effa",
   "metadata": {},
   "outputs": [],
   "source": [
    "input.train.fillna({\"time_fold\": c.params.n_fold}, inplace=True)"
   ]
  },
  {
   "cell_type": "code",
   "execution_count": 15,
   "id": "c4da8214-5d7d-452b-842c-52c51629c59b",
   "metadata": {},
   "outputs": [
    {
     "data": {
      "text/html": [
       "<div>\n",
       "<style scoped>\n",
       "    .dataframe tbody tr th:only-of-type {\n",
       "        vertical-align: middle;\n",
       "    }\n",
       "\n",
       "    .dataframe tbody tr th {\n",
       "        vertical-align: top;\n",
       "    }\n",
       "\n",
       "    .dataframe thead th {\n",
       "        text-align: right;\n",
       "    }\n",
       "</style>\n",
       "<table border=\"1\" class=\"dataframe\">\n",
       "  <thead>\n",
       "    <tr style=\"text-align: right;\">\n",
       "      <th></th>\n",
       "      <th>row_id</th>\n",
       "      <th>time_id</th>\n",
       "      <th>investment_id</th>\n",
       "      <th>target</th>\n",
       "      <th>f_0</th>\n",
       "      <th>f_1</th>\n",
       "      <th>f_2</th>\n",
       "      <th>f_3</th>\n",
       "      <th>f_4</th>\n",
       "      <th>f_5</th>\n",
       "      <th>...</th>\n",
       "      <th>f_292</th>\n",
       "      <th>f_293</th>\n",
       "      <th>f_294</th>\n",
       "      <th>f_295</th>\n",
       "      <th>f_296</th>\n",
       "      <th>f_297</th>\n",
       "      <th>f_298</th>\n",
       "      <th>f_299</th>\n",
       "      <th>group_fold</th>\n",
       "      <th>time_fold</th>\n",
       "    </tr>\n",
       "  </thead>\n",
       "  <tbody>\n",
       "    <tr>\n",
       "      <th>0</th>\n",
       "      <td>0_1</td>\n",
       "      <td>0</td>\n",
       "      <td>1</td>\n",
       "      <td>-0.300875</td>\n",
       "      <td>0.932573</td>\n",
       "      <td>0.113691</td>\n",
       "      <td>-0.402206</td>\n",
       "      <td>0.378386</td>\n",
       "      <td>-0.203938</td>\n",
       "      <td>-0.413469</td>\n",
       "      <td>...</td>\n",
       "      <td>0.200075</td>\n",
       "      <td>0.819155</td>\n",
       "      <td>0.941183</td>\n",
       "      <td>-0.086764</td>\n",
       "      <td>-1.087009</td>\n",
       "      <td>-1.044826</td>\n",
       "      <td>-0.287605</td>\n",
       "      <td>0.321566</td>\n",
       "      <td>1.0</td>\n",
       "      <td>0.0</td>\n",
       "    </tr>\n",
       "    <tr>\n",
       "      <th>1</th>\n",
       "      <td>0_2</td>\n",
       "      <td>0</td>\n",
       "      <td>2</td>\n",
       "      <td>-0.231040</td>\n",
       "      <td>0.810802</td>\n",
       "      <td>-0.514115</td>\n",
       "      <td>0.742368</td>\n",
       "      <td>-0.616673</td>\n",
       "      <td>-0.194255</td>\n",
       "      <td>1.771210</td>\n",
       "      <td>...</td>\n",
       "      <td>-0.734579</td>\n",
       "      <td>0.819155</td>\n",
       "      <td>0.941183</td>\n",
       "      <td>-0.387617</td>\n",
       "      <td>-1.087009</td>\n",
       "      <td>-0.929529</td>\n",
       "      <td>-0.974060</td>\n",
       "      <td>-0.343624</td>\n",
       "      <td>3.0</td>\n",
       "      <td>0.0</td>\n",
       "    </tr>\n",
       "    <tr>\n",
       "      <th>2</th>\n",
       "      <td>0_6</td>\n",
       "      <td>0</td>\n",
       "      <td>6</td>\n",
       "      <td>0.568807</td>\n",
       "      <td>0.393974</td>\n",
       "      <td>0.615937</td>\n",
       "      <td>0.567806</td>\n",
       "      <td>-0.607963</td>\n",
       "      <td>0.068883</td>\n",
       "      <td>-1.083155</td>\n",
       "      <td>...</td>\n",
       "      <td>-0.551904</td>\n",
       "      <td>-1.220772</td>\n",
       "      <td>-1.060166</td>\n",
       "      <td>-0.219097</td>\n",
       "      <td>-1.087009</td>\n",
       "      <td>-0.612428</td>\n",
       "      <td>-0.113944</td>\n",
       "      <td>0.243608</td>\n",
       "      <td>0.0</td>\n",
       "      <td>0.0</td>\n",
       "    </tr>\n",
       "    <tr>\n",
       "      <th>3</th>\n",
       "      <td>0_7</td>\n",
       "      <td>0</td>\n",
       "      <td>7</td>\n",
       "      <td>-1.064780</td>\n",
       "      <td>-2.343535</td>\n",
       "      <td>-0.011870</td>\n",
       "      <td>1.874606</td>\n",
       "      <td>-0.606346</td>\n",
       "      <td>-0.586827</td>\n",
       "      <td>-0.815737</td>\n",
       "      <td>...</td>\n",
       "      <td>-0.266359</td>\n",
       "      <td>-1.220772</td>\n",
       "      <td>0.941183</td>\n",
       "      <td>-0.609113</td>\n",
       "      <td>0.104928</td>\n",
       "      <td>-0.783423</td>\n",
       "      <td>1.151730</td>\n",
       "      <td>-0.773309</td>\n",
       "      <td>4.0</td>\n",
       "      <td>0.0</td>\n",
       "    </tr>\n",
       "    <tr>\n",
       "      <th>4</th>\n",
       "      <td>0_8</td>\n",
       "      <td>0</td>\n",
       "      <td>8</td>\n",
       "      <td>-0.531940</td>\n",
       "      <td>0.842057</td>\n",
       "      <td>-0.262993</td>\n",
       "      <td>2.330030</td>\n",
       "      <td>-0.583422</td>\n",
       "      <td>-0.618392</td>\n",
       "      <td>-0.742814</td>\n",
       "      <td>...</td>\n",
       "      <td>-0.741355</td>\n",
       "      <td>-1.220772</td>\n",
       "      <td>0.941183</td>\n",
       "      <td>-0.588445</td>\n",
       "      <td>0.104928</td>\n",
       "      <td>0.753279</td>\n",
       "      <td>1.345611</td>\n",
       "      <td>-0.737624</td>\n",
       "      <td>3.0</td>\n",
       "      <td>0.0</td>\n",
       "    </tr>\n",
       "    <tr>\n",
       "      <th>...</th>\n",
       "      <td>...</td>\n",
       "      <td>...</td>\n",
       "      <td>...</td>\n",
       "      <td>...</td>\n",
       "      <td>...</td>\n",
       "      <td>...</td>\n",
       "      <td>...</td>\n",
       "      <td>...</td>\n",
       "      <td>...</td>\n",
       "      <td>...</td>\n",
       "      <td>...</td>\n",
       "      <td>...</td>\n",
       "      <td>...</td>\n",
       "      <td>...</td>\n",
       "      <td>...</td>\n",
       "      <td>...</td>\n",
       "      <td>...</td>\n",
       "      <td>...</td>\n",
       "      <td>...</td>\n",
       "      <td>...</td>\n",
       "      <td>...</td>\n",
       "    </tr>\n",
       "    <tr>\n",
       "      <th>3141405</th>\n",
       "      <td>1219_3768</td>\n",
       "      <td>1219</td>\n",
       "      <td>3768</td>\n",
       "      <td>0.033600</td>\n",
       "      <td>0.093530</td>\n",
       "      <td>-0.720275</td>\n",
       "      <td>-0.345497</td>\n",
       "      <td>-0.438781</td>\n",
       "      <td>-0.166972</td>\n",
       "      <td>-0.437182</td>\n",
       "      <td>...</td>\n",
       "      <td>-0.660579</td>\n",
       "      <td>0.875537</td>\n",
       "      <td>0.421628</td>\n",
       "      <td>-0.428097</td>\n",
       "      <td>-0.075548</td>\n",
       "      <td>-0.533092</td>\n",
       "      <td>-0.193732</td>\n",
       "      <td>-0.581394</td>\n",
       "      <td>2.0</td>\n",
       "      <td>5.0</td>\n",
       "    </tr>\n",
       "    <tr>\n",
       "      <th>3141406</th>\n",
       "      <td>1219_3769</td>\n",
       "      <td>1219</td>\n",
       "      <td>3769</td>\n",
       "      <td>-0.223264</td>\n",
       "      <td>-1.344935</td>\n",
       "      <td>-0.199987</td>\n",
       "      <td>-0.107702</td>\n",
       "      <td>-0.454677</td>\n",
       "      <td>-0.221914</td>\n",
       "      <td>-0.141174</td>\n",
       "      <td>...</td>\n",
       "      <td>-0.670493</td>\n",
       "      <td>0.875537</td>\n",
       "      <td>0.421628</td>\n",
       "      <td>-0.729949</td>\n",
       "      <td>-1.514277</td>\n",
       "      <td>0.013145</td>\n",
       "      <td>-0.890270</td>\n",
       "      <td>-0.589705</td>\n",
       "      <td>2.0</td>\n",
       "      <td>5.0</td>\n",
       "    </tr>\n",
       "    <tr>\n",
       "      <th>3141407</th>\n",
       "      <td>1219_3770</td>\n",
       "      <td>1219</td>\n",
       "      <td>3770</td>\n",
       "      <td>-0.559415</td>\n",
       "      <td>0.979489</td>\n",
       "      <td>-1.110491</td>\n",
       "      <td>1.006980</td>\n",
       "      <td>-0.467307</td>\n",
       "      <td>-0.159549</td>\n",
       "      <td>1.355671</td>\n",
       "      <td>...</td>\n",
       "      <td>0.820784</td>\n",
       "      <td>-1.142157</td>\n",
       "      <td>0.421628</td>\n",
       "      <td>-0.363329</td>\n",
       "      <td>1.363181</td>\n",
       "      <td>-0.079106</td>\n",
       "      <td>-1.580124</td>\n",
       "      <td>-0.297625</td>\n",
       "      <td>2.0</td>\n",
       "      <td>5.0</td>\n",
       "    </tr>\n",
       "    <tr>\n",
       "      <th>3141408</th>\n",
       "      <td>1219_3772</td>\n",
       "      <td>1219</td>\n",
       "      <td>3772</td>\n",
       "      <td>0.009599</td>\n",
       "      <td>-2.565332</td>\n",
       "      <td>0.320301</td>\n",
       "      <td>0.076600</td>\n",
       "      <td>1.380182</td>\n",
       "      <td>-0.155366</td>\n",
       "      <td>-0.689000</td>\n",
       "      <td>...</td>\n",
       "      <td>0.133074</td>\n",
       "      <td>-1.142157</td>\n",
       "      <td>0.421628</td>\n",
       "      <td>-0.375288</td>\n",
       "      <td>-1.514277</td>\n",
       "      <td>-0.973762</td>\n",
       "      <td>0.608647</td>\n",
       "      <td>-0.372040</td>\n",
       "      <td>0.0</td>\n",
       "      <td>5.0</td>\n",
       "    </tr>\n",
       "    <tr>\n",
       "      <th>3141409</th>\n",
       "      <td>1219_3773</td>\n",
       "      <td>1219</td>\n",
       "      <td>3773</td>\n",
       "      <td>1.212112</td>\n",
       "      <td>-0.089557</td>\n",
       "      <td>0.190229</td>\n",
       "      <td>-0.548256</td>\n",
       "      <td>0.151205</td>\n",
       "      <td>0.079773</td>\n",
       "      <td>0.447962</td>\n",
       "      <td>...</td>\n",
       "      <td>3.271590</td>\n",
       "      <td>0.875537</td>\n",
       "      <td>0.421628</td>\n",
       "      <td>-0.170709</td>\n",
       "      <td>1.363181</td>\n",
       "      <td>-0.563314</td>\n",
       "      <td>0.669586</td>\n",
       "      <td>0.456400</td>\n",
       "      <td>3.0</td>\n",
       "      <td>5.0</td>\n",
       "    </tr>\n",
       "  </tbody>\n",
       "</table>\n",
       "<p>3141410 rows × 306 columns</p>\n",
       "</div>"
      ],
      "text/plain": [
       "            row_id  time_id  investment_id    target       f_0       f_1  \\\n",
       "0              0_1        0              1 -0.300875  0.932573  0.113691   \n",
       "1              0_2        0              2 -0.231040  0.810802 -0.514115   \n",
       "2              0_6        0              6  0.568807  0.393974  0.615937   \n",
       "3              0_7        0              7 -1.064780 -2.343535 -0.011870   \n",
       "4              0_8        0              8 -0.531940  0.842057 -0.262993   \n",
       "...            ...      ...            ...       ...       ...       ...   \n",
       "3141405  1219_3768     1219           3768  0.033600  0.093530 -0.720275   \n",
       "3141406  1219_3769     1219           3769 -0.223264 -1.344935 -0.199987   \n",
       "3141407  1219_3770     1219           3770 -0.559415  0.979489 -1.110491   \n",
       "3141408  1219_3772     1219           3772  0.009599 -2.565332  0.320301   \n",
       "3141409  1219_3773     1219           3773  1.212112 -0.089557  0.190229   \n",
       "\n",
       "              f_2       f_3       f_4       f_5  ...     f_292     f_293  \\\n",
       "0       -0.402206  0.378386 -0.203938 -0.413469  ...  0.200075  0.819155   \n",
       "1        0.742368 -0.616673 -0.194255  1.771210  ... -0.734579  0.819155   \n",
       "2        0.567806 -0.607963  0.068883 -1.083155  ... -0.551904 -1.220772   \n",
       "3        1.874606 -0.606346 -0.586827 -0.815737  ... -0.266359 -1.220772   \n",
       "4        2.330030 -0.583422 -0.618392 -0.742814  ... -0.741355 -1.220772   \n",
       "...           ...       ...       ...       ...  ...       ...       ...   \n",
       "3141405 -0.345497 -0.438781 -0.166972 -0.437182  ... -0.660579  0.875537   \n",
       "3141406 -0.107702 -0.454677 -0.221914 -0.141174  ... -0.670493  0.875537   \n",
       "3141407  1.006980 -0.467307 -0.159549  1.355671  ...  0.820784 -1.142157   \n",
       "3141408  0.076600  1.380182 -0.155366 -0.689000  ...  0.133074 -1.142157   \n",
       "3141409 -0.548256  0.151205  0.079773  0.447962  ...  3.271590  0.875537   \n",
       "\n",
       "            f_294     f_295     f_296     f_297     f_298     f_299  \\\n",
       "0        0.941183 -0.086764 -1.087009 -1.044826 -0.287605  0.321566   \n",
       "1        0.941183 -0.387617 -1.087009 -0.929529 -0.974060 -0.343624   \n",
       "2       -1.060166 -0.219097 -1.087009 -0.612428 -0.113944  0.243608   \n",
       "3        0.941183 -0.609113  0.104928 -0.783423  1.151730 -0.773309   \n",
       "4        0.941183 -0.588445  0.104928  0.753279  1.345611 -0.737624   \n",
       "...           ...       ...       ...       ...       ...       ...   \n",
       "3141405  0.421628 -0.428097 -0.075548 -0.533092 -0.193732 -0.581394   \n",
       "3141406  0.421628 -0.729949 -1.514277  0.013145 -0.890270 -0.589705   \n",
       "3141407  0.421628 -0.363329  1.363181 -0.079106 -1.580124 -0.297625   \n",
       "3141408  0.421628 -0.375288 -1.514277 -0.973762  0.608647 -0.372040   \n",
       "3141409  0.421628 -0.170709  1.363181 -0.563314  0.669586  0.456400   \n",
       "\n",
       "         group_fold  time_fold  \n",
       "0               1.0        0.0  \n",
       "1               3.0        0.0  \n",
       "2               0.0        0.0  \n",
       "3               4.0        0.0  \n",
       "4               3.0        0.0  \n",
       "...             ...        ...  \n",
       "3141405         2.0        5.0  \n",
       "3141406         2.0        5.0  \n",
       "3141407         2.0        5.0  \n",
       "3141408         0.0        5.0  \n",
       "3141409         3.0        5.0  \n",
       "\n",
       "[3141410 rows x 306 columns]"
      ]
     },
     "execution_count": 15,
     "metadata": {},
     "output_type": "execute_result"
    }
   ],
   "source": [
    "input.train"
   ]
  },
  {
   "cell_type": "code",
   "execution_count": 16,
   "id": "081e43f5-0c9d-4092-8679-7fb4df4ee365",
   "metadata": {},
   "outputs": [
    {
     "data": {
      "text/plain": [
       "1.0    628285\n",
       "0.0    628283\n",
       "4.0    628281\n",
       "3.0    628281\n",
       "2.0    628280\n",
       "Name: group_fold, dtype: int64"
      ]
     },
     "execution_count": 16,
     "metadata": {},
     "output_type": "execute_result"
    }
   ],
   "source": [
    "input.train[\"group_fold\"].value_counts()"
   ]
  },
  {
   "cell_type": "code",
   "execution_count": 17,
   "id": "2849c98d-0b62-4666-b8f4-f57be0decdbe",
   "metadata": {},
   "outputs": [
    {
     "data": {
      "text/plain": [
       "0.0    523570\n",
       "1.0    523568\n",
       "5.0    523568\n",
       "4.0    523568\n",
       "3.0    523568\n",
       "2.0    523568\n",
       "Name: time_fold, dtype: int64"
      ]
     },
     "execution_count": 17,
     "metadata": {},
     "output_type": "execute_result"
    }
   ],
   "source": [
    "input.train[\"time_fold\"].value_counts()"
   ]
  },
  {
   "cell_type": "code",
   "execution_count": 18,
   "id": "2194489c-de5c-40e7-a9b6-c3c74759e7a4",
   "metadata": {},
   "outputs": [
    {
     "data": {
      "text/plain": [
       "group_fold  time_fold\n",
       "1.0         0.0          107189\n",
       "0.0         3.0          106248\n",
       "1.0         2.0          105776\n",
       "3.0         1.0          105700\n",
       "2.0         1.0          105484\n",
       "4.0         1.0          105467\n",
       "3.0         3.0          105462\n",
       "            5.0          105437\n",
       "            4.0          105423\n",
       "0.0         4.0          105269\n",
       "2.0         0.0          105064\n",
       "4.0         5.0          104911\n",
       "            0.0          104903\n",
       "0.0         5.0          104838\n",
       "            2.0          104803\n",
       "4.0         2.0          104687\n",
       "2.0         4.0          104554\n",
       "            2.0          104495\n",
       "            5.0          104380\n",
       "1.0         4.0          104375\n",
       "4.0         3.0          104366\n",
       "2.0         3.0          104303\n",
       "1.0         5.0          104002\n",
       "0.0         0.0          103962\n",
       "4.0         4.0          103947\n",
       "3.0         2.0          103807\n",
       "1.0         1.0          103754\n",
       "            3.0          103189\n",
       "0.0         1.0          103163\n",
       "3.0         0.0          102452\n",
       "dtype: int64"
      ]
     },
     "execution_count": 18,
     "metadata": {},
     "output_type": "execute_result"
    }
   ],
   "source": [
    "input.train[[\"group_fold\", \"time_fold\"]].value_counts()"
   ]
  },
  {
   "cell_type": "code",
   "execution_count": 19,
   "id": "7a94e738-a3e1-4175-b04f-0e3d9f6085ff",
   "metadata": {},
   "outputs": [],
   "source": [
    "from src.make_fold import CPCV_INDEX_5FOLD"
   ]
  },
  {
   "cell_type": "code",
   "execution_count": 20,
   "id": "89ad596c-8b29-46ac-8d7c-615b831f5160",
   "metadata": {},
   "outputs": [
    {
     "data": {
      "text/plain": [
       "1047138"
      ]
     },
     "execution_count": 20,
     "metadata": {},
     "output_type": "execute_result"
    }
   ],
   "source": [
    "fold = 1\n",
    "df = input.train\n",
    "len(df[df[\"time_fold\"].isin(CPCV_INDEX_5FOLD[\"val_time_id\"][fold])].index)"
   ]
  },
  {
   "cell_type": "code",
   "execution_count": 21,
   "id": "e4b78bfc-5578-4492-a4f4-08989e13196e",
   "metadata": {},
   "outputs": [
    {
     "data": {
      "text/plain": [
       "1674754"
      ]
     },
     "execution_count": 21,
     "metadata": {},
     "output_type": "execute_result"
    }
   ],
   "source": [
    "len(\n",
    "    df[\n",
    "        (~df[\"time_fold\"].isin(CPCV_INDEX_5FOLD[\"val_time_id\"][fold]))\n",
    "        & (df[\"group_fold\"] != CPCV_INDEX_5FOLD[\"val_group_id\"][fold])\n",
    "    ].index\n",
    ")"
   ]
  },
  {
   "cell_type": "markdown",
   "id": "972c4554-94b4-4316-98ed-604f9e592b9a",
   "metadata": {},
   "source": [
    "## Model"
   ]
  },
  {
   "cell_type": "code",
   "execution_count": 22,
   "id": "ccb5abc9-b37b-40be-b8a6-0e757cba8f1c",
   "metadata": {},
   "outputs": [],
   "source": [
    "from src.make_model import make_model"
   ]
  },
  {
   "cell_type": "code",
   "execution_count": 23,
   "id": "0eaff286-5a4d-4e05-bd48-caf17f48d57e",
   "metadata": {},
   "outputs": [],
   "source": [
    "model = make_model(c, device)"
   ]
  },
  {
   "cell_type": "code",
   "execution_count": 24,
   "id": "dc67b7ea-a0a7-400a-879e-f38f1c03a829",
   "metadata": {},
   "outputs": [
    {
     "data": {
      "text/plain": [
       "DataParallel(\n",
       "  (module): OneDCNNModel(\n",
       "    (expand): Sequential(\n",
       "      (0): BatchNorm1d(300, eps=1e-05, momentum=0.1, affine=True, track_running_stats=True)\n",
       "      (1): Linear(in_features=300, out_features=1024, bias=True)\n",
       "      (2): CELU(alpha=0.06)\n",
       "    )\n",
       "    (conv1): Sequential(\n",
       "      (0): BatchNorm1d(128, eps=1e-05, momentum=0.1, affine=True, track_running_stats=True)\n",
       "      (1): Dropout(p=0.1, inplace=False)\n",
       "      (2): Conv1d(128, 384, kernel_size=(5,), stride=(1,), padding=(2,), bias=False)\n",
       "      (3): ReLU()\n",
       "      (4): AdaptiveAvgPool1d(output_size=4)\n",
       "      (5): BatchNorm1d(384, eps=1e-05, momentum=0.1, affine=True, track_running_stats=True)\n",
       "      (6): Dropout(p=0.1, inplace=False)\n",
       "      (7): Conv1d(384, 384, kernel_size=(3,), stride=(1,), padding=(1,))\n",
       "      (8): ReLU()\n",
       "    )\n",
       "    (conv2): Sequential(\n",
       "      (0): BatchNorm1d(384, eps=1e-05, momentum=0.1, affine=True, track_running_stats=True)\n",
       "      (1): Dropout(p=0.3, inplace=False)\n",
       "      (2): Conv1d(384, 384, kernel_size=(3,), stride=(1,), padding=(1,))\n",
       "      (3): ReLU()\n",
       "      (4): BatchNorm1d(384, eps=1e-05, momentum=0.1, affine=True, track_running_stats=True)\n",
       "      (5): Dropout(p=0.2, inplace=False)\n",
       "      (6): Conv1d(384, 384, kernel_size=(5,), stride=(1,), padding=(2,))\n",
       "      (7): ReLU()\n",
       "    )\n",
       "    (max_po_c2): MaxPool1d(kernel_size=4, stride=2, padding=1, dilation=1, ceil_mode=False)\n",
       "    (flt): Flatten(start_dim=1, end_dim=-1)\n",
       "    (head): Sequential(\n",
       "      (0): BatchNorm1d(768, eps=1e-05, momentum=0.1, affine=True, track_running_stats=True)\n",
       "      (1): Dropout(p=0.2, inplace=False)\n",
       "      (2): Linear(in_features=768, out_features=1, bias=True)\n",
       "    )\n",
       "  )\n",
       ")"
      ]
     },
     "execution_count": 24,
     "metadata": {},
     "output_type": "execute_result"
    }
   ],
   "source": [
    "model"
   ]
  },
  {
   "cell_type": "code",
   "execution_count": 25,
   "id": "9db35f81-fc2d-4641-88fa-35c0409a92ff",
   "metadata": {},
   "outputs": [],
   "source": [
    "input_ = torch.randn(5, 300).to(device)"
   ]
  },
  {
   "cell_type": "code",
   "execution_count": 26,
   "id": "b06c11c0-d3aa-4388-87b5-9e0f0e432596",
   "metadata": {},
   "outputs": [
    {
     "data": {
      "text/plain": [
       "tensor([[ 0.4668],\n",
       "        [ 0.3757],\n",
       "        [-1.1719],\n",
       "        [-0.3882],\n",
       "        [ 0.0988]], device='cuda:0', dtype=torch.float16,\n",
       "       grad_fn=<GatherBackward>)"
      ]
     },
     "execution_count": 26,
     "metadata": {},
     "output_type": "execute_result"
    }
   ],
   "source": [
    "model(input_)"
   ]
  },
  {
   "cell_type": "code",
   "execution_count": null,
   "id": "f17b7838-b537-4127-947b-4208423aef34",
   "metadata": {},
   "outputs": [],
   "source": []
  }
 ],
 "metadata": {
  "kernelspec": {
   "display_name": "py37-all-in-one",
   "language": "python",
   "name": "py37-all-in-one"
  },
  "language_info": {
   "codemirror_mode": {
    "name": "ipython",
    "version": 3
   },
   "file_extension": ".py",
   "mimetype": "text/x-python",
   "name": "python",
   "nbconvert_exporter": "python",
   "pygments_lexer": "ipython3",
   "version": "3.7.0"
  }
 },
 "nbformat": 4,
 "nbformat_minor": 5
}
