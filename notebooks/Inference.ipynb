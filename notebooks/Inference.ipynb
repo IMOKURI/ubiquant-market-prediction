{
 "cells": [
  {
   "cell_type": "markdown",
   "id": "9bf00bb0-eb5d-47ed-8396-d8e506c6fd87",
   "metadata": {},
   "source": [
    "# Inference notebook"
   ]
  },
  {
   "cell_type": "code",
   "execution_count": null,
   "id": "518ecf7b-23d0-41fc-a7b3-9e17061c8daf",
   "metadata": {},
   "outputs": [],
   "source": []
  },
  {
   "cell_type": "code",
   "execution_count": 1,
   "id": "da8f7e81-3e02-4449-bd27-2b612ab1399a",
   "metadata": {},
   "outputs": [],
   "source": [
    "import sys\n",
    "\n",
    "sys.path.append(\"..\")\n",
    "sys.path.append(\"../../inputs\")"
   ]
  },
  {
   "cell_type": "code",
   "execution_count": 2,
   "id": "285747a0-f0e7-4379-84b3-8356cfe9746a",
   "metadata": {},
   "outputs": [],
   "source": [
    "import logging\n",
    "\n",
    "logging.basicConfig(\n",
    "    # filename=__file__.replace('.py', '.log'),\n",
    "    level=logging.getLevelName(\"INFO\"),\n",
    "    format=\"%(asctime)s [%(levelname)s] [%(module)s] %(message)s\",\n",
    ")\n",
    "\n",
    "log = logging.getLogger(__name__)"
   ]
  },
  {
   "cell_type": "code",
   "execution_count": 3,
   "id": "a93d0a09-8361-4c6d-a7d4-11ed389cc855",
   "metadata": {},
   "outputs": [
    {
     "name": "stderr",
     "output_type": "stream",
     "text": [
      "2022-01-26 20:29:27,266 [INFO] [561483431] defaults:\n",
      "- _self_\n",
      "hydra:\n",
      "  run:\n",
      "    dir: ../outputs/${now:%Y-%m-%d_%H-%M-%S}\n",
      "  job_logging:\n",
      "    formatters:\n",
      "      simple:\n",
      "        format: '%(asctime)s [%(levelname)s][%(module)s] %(message)s'\n",
      "wandb:\n",
      "  enabled: false\n",
      "  entity: imokuri\n",
      "  project: ump\n",
      "  dir: ${hydra:runtime.cwd}/../cache\n",
      "  group: default\n",
      "settings:\n",
      "  print_freq: 100\n",
      "  gpus: 6,7\n",
      "  dirs:\n",
      "    working: ..\n",
      "    input: ../../inputs/\n",
      "  inputs:\n",
      "  - train.csv\n",
      "  - example_test.csv\n",
      "  - example_sample_submission.csv\n",
      "  debug: false\n",
      "  n_debug_data: 100000\n",
      "  amp: true\n",
      "  multi_gpu: true\n",
      "params:\n",
      "  seed: 440\n",
      "  n_class: 1\n",
      "  n_fold: 7\n",
      "  skip_training: false\n",
      "  epoch: 20\n",
      "  es_patience: 0\n",
      "  batch_size: 640\n",
      "  gradient_acc_step: 1\n",
      "  max_grad_norm: 1000\n",
      "  fold: group\n",
      "  group_name: investment_id\n",
      "  label_name: target\n",
      "  dataset: ump_1\n",
      "  model: ump_1\n",
      "  pretrained:\n",
      "  - dir: ../../datasets/trainings/2022-01-26_07-47-01/fold0/\n",
      "    model: ump_1\n",
      "  - dir: ../../datasets/trainings/2022-01-26_07-47-03/fold1/\n",
      "    model: ump_1\n",
      "  - dir: ../../datasets/trainings/2022-01-26_07-47-05/fold2/\n",
      "    model: ump_1\n",
      "  - dir: ../../datasets/trainings/2022-01-26_07-47-07/fold3/\n",
      "    model: ump_1\n",
      "  - dir: ../../datasets/trainings/2022-01-26_07-47-10/fold4/\n",
      "    model: ump_1\n",
      "  - dir: ../../datasets/trainings/2022-01-26_07-47-12/fold5/\n",
      "    model: ump_1\n",
      "  - dir: ../../datasets/trainings/2022-01-26_07-47-14/fold6/\n",
      "    model: ump_1\n",
      "  criterion: RMSELoss\n",
      "  optimizer: Adam\n",
      "  scheduler: CosineAnnealingWarmupRestarts\n",
      "  lr: 0.001\n",
      "  min_lr: 1.0e-06\n",
      "  weight_decay: 1.0e-05\n",
      "  label_smoothing: 1.0e-06\n",
      "  scoring: pearson\n",
      "\n"
     ]
    }
   ],
   "source": [
    "from omegaconf import OmegaConf\n",
    "\n",
    "c = OmegaConf.load(\"../config/main.yaml\")\n",
    "\n",
    "c.settings.debug = False\n",
    "c.wandb.enabled = False\n",
    "c.settings.dirs.working = \"..\"\n",
    "c.settings.dirs.input = \"../../inputs/\"\n",
    "\n",
    "pretrained = \"\"\"\n",
    "- dir: ../../datasets/trainings/2022-01-26_07-47-01/fold0/\n",
    "  model: ump_1\n",
    "- dir: ../../datasets/trainings/2022-01-26_07-47-03/fold1/\n",
    "  model: ump_1\n",
    "- dir: ../../datasets/trainings/2022-01-26_07-47-05/fold2/\n",
    "  model: ump_1\n",
    "- dir: ../../datasets/trainings/2022-01-26_07-47-07/fold3/\n",
    "  model: ump_1\n",
    "- dir: ../../datasets/trainings/2022-01-26_07-47-10/fold4/\n",
    "  model: ump_1\n",
    "- dir: ../../datasets/trainings/2022-01-26_07-47-12/fold5/\n",
    "  model: ump_1\n",
    "- dir: ../../datasets/trainings/2022-01-26_07-47-14/fold6/\n",
    "  model: ump_1\n",
    "\"\"\"\n",
    "\n",
    "c.params.pretrained = OmegaConf.create(pretrained)\n",
    "\n",
    "log.info(OmegaConf.to_yaml(c))"
   ]
  },
  {
   "cell_type": "code",
   "execution_count": 4,
   "id": "6ffcbcf5-52f5-4daf-8b74-0a1384ed9d3a",
   "metadata": {},
   "outputs": [],
   "source": [
    "import src.utils as utils\n",
    "import ubiquant\n",
    "from src.load_model import load_model\n",
    "from src.run_loop import inference"
   ]
  },
  {
   "cell_type": "code",
   "execution_count": 5,
   "id": "78416e7d-7424-40b4-a18e-f62d5ce3acf7",
   "metadata": {},
   "outputs": [
    {
     "name": "stderr",
     "output_type": "stream",
     "text": [
      "2022-01-26 20:29:28,617 [INFO] [utils] Fix seed: 440\n",
      "2022-01-26 20:29:28,619 [INFO] [utils] CUDA_VISIBLE_DEVICES: 6,7\n",
      "2022-01-26 20:29:28,715 [INFO] [utils] torch device: cuda, device count: 2\n"
     ]
    }
   ],
   "source": [
    "utils.fix_seed(c.params.seed)\n",
    "device = utils.gpu_settings(c)"
   ]
  },
  {
   "cell_type": "code",
   "execution_count": 6,
   "id": "db544a62-7319-41cf-a6b3-2e40e7517409",
   "metadata": {},
   "outputs": [],
   "source": [
    "env = ubiquant.make_env()  # initialize the environment\n",
    "iter_test = env.iter_test()  # an iterator which loops over the test set and sample submission\n",
    "\n",
    "models = load_model(c, device)"
   ]
  },
  {
   "cell_type": "code",
   "execution_count": 7,
   "id": "2dfdec06-25c8-49de-b03d-8750a9326377",
   "metadata": {},
   "outputs": [
    {
     "data": {
      "application/vnd.jupyter.widget-view+json": {
       "model_id": "a7b0f94ff71a4337978dc32589da98a7",
       "version_major": 2,
       "version_minor": 0
      },
      "text/plain": [
       "0it [00:00, ?it/s]"
      ]
     },
     "metadata": {},
     "output_type": "display_data"
    },
    {
     "name": "stdout",
     "output_type": "stream",
     "text": [
      "This version of the API is not optimized and should not be used to estimate the runtime of your code on the hidden test set.\n"
     ]
    }
   ],
   "source": [
    "for test_df, sample_prediction_df in iter_test:\n",
    "\n",
    "    df = inference(c, test_df, device, models)\n",
    "    \n",
    "    sample_prediction_df[\"target\"] = df[\"target\"]  # make your predictions here\n",
    "    env.predict(sample_prediction_df)  # register your predictions"
   ]
  }
 ],
 "metadata": {
  "kernelspec": {
   "display_name": "py37-all-in-one",
   "language": "python",
   "name": "py37-all-in-one"
  },
  "language_info": {
   "codemirror_mode": {
    "name": "ipython",
    "version": 3
   },
   "file_extension": ".py",
   "mimetype": "text/x-python",
   "name": "python",
   "nbconvert_exporter": "python",
   "pygments_lexer": "ipython3",
   "version": "3.7.0"
  }
 },
 "nbformat": 4,
 "nbformat_minor": 5
}
