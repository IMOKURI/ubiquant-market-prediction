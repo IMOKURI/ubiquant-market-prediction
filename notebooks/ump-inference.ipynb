{
 "cells": [
  {
   "cell_type": "markdown",
   "metadata": {},
   "source": [
    "# Inference notebook"
   ]
  },
  {
   "cell_type": "code",
   "execution_count": 1,
   "metadata": {},
   "outputs": [],
   "source": [
    "import sys\n",
    "\n",
    "\n",
    "def in_kaggle():\n",
    "    return \"kaggle_web_client\" in sys.modules"
   ]
  },
  {
   "cell_type": "code",
   "execution_count": 2,
   "metadata": {},
   "outputs": [],
   "source": [
    "if in_kaggle():\n",
    "\n",
    "import gzip\n",
    "import base64\n",
    "import os\n",
    "from pathlib import Path\n",
    "from typing import Dict\n",
    "# this is base64 encoded source code\n",
    "file_data: Dict = {'src/__init__.py': 'H4sIAPuj+GEC/wMAAAAAAAAAAAA=', 'src/run_epoch.py': 'H4sIAPuj+GEC/+2XS2slRRTH9/0pihuEaqetJOLqwhUGmREhbkYZFyE0le7TN4XdVT1V3ZnJhCzuLFyMuNCF4MKNCxXFvd/nyqDfwlPV70deGnEQA0m/Tv3PqXNO/aoislzpgqRqvRZy7YnqsRAZNPdPuZb4yXjNC1lm+Rnhhsi8tVc6Ohk8sKiMOeNZbg3x4nmJVhlhZSFSQ2rL+6eg+Ro+hAJ0QCKV5WUB4VrzOJRKZ4GL4yMhI/A8jJCsmjjZGooDvAVNw1DyDMLQ9zwvhoQUmgsZQq6iExoF9WOqeGxdZCqGFD1pgR6FkgFROfoQz+1HE51AXKbVLXdXJxOQGE5FBP7SI/jjNJjTpb57kypjwGB0/fnU31p9hr/KzY0aKMJC4RQlrD7WJWDo1nSHmIJjVlZu2sz+ofWnRGn8CHlAaAK8KDWYgKT8GFLjEyEJYE3QdQG0P986YCdQj0Lx5pYVitYTa80qSZtndzNncsyL6CQ0OKXOzD7RvTpW+/NUFCe26oyXhYq4KShIfpxCvIoYzr6w/WSboxdhlYGzMNcQ2whcmqnIMJ/Gv5kVM09KgOdAh/Zj6yYBnf1+L/SmoGjetgmtJdqcT80xn2Ue2wrYJ4YDM+oHvWz5cx7cZZdELOeaZ4bZ9hAgi5BHUWgL3jmqWpK5i/Phs2MefYqrM6a9eERCqB1I7pF9n7xxhTRZrcjeMP+1j1K6m5C2zTua8A4BrZUORWKbOBESp0u2m5//+Pq77eab7YvPG2iQ7YuvXr388tUv9fuRSn7mWLFa7bP9PRT44bdfv/j9+8128+N289P2xcvt5tvt5rPRINdbDZRY5BLcPNJJQ7lubIwNcieFRKR2fS7EGiEDi4A8LG0/fFJZ+TMCLZHs2nR0k7IiGYtSkXfECunM6A4arhQWDsb2RluajD/rJOyoYCa/q4c8NTAjP6pN0ydY4X795spc9eto/M2ANZSruVk57T7iSoFhPRhjoxn0UzvZAOg0bb1od2yzt0lso7B9vXhPGSHhvpTAUywq1jYr80fgAGsWS2+YwhQJFaY4sjcX3GHwFfUP94561sMpXTO6el9J9DVkPGL8YEZubdqF24Iy1wLXbaLhiVuzpN4M7ANNQQ6ZT97ChT8JUa2ZkImi3rQ1k8UDu8styeG52+4sOS6ODs+ti4vd84mDiyOymJdJeW4gJuftrk1dvgOS4NCih6VdMlH1l+biEt0DhN2SnNeU5afrJXsnucz4fewdNG5b6Crbg0dWtqrSkr0NF2RiWLebBiSEJF0I9WHjFLvLLqLuvOHeXHHemDlKAI655iThPjZ7Lqau74VhABx7pVJotjqZu/VrKLXDAt+/uyNG3/m/d8SoN4IKx9jboAE7LrQp7e8CPSNZ0+w1PHRcf+C45VmjyyXgedmiyS6+NztcdsYdrh2XqgH3yIxBH7cyjHDlGMug/WE+XeCHTmaJkkeoWc/G1noR5eXCZ+5/iAH5IJ2Tf7evvnOdvlFJgZsppvYKV9NdCTlkgDx4FgHufZj8xQfS9Tipo2AL/x/l92BB/RV+P75/YPHdI/ZA8s6IPVD9+8S+DK5BVeOasd3abiHbvRqB9nK6jgk6lrgNRW/A0BaGA3KOnd6engM0tob/bTj+j7DXH2GTzr4bjE1k7wxlE+VZnA0JVVHpT46XNckyEwAA', 'src/load_data.py': 'H4sIAPuj+GEC/5VUwYrbMBC96ysG78UGI3oOpKdSKOyxt1KEao28amVJSHIbKP33juzEsWMv3YocnOG9N29GozFD8DGD9X1vXM/M/NcndvsM0imZgH5BMaajH4CP2dgEV0BENXYoBhzEmGSPjD3BDBvkDxQaZR4jLvAuUuAebiGhxS4vAbbmeqtuvCXAGJmF880y7zE/0yfGWggnBxSiYYx1VqYEn1wY8weZ5YkBHYUahDDOZCFqyqtb6FoY0yx8/hxHbGZkOQXAO8rULSHtI2hjcUoExkHHE+ZMNhI3JVe60yeJjAMJ+MSDzC88BWsyXnK9aDRf3n3dMHw0VJW0YoIU1or/3RtXr1IqE69527utZqOnt0I7dR4xWNlhXfEu/axaqLiuqIFrDaMXB3gxKad6pdpsKy6HboZcaV/r6tlLBeVqX3DuHIdCOsHvlcSfqtlpKE12gyJ7UomrwCbt1iLavcl9sW/weiNtze6l/umZunnk4IDEs39ThQmP7f+S0dE4UAUfiQvK02NzPsPUhv8sofOORmvEbe6nMgLzLJ+hylEaV50eEBN7+7ZrelxKNwfAqVMPD/+G3mdeTzx+G/vTq4pyCLY85igm4KHkvhSgFbdsgdPxtS7r51BzgjwuwnoHozJkzvG6eoqLqxYrm+kV97Mhcm3RFUl4v26Im7FCLUtu8UOTNUvW7vwKo4VItftBJDKGhAoyyiERGFVDc0wkWpcKL7WKPswLckoSke7MUQr2F5iZ0dVBBgAA', 'src/make_dataset.py': 'H4sIAPuj+GEC/41UTYvbMBC9+1cI92KDMSz0VPClbA8LPfYWgtBao0asPowk76b99R1LsmxnE6guVmbevHkzT0TqybpAgnXjpRLO6nTt5yCV7zkLjMgEecb7T8s4uC7ePYSqqjgIotkbUJ5CzdgRLjqi2Cuo4Zebof1WETxSkLGfmGM60SKWDAOpZz3RpzphlsM9Gch3TD/fIWyriAPlYatwTHogP64jTEFa09Qv5p0pyUlu09dtxDoIszPY4Fa2ilPFRr4j/jILoQB/ODtRxXzIE2xQVLhto9lJ78r9lYXxQr38C0MZe4ttuNxtWLuWhJk1/bDuDZwfvm7hSRqqQVv3Jy53SxS1Q7ml5HH4MgMuYUSQP+w6f9eBcUmUSiMDpY0HhS48cnc5X8iC6bnA9XCxC+dIvwhrTrWzH1TyuiO1NO/ggwYTlsC5I+wq/fCUXY7rWRhnDzR2RJr4LWl8VEfEpqZUx7iPCk7Fihikhmk49/hYZvCHwk+ag9SQRN+hwEmEVYcB9mRHqnsSHg0ugKFrkMSvOnfWKDDZmYMN2WvMNtmRTdBtbm3R7nl/Q5ABdHFd8uuuQS5BUemvIoDx1h3pTlhybnuBby007f/6tZr8mTeZ+IB1N1fu3928k2O2+gfm1IWD9QQAAA==', 'src/make_model.py': 'H4sIAPuj+GEC/21UTW/cIBC9+1cgn+zKQlm1p0q+RG2lStuoh96iCE0Ae2kxWICzm3/fwfh7w2XN8OYx782wquutC0TbtlWmzVTaWp/Nn8E6ftltKB8EUOh6Ap7gz/7QmBg25hilzWB4UNaAjoAfWYZ3knq+mbYynPFTuoIxA51krMyyTMiGdPBPss4KqQteESHfFJf1kzWyImOU9RAuY6D8mhFcqiGc9uCg83REkLom+dD17JQnRFzTCXkEL3/N7CthOQKl9nJNcaC8JN9vXPZRSZH/NG+glUhpNMeKl/u9DAF1YQWDDoq1/XB/NbryDQL8xlK1xgLGeDlzJKWHLBpskQ4W3FozUei8DSR6cczTFgTzAYJkQvFQpL7EaGE9jdn0r1WmWNkqkvfvIyy5T1+Vycsy3etkGJxJ3FOfxhsOfZo6MkY9Kn5+SRY11pGAdhq0iCiz9qtH4hiXYhVwbOaSmQJ3tn40MNWaJJQr9zmeQt9LI+YG3Cn0k0R/Vf5S3CZVE+JGPk1T7lXbWSUQgHiuwfvNdGGz8WPQsyeRjzEsKTBWeKmbimC1q/76jxtmbFx+6PFxlHTJWUXE7PFB1tvBi09zhxCqQ8Tnh4d9WMO7dLE5X7L9wathpzSljxD45cm67iSKmao8oBvuEzipPCsfimfcnlEMuCWtWmopxylgsf0OTCuLTTXly5H+IkEk/jvC04SNjiLlFZyYDL1t/LsqfCDoCYUhWA5YnTTwqtHo2b4NOK4bXrf4EHu6PYylNzzWPovfJy8E48Q0HPM3inb0Udk4MsvfzDRX2X/00rwgnQUAAA==', 'src/utils.py': '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', 'src/make_fold.py': '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', 'src/run_loop.py': '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', 'src/investment.py': 'H4sIAPuj+GEC/4VVTY+bMBC98ytG9AIqRavuDalVD1GlXnrZI0LIgnHWEhiEvd2Novz3jo35MJANygE8H+/NzBtHtH03aJBvbX8BpkD2gRiPeiZrOqBfXwd86FrQl17IMzj7SVQ6GA2p0gOytuaT7cV+n3gQBFXDlII/8h8q3aLUWQD01MihLIUUuiwjhQ1PYOjeM4JKX3AQqBIQc0gp6ow+dQIcmX4bUGUzQgKaDWfUq6N4hDCPyZxSYvhh0vvHXn5y8L591wmWvKZX38FxILt7C6z9ly2+Rf3a1XPZ2Pb6ElWNelDyqgwHWqrqFVtGKNdQixbJKcxoYlSKfv5+27lXXWMo5Tzk5VXeQuDdAJJQYGDyjNHz01NcLFFkpAhjXidYWOyZ5ORQEAJR4E3HiMSWg8Gf5pKOlfspEphLiYM5euzi5/WaSOs2njkCt02OAwJe8mP8AYmiXKk2olFt5rOocdagy2CmTIPXpXTSlla+MXz7CeGSM8w+wZuUmxyINfFVmTosGSeeGpfz+GAP1d1FXGHV3OrzxDT7PbAWt6vlufo7VPNUUZeFrPEjCj3+1Ok7Wcy0rjeAL+auwczeMbnd/IV4cbibs9jncRbw9ZH0Vx2ghgmN7VET3O1jx7e9x8wjuO8NstMGaVubv0lba+7lMFu1YDnhevHHM0ibrtpm2vHbczORdlKAjUL420lMdmi+Bj1zvFXyg+qWzuOHRlkf/gVsxJaTNd8IqSiWLXCZjNdOGIXNvdLGatepPdNFYvXRvY+t2I/rDoNp3VYEFqTllioOSPwHBeocmX4HAAA=', 'src/time_series_api.py': 'H4sIAPuj+GEC/51WbWscVRT+Pr/iMkU6g5shC9YPoSsUrCAoFCwFWcL07s6dzeDszHDvnSRLKWQmQaKt1BYTaiqoNWhsSBoUQW1rf8zNJumn/gXPnZed11RwIZvZ8/ace85zzh1nHPiUI9cfjRxvpDjpzxVMPfjJlFzgheNggjBDXpCL2NAJJgbjmDOpYGBsU3+MjJA7LkOZ1ZVlQvGIfEw4oYoCMKiXgxkjwj+CR0I10/TwmJimrijK0MWMoevOmHxCqEPYlWsfLigIPhaxkWk6nsNNU2PEtTvIgj829ClE612nIdFTy8TaBiTLNihhhIOXRVY1i/pBajczk3GMzLYq5JhCgomir6Y/1EVjGbshgaMWMOaI+mEwmJgcUnasFDWTaaoUmo6lNhBNByqSGNcCGGaigjPWfJKTQyMKIJd4WsNfV6puHlnl5hC70JMemq/qAkqskq6pdIbc8T2p7S+2lSfTVFVZR0CVPTXVBJRlatTPStsgA+oPyoAZIdJiSYtS+ynhIfUSv7IxVOyNto0iowtorl7HcsBE2ogIDCZyROo17tVDdZD6qR+iccg4kgJ0M6u6pt9EA2LLSk3AQDKRLxEkPdEA8+ES8m1kYY4Ntah+RrZOSn5pq5XZpp9LjLd7qFviNIQ1s5mQBTDk3GhD3w3HHuv1Z5yG5PO5KJEuFeX+/b5K/ZWqNTw53jJhfEw8LlWL7dwycBAQz9JmEUsoSVUTjJm2nmYNQ6/7FlMtyW+U6J8RIqtDJ3co+p43Kd1Cmfr/9B/I1S1zoKXPGQvG+DM5UxhUK6gYTWh/DTTLxsgKYXDfdB0GhJLwLd1YhMdrs3jJoW0K2xgt4WWCoIjYhTnIo6ltLcghMeOTgGi3cpAFuC4MK5GpjFNVL1DLKtv1MX/3HVW/rZ+7gXIu5LU+d49VqezYlZVUdChhKp1UBaUqytWaY6H3IGTZhqwOScDR1eQfZNeMAleckV2iWrm670N1P0iqO/Q9jh1Yrb7nTuArKXXBV6N0Y1Rpqfz3GS4guoDE+jcifiziF2L999NHf77afnz8Mj7ZOkJzXXS5h6j86iIRHU7XdkX8YHpvW8RfirWoK6L9s5f3RbQhomci+vXk4CcwSiOAeq6uP/vth7J+vqY+3fgx1bVkKRf6Aspco7vTjSfHL74S0R1wE9Hn8iF+cLr7t4i+FWvx8T8g3xTREYCgIB3ZS5D/ExF/MT38/tXOI0AW0dNZOKmSWeyLOJaS+B5YimgH/AvIg4fT7/YkQAzR91pyTD/Tzd3p4Y6ItkR8V5quA+pfIn4KIdCltyCLWErX4pOfYxEdpBlerqQ4g0TzINmTiW4dJao7r59v5kf/JY30+jkkunf6x9dn+9vHzx6K6L5MPYVei5vE6CSllBcuMwKCKfM9qjXWXPby0qks2f5cd7FhorcUQlLaIoNwpNlqFnoB3cpBLqYRLuYRbqu60ghSXP9GGMCiIRrV243obODPs0heBoqt4A/0thG9IZO5SqlP5TsqefOg2mrlrTNfP3BKIo/zLw0eFHErCwAA', 'src/feature_store.py': 'H4sIAPuj+GEC/3VSS4vUQBC+51cU8ZLgOgx4G1jxsAhe3MN6G0LTTCozjUkndPe+EMHOLKLoMrggggh6EJFdEEU8CD5+TOnu37A7M04S0SaHUP29qqpFUZXKQMVlyjW4r0qDIFNlAQMh91CbAqUBsUTdXFd0EASTnGsNO6ZUOArAnRQzYExIYRiLNObZBrQaetSlx0uGPx7Y8dKw2WX1Yc7RMCMKZCJ1uFulxKBBXG/CFGhmZbrOgkVlDqNJrmO4cg3CJmnYGmfIza5CNilzbzoOV8LhBoRtAl9I4DKMszBjd+W9ELJSgXQZQXE5xejqcBgna9HGk62knWqVDra44TcULzByTruF1Jtd5zhYc/tD6Ewr6ql2GApdQYJrMeqQVwA/Al5VKNPVMlS5P/KBdlAJ7K5AZLBuHmRpmubKfbeVFA9amD+X4Pb21vbIX/sdkH1P86c0/0r1F7Jnv958PH/2nKz7XpF9R/a4ASxo/onmj2h+6n/qD38p9rZK9QnZB2S/k138/PaD7EOyp2SPyL6m+ri5etzjuyTt6hI3uKawzBcmA13lwkQhC+PxMGkn96eP85f3Lz7XFy+c/hlMuJnMGO6hOjQzIafuLbM7fDrNcRnriOonZN82aRb/fcADPDB+6C5CZ1X/er/96MFvA6P6BIwDAAA=', 'src/make_loss.py': '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', 'src/make_feature.py': 'H4sIAPuj+GEC/51XT4/jNBS/51NY3UMTUcIOIKSp1BPLnFbaAyuEFFWRJ3Fab1M7ip3Z2R31MDsnDghxQBy5cEAgIRAnJL5NBZ+D539JnCYzA52qkzy//+/3/Gy6r3gtUck3G8o2ATWvXARFzfdIvqmAiiz1ORUycCwVZjkWCL5VHhjuuCBYNjVJheQ1cVKfqxefQcSXWLQMn3ImybVcoA2RqeXwXlKRbckeezSxQIzXe1zSt6TlY3hPggBiQSsXUQwyz+GR1GGq19M0CoIgJ4XRBiykrmrKZJgX0TJA8NkSnIOGYpbflIQp+mGmF2iBLAGtVuijs4/h76mR6cnNZI0pMxJbeN9isQ0h/reECSLDKo8bSctYkVOTxZRfviKZ9iCKjJxavMJlQ7QjN9vll4dZsvxkrVdrAuEyTQeTh/SmY4eXvIhLniXwj7KcXCdP1ws0r/nrlObz9cj6+2cew6yfHpvYCsttqGqW5rReIiHrBeqlzlFUfvWzTaSQZA/+jxcq1OxRPyAuYmUpfsUpa815lhYqaKX2EBczV8g93rWqQ63PyBZLwGb8DEt8UYOphfUJ4Lg0qDQU51QJ8F5qkCcQwhocT9Y+h5WFVVXm+AOHxZlhKznOUwV0x3jJeQmcL+vGGcdXJJV8cv01ldtU4hpy365e4FI4T3FZXuJsp1QwzsY05OSy2Qzothq9NMLSEP02ZZBTi3QvLS3GHTWnmdJyM1HbXbTsAwjeUcFrtEOUeYoPWjGBCCdN9Js+7NzrpQpBE6FZcX5+bgkzgJzsm1Kqxg0kntz6xN5gPfDwoMAqVBYs8k9axgPOEMga/jot+nHo76ENdYirk0BUJhUmMlxmyp3dEl2ZfC/gYaA3ptA+EJnSrNLkmo5cgxYRerElu3V0GDen/ckw7Mz/yeJuWJq+7/ehYRBjX/9jHOyyqez3+6yVhjUfRBNedhKm4cpRriFwHm2l8/sBQx3jKEifqBEIW3zBw2LW5kYgyZHyrymxBMjeKFXhWADxjryBosHsi+7Vpye78XdMW+dlX6HZDfVY91vOzvow8hpNucRLYQqpk1EIvT+7UFVWJYXpTvO2+e2OZqbc0jKa35cvnr1YOgaQQcfbX4933x7v/jq++/N4+8vfP/7+z3ffH2/h+8Px9qfj7dea4Zvj3R/Hu6+Odz+rh3e/9XRaXcncejFXW0lLdMM1FlVJZThP5xGM5dGt9hRlbaZ1wC0Vmi1dINDsxSpJDSRIsw8eq6NLoPs8QdZhWALBpM3i2mOj7IoIuSd6dOhdKO5IItGSHUHLr+MSQzgs/NCW230yeQ1K7KkvtFtjJ7w4GXOrIWGgsN1CQbRh2VTfum3Iz4w5foimVJEp8RD8i05Y2ulleE912FL2J9w4kzaIKZx/v1AHts+gXjV01IWtkB4FN7sDogLlDcAlgz7NEc5qLkSLhXh26qICkpYe7LC2eca9GTAlWoPCru5kE6xr3GDMpDlwjOo2rZwWCjL60WofdwQSnI24bWWmc4mFIHCLyLriqEMiiDZ75rYYyjLOBESkANzZsIPbnu4fUu7COVW/p2KPZbZdIHJdwUGe5LAVOvbDAoonG1wCLZsw1QbvhB4MN5xk0C02nchJuWg6rlh5rmFV8AbOWqB8QxipNTKtmQcC85D0uGKO+/8/ihtMgD5uqhxCsCgfbiqu03BVEZa7odbjchyw7wLC+zcNxyy6JoWBNdAkutO2bSX/duB5A4c0dcuB65AIvVvS9AkzUmhU2x/frdQ9IBrfMx93yhnEm4zXZh3Du1rawnXbP0gahvHbxeiRR03492DiQV5ros6/96m9J5yT84cduxZp5j5vC5ULaSoJgIJtVy1A80ISV2fWc3tRBcbgX4nw5WI6EQAA', 'src/get_score.py': 'H4sIAPuj+GEC/7VUPY+cMBDt/StGrkBCVq5Is8qWKSKd0qSMIuSFYWUFbG7GXLI63X/P2MDuBrZJEQr8MfMeb57HuGEMFKEP57PzZ6XcvPbTMF7AMvhx3eLGjRfD0UZOgTxZY7+sb0+qozAA/+zRkjcDRnINw5Jhm2Yi21xqbgJhBQNaX/PLZAnbGokCKSUi4LhKMWeMzzJFKura2wHrulRKtdiBRGaaIr0lt4JLHWnCNI5CWB4UyOM6WBLgeARNA6OeI+khjBN5KdDwC8ViL6jYkJYZiv2Gdq1sT/13zVu6x2yjmMfB78my32YJ77SphY3xDmgdI3z+3eAYXfCF/uJfbe/a9XtGr4YSyk5bE/LUx6KpoO0q6ELfVnIazMevwePi6UjhJIf0ZD6sFjdmtGQHNvdlJDfvasgGCKztvuukl/UPk1KKOxce8uztyPANlZQ1IV9TensSJ+acK2vezI20y19acint1l1bRdXCXM0iygee/y91/6YrY+UeGee7UHT6W4Id4C3DD5/Mx+5dl7fzy7fXoLenHttbLfO20BRvOiP1YbVKJ69kmQZZpVaRVRreyyteuFP3gJO/SIiQmuhGvv1AyhSKNOwI1f01SALUH9mxMwO2BAAA', 'src/streamdf.py': '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', 'src/features/__init__.py': 'H4sIAPuj+GEC/wMAAAAAAAAAAAA=', 'src/features/f100_lag.py': 'H4sIAPuj+GEC/wMAAAAAAAAAAAA=', 'src/features/base.py': 'H4sIAPuj+GEC/41WS2/jNhC+61ew6kUKvIIXPUVAig3SpFjA6wKbbnswBIKRKC9hmRJIuklq6L/vDEVK1sNFfYjp4Tcz3zwZcWxqZUheN++B6M5Vvd8Lufc/jWI5f2H5wQtemZJwr4NS1UdSMMPyimnNNXGAXtQhypPMTV1X/f2rYo27M+8NmPIXD6yq2EvFV+Q3kZsV2Qhtgg6YJCVn5qQ41aZW3Gs84w+PEPIfrs2RS+OvP/eSIKD3mw19erz/89vXx2dyR84tIT8jAZ5adztt1KqnkI3wdHv/xSppbqI46MUPf2y+fdlet4YB4CnLggDSCjiX3GTPzQaOXEWUSnbklMZBEHwaUmf/kodaGv5m0oDAx0aeuphRMAScXoaKV/lJKThTnzX0kYIFBRzC0EJKCBXrSk1NZS3h+gWqBPdPrNIc2BS8JE4/yuvqdJQ6HUKKO1II8l4iLLWT42eewoQVhUUlQ9g9epLV3QiXATFHIuhVGsVL8QY3tDtdM+34afoqzHeq8bZX3UGQtSIlZHOBMBHlYDwmd3fOZ9bbxtbHqeEyuurGKn5ckTJ0EM9caFKcmkrkzPDiJ3K+aqENh6g/2QHqkt0LsQ4ob6Clbpja6xW5uTm84umiIrY1DIaNF7t1NrpxoQgtpDZM5lB287byTRgvYTFs68NGOPWTLLUhOB+VKRhpGfU+posfxUFbWjWkNGbC33LeGPJov0Qt5+pHjaNXhn/ff91+3v6eOhXAkjoHirzA4vvSnEfs2pSc+xWYQKccmaGgH8VtOHPkV2OChwjcxjMILIDEwTrADAEdh6mbjecMeJEZfmzM+2gMF6agTxiM9xVrTODkL83vwji6dhvwjsxI7mSem1srY779corJh1/t+kwvdc+HlGwhA3ZOD3ZOp6sCLWStMw671ZvWUW9yst9HHkaBzq1MCHob103sJPZJJf7lo863duJs7oDq/Ds/sinZ4fkYucLHOik4b/AQTXMRO/P/QWEIBb4709B0djYnS/A5nRYXUV1lh2osK1xszoNdD9Z1sNC9B9cq2H3kL1ad+KNStYrK8MnPJOq2EJMBtydZJKEPs1/O04duHJ/fIBeoRMPiNVFIwxgXIby+vtw72NP0LNvQxigxRsXknke/rNdxFncP43q9pkIKI1g1dBsMbtrvy+Vm9rZTO+XDE+7/wdG992z34WO2RKEdkQ0NLGBuQk/s9vaWdqL/Q6evhzcz49XJ9eAHaa2sXhv8AKQsBcBACgAA', 'src/features/helper.py': 'H4sIAPuj+GEC/22PTQ6EIAxG9z0FS93MAUzmMIx0EjJSCdQEbz/8qURhQ/LeR+mnjV0dC9qM3YX0giwAsNsnEPHoYj8r84KE8w8yJkkGJYl3Y14VngHd8frSMjy1DNd4pbsfJJxDvUSj5bLQXRd2fOFZPeZHBoBhRsvTrSnZfsPK780q7jQ6Bj2bRNPgc8XyIK+WuMJvbTfwWLZMxyFvjlI4yiFe2pfICH/VngWg5AEAAA==', 'config/main.yaml': 'H4sIAPuj+GEC/4VV224bNxB9368glAhJgexKdmwn2LcgSNGH5iUpUBSGQVDkaMWYt/IiRQ38753h7kpC4bZ+0c7hcC5nztAKtqKYnPqGsResZX4PMWoFbHdUUazSASBA7JkPuTiBTi3jCcyWN031oHuxOPphTGn07LqVLzmUnFYvfzh/6Jd/tEvbLhVf/tIuP7fLr0/o/M1vuPHDoN0w3t36aEXOENNoM5a0DQZma/bo2avla5Fk1hZ+Sux++drAHowTZD6gab0qhr4ZfkNKYkDjVW2vdjN2ei7WYvsaW/ivask/lU298vJHbbzDDjpX7NM5MvI0++aijpxq6hnyhk2ekwKW7l3PrHba6r9gOnEcA6aeXZ3sHLUwhKznqCCi3PEUhIQ5E2NBRGFTlwDUGWQsHwMm1y4jsjVe5Iszg32eEtHfTg87SrReX4DYVUa6zvlHEKfWs99igX9W4PjWm2dqkCLD4KOWwlycyZ3XErC9+9s3mOKhaQ7CqQ1dByc2BruZs4DLOh+xGesfS9SIhOi/IY89KzY00yinufQ4StJGJw/qaYXzlULuKMoQfcFu1Cj4pkmQMw6myi1EJIpvI/xZWSDvULC2xd2bd4tmzDDp8uDjI4n22XzVQzsU/7/XU4/TqhnZzFFox7VFldKVuaiOEnbV9am6nPwh5f9xR48V1TwmGqtux0SdTPvJhu+C1ouT+zNwmn7KxuqUULDVh5iATcHuf0ZpEquOV4ArkUXljpOI8ADvnwZYV4wjpRPSjIqh0qps2c3NusaSRqRpByY1sVtyetSB1wYq89spNwQvUbbXdBcSDyJrcLgajICNyLQruGA9u6vhhygUOmQupOSTtKk48Z3TEXf4vpyWYEw+PkFcBrmfFTRttXZ7JM5SOK3wjEY8Lzx9VtCIDZgZFXEAWsItiFwiUgsokvvFFvMtHohYZLBiqGleC/MKzNl8MQJTuHRA2RiKSX3L3Q1HQPnD1TV/+/6Ga3d9/ViFDZU3Ivn+oUa5gKZ1bMcFWixO6zmlvkDGrBOgog+eNL7uiCsZNb7b9VH78vnrp199Sojif4z6vmHkD0pYGiMuIr3NiHz0CSv44BwIgzP9XURbwhdkVMRMlw36XEH7lmigRkfzDs0D4FuVUXVSHCt4eyI6We/zrkpkck4S3x2yAz6dybvmb7m2ISfvBgAA'}\n",
    "for path, encoded in file_data.items():\n",
    "    path = Path(path)\n",
    "    path.parent.mkdir(exist_ok=True)\n",
    "    path.write_bytes(gzip.decompress(base64.b64decode(encoded)))\n",
    "# output current commit hash\n",
    "print('6c6187af152d565d70c72d106e57257eed7ea0ce')\n",
    "\n",
    "else:\n",
    "    sys.path.append(\"..\")\n",
    "    sys.path.append(\"../../inputs\")"
   ]
  },
  {
   "cell_type": "code",
   "execution_count": 3,
   "metadata": {},
   "outputs": [],
   "source": [
    "if in_kaggle():\n",
    "    # https://www.kaggle.com/speeddemon/install-hydra-offline-from-dataset\n",
    "\n",
    "    !cp -r /kaggle/input/hydracore105 /kaggle/working\n",
    "    !mv /kaggle/working/hydracore105/antlr4-python3-runtime-4.8.tar.gz.tmp /kaggle/working/hydracore105/antlr4-python3-runtime-4.8.tar.gz\n",
    "    !ls /kaggle/working/hydracore105\n",
    "\n",
    "    !pip install -q /kaggle/working/hydracore105/* --ignore-installed PyYAML\n",
    "    \n",
    "    sys.path.append(\"../input/omegaconf/omegaconf-master\")\n",
    "    omega_conf_path = \"config/main.yaml\"\n",
    "    \n",
    "else:\n",
    "    omega_conf_path = \"../config/main.yaml\""
   ]
  },
  {
   "cell_type": "code",
   "execution_count": 4,
   "metadata": {},
   "outputs": [
    {
     "name": "stdout",
     "output_type": "stream",
     "text": [
      "defaults:\n",
      "- _self_\n",
      "hydra:\n",
      "  run:\n",
      "    dir: ../outputs/${now:%Y-%m-%d_%H-%M-%S}\n",
      "  job_logging:\n",
      "    formatters:\n",
      "      simple:\n",
      "        format: '%(asctime)s [%(levelname)s][%(module)s] %(message)s'\n",
      "wandb:\n",
      "  enabled: false\n",
      "  entity: imokuri\n",
      "  project: ump\n",
      "  dir: ${hydra:runtime.cwd}/../cache\n",
      "  group: default\n",
      "settings:\n",
      "  print_freq: 100\n",
      "  gpus: 6,7\n",
      "  dirs:\n",
      "    working: ..\n",
      "    input: ../../inputs/\n",
      "  inputs:\n",
      "  - train.csv\n",
      "  - example_test.csv\n",
      "  - example_sample_submission.csv\n",
      "  debug: false\n",
      "  n_debug_data: 100000\n",
      "  amp: true\n",
      "  multi_gpu: true\n",
      "params:\n",
      "  seed: 440\n",
      "  n_class: 1\n",
      "  n_fold: 5\n",
      "  skip_training: false\n",
      "  epoch: 20\n",
      "  es_patience: 0\n",
      "  batch_size: 640\n",
      "  gradient_acc_step: 1\n",
      "  max_grad_norm: 1000\n",
      "  fold: simple_cpcv\n",
      "  group_name: investment_id\n",
      "  time_name: time_id\n",
      "  label_name: target\n",
      "  feature_set:\n",
      "  - f000\n",
      "  dataset: ump_1\n",
      "  model: ump_1\n",
      "  pretrained:\n",
      "  - dir: ../../datasets/trainings/2022-01-30_22-12-14/fold0/\n",
      "    model: ump_1\n",
      "  - dir: ../../datasets/trainings/2022-01-30_22-12-16/fold1/\n",
      "    model: ump_1\n",
      "  - dir: ../../datasets/trainings/2022-01-30_22-12-19/fold2/\n",
      "    model: ump_1\n",
      "  - dir: ../../datasets/trainings/2022-01-30_22-12-21/fold3/\n",
      "    model: ump_1\n",
      "  - dir: ../../datasets/trainings/2022-01-30_22-12-23/fold4/\n",
      "    model: ump_1\n",
      "  criterion: RMSELoss\n",
      "  optimizer: Adam\n",
      "  scheduler: CosineAnnealingWarmupRestarts\n",
      "  lr: 0.001\n",
      "  min_lr: 1.0e-06\n",
      "  weight_decay: 1.0e-05\n",
      "  label_smoothing: 1.0e-06\n",
      "  scoring: pearson\n",
      "\n"
     ]
    }
   ],
   "source": [
    "from omegaconf import OmegaConf\n",
    "\n",
    "c = OmegaConf.load(omega_conf_path)\n",
    "\n",
    "c.settings.debug = False\n",
    "c.wandb.enabled = False\n",
    "\n",
    "if in_kaggle():\n",
    "    c.settings.gpus = \"0\"\n",
    "\n",
    "    c.settings.dirs.working = \".\"\n",
    "    c.settings.dirs.input = \"../input/ubiquant-market-prediction/\"\n",
    "\n",
    "    pretraind_dir = \"../input/ump-models\"\n",
    "\n",
    "else:\n",
    "    c.settings.dirs.working = \"..\"\n",
    "    c.settings.dirs.input = \"../../inputs/\"\n",
    "\n",
    "    pretraind_dir = \"../../datasets/trainings\"\n",
    "\n",
    "pretrained = f\"\"\"\n",
    "- dir: {pretraind_dir}/2022-01-30_22-12-14/fold0/\n",
    "  model: ump_1\n",
    "- dir: {pretraind_dir}/2022-01-30_22-12-16/fold1/\n",
    "  model: ump_1\n",
    "- dir: {pretraind_dir}/2022-01-30_22-12-19/fold2/\n",
    "  model: ump_1\n",
    "- dir: {pretraind_dir}/2022-01-30_22-12-21/fold3/\n",
    "  model: ump_1\n",
    "- dir: {pretraind_dir}/2022-01-30_22-12-23/fold4/\n",
    "  model: ump_1\n",
    "\"\"\"\n",
    "\n",
    "_pretrained = f\"\"\"\n",
    "- dir: {pretraind_dir}/2022-01-26_07-47-01/fold0/\n",
    "  model: ump_1\n",
    "- dir: {pretraind_dir}/2022-01-26_07-47-03/fold1/\n",
    "  model: ump_1\n",
    "- dir: {pretraind_dir}/2022-01-26_07-47-05/fold2/\n",
    "  model: ump_1\n",
    "- dir: {pretraind_dir}/2022-01-26_07-47-07/fold3/\n",
    "  model: ump_1\n",
    "- dir: {pretraind_dir}/2022-01-26_07-47-10/fold4/\n",
    "  model: ump_1\n",
    "- dir: {pretraind_dir}/2022-01-26_07-47-12/fold5/\n",
    "  model: ump_1\n",
    "- dir: {pretraind_dir}/2022-01-26_07-47-14/fold6/\n",
    "  model: ump_1\n",
    "\"\"\"\n",
    "\n",
    "c.params.pretrained = OmegaConf.create(pretrained)\n",
    "\n",
    "print(OmegaConf.to_yaml(c))"
   ]
  },
  {
   "cell_type": "code",
   "execution_count": 5,
   "metadata": {},
   "outputs": [],
   "source": [
    "import gc\n",
    "import traceback\n",
    "\n",
    "import src.utils as utils\n",
    "import ubiquant\n",
    "from src.feature_store import Store\n",
    "from src.features.base import get_feature\n",
    "from src.make_feature import make_feature\n",
    "from src.make_model import load_model\n",
    "from src.run_loop import inference"
   ]
  },
  {
   "cell_type": "code",
   "execution_count": 6,
   "metadata": {},
   "outputs": [],
   "source": [
    "utils.fix_seed(c.params.seed)\n",
    "utils.debug_settings(c)\n",
    "device = utils.gpu_settings(c)"
   ]
  },
  {
   "cell_type": "code",
   "execution_count": 7,
   "metadata": {},
   "outputs": [
    {
     "name": "stdout",
     "output_type": "stream",
     "text": [
      "feature set: ['f000']\n"
     ]
    }
   ],
   "source": [
    "feature_set = [\"f000\"]\n",
    "\n",
    "feature_set = list(sorted(list(set(feature_set))))\n",
    "print(f\"feature set: {feature_set}\")\n",
    "\n",
    "feature_func = [get_feature(f) for f in feature_set]"
   ]
  },
  {
   "cell_type": "code",
   "execution_count": 8,
   "metadata": {},
   "outputs": [],
   "source": [
    "store = Store.empty()"
   ]
  },
  {
   "cell_type": "code",
   "execution_count": 9,
   "metadata": {},
   "outputs": [],
   "source": [
    "models = load_model(c, device)"
   ]
  },
  {
   "cell_type": "code",
   "execution_count": 10,
   "metadata": {},
   "outputs": [],
   "source": [
    "env = ubiquant.make_env()  # initialize the environment\n",
    "iter_test = env.iter_test()  # an iterator which loops over the test set and sample submission"
   ]
  },
  {
   "cell_type": "code",
   "execution_count": 11,
   "metadata": {
    "tags": []
   },
   "outputs": [
    {
     "name": "stdout",
     "output_type": "stream",
     "text": [
      "This version of the API is not optimized and should not be used to estimate the runtime of your code on the hidden test set.\n"
     ]
    }
   ],
   "source": [
    "for test_df, sample_prediction_df in iter_test:\n",
    "    try:\n",
    "        gc.collect()\n",
    "        for _, row in test_df.iterrows():\n",
    "            store.append(row)\n",
    "\n",
    "        pred_df = make_feature(test_df, store, feature_set, load_from_store=False, save_to_store=False, debug=False)\n",
    "\n",
    "        df = inference(c, pred_df, device, models)\n",
    "        sample_prediction_df[\"target\"] = df[\"target\"]  # make your predictions here\n",
    "\n",
    "    except Exception as e:\n",
    "        print(\"ERROR!!!\")\n",
    "        print(traceback.format_exc())\n",
    "        pass\n",
    "\n",
    "    env.predict(sample_prediction_df)  # register your predictions"
   ]
  }
 ],
 "metadata": {
  "kernelspec": {
   "display_name": "py37-all-in-one",
   "language": "python",
   "name": "py37-all-in-one"
  },
  "language_info": {
   "codemirror_mode": {
    "name": "ipython",
    "version": 3
   },
   "file_extension": ".py",
   "mimetype": "text/x-python",
   "name": "python",
   "nbconvert_exporter": "python",
   "pygments_lexer": "ipython3",
   "version": "3.7.0"
  }
 },
 "nbformat": 4,
 "nbformat_minor": 4
}
