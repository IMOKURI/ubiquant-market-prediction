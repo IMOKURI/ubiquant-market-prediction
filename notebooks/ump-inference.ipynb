{
 "cells": [
  {
   "cell_type": "markdown",
   "metadata": {},
   "source": [
    "# Inference notebook"
   ]
  },
  {
   "cell_type": "code",
   "execution_count": 1,
   "metadata": {},
   "outputs": [],
   "source": [
    "import sys\n",
    "\n",
    "\n",
    "def in_kaggle():\n",
    "    return \"kaggle_web_client\" in sys.modules"
   ]
  },
  {
   "cell_type": "code",
   "execution_count": 2,
   "metadata": {},
   "outputs": [],
   "source": [
    "if in_kaggle():\n",
    "\n",
    "    import base64\n",
    "    import gzip\n",
    "    import os\n",
    "    from pathlib import Path\n",
    "    from typing import Dict\n",
    "\n",
    "    # this is base64 encoded source code\n",
    "    file_data: Dict = {\n",
    "        \"src/__init__.py\": \"H4sIADQy8WEC/wMAAAAAAAAAAAA=\",\n",
    "        \"src/run_epoch.py\": \"H4sIADQy8WEC/+1XS2/lNBTe51dYt0JymOC2iNWVLlKFZhBS2QxoWFRV5CYntxaJk7GTzqPq4nbBYhALWCCxYMMCEIg9/+eiEfwLjh3nnT4GihghKrVJ7OPvvL/jiqzIVUnSfL0Wcu2J+rMUGTTvT7iSuKW9ZkFWWfGMcE1k0crnKjodfLCoijnjWWEE8eF5icozwqpSpJo4yYMzUHwNH0IJKiBRnhVVCeFa8TiUucoCa8dHQkbgeWghWTV2sjWUh/gKioah5BmEoe95XgwJKRUXMoQij06pR/AnCtxamvPY6MnyGFJUpwSqFbkMSF6gIvHcbOroFOIqrV+5fVqsgMRwJtAQf2lRLQizwNS3K2muNWi0se+V22sVMPzNrYdUQxmWOToqYfWxqgAdMKI7RJccY7OyzjPzh7qtJFe4CUVAaAK8rBTogKT8BFLtEyEJYGZQdQm077Az2AK4UwjevLIyp7VnfitWQ5po25c5kRNeRqehRpc6MfNF95yt5ueJKE9N7hmvyjziuqQg+UkK8Spi6H1pqsqUSM/COgLPwkJBbCywYaYiw3hq/3ZSTD+uAJ4DHcqPpZsAdPL7PdObhKJ4WyfUQbQxn4pjPKsiNhkwXwwPZtQPetHy5zTYxy6JWMEVzzQz5SFAliGPotAkvFNU1ySzD6vDZyc8+hR7NKY9e0RCqDlI7pF9n7xxDTRZrcjeMP5ORyXtS0jb4h05vENAqVyFIjFFnAiJ7pLt5uc/vv5uu/lme/l5Qx1ke/nVyxdfvvzFrY9QimeWMVarfba/hwA//PbrF79/v9luftxuftpevthuvt1uPhsdsrXVUBOLbICbTzopKFuNjbBG9kkhEanpz4VYI9XAIiAPKlMPn9RS/gxAy0umNy3HSVnzGYtSUXS8FdKZ0x1p2FQYctCmNtrUZPxpB2FOBTPxXT3gqYYZ+FFumjrBDPfzN5fmul5H529HWEM4R5y10m4TOwWG+WCMjTzoh3YyBug0bD1rd0yxt0FsrTB1vXgv10LCgZTAU0wq5jariodgCVYvlt4whCkyVJjiyZ4vOGdwifpHe8c96aFLN5yu12uIPoaMRxw/8Mj2pmncligLJbBvEwWPbc8SNwzMB01BDjmfvIWNPzExXzMhk5x609JMFvfNmFuSo3M77wxzXBwfnRsVF7vnEwUXx2QxD5PyQkNMztvZTW28A5Lg0bJHS7tkguov9cUVuIdIdkty7liWn62X7J3kKuH3sXZQuC2h62QPHxrYOktL9jZckImgKzcFyBCSdCa4K8cZVpdpInfrwAuHXbnmwuHGaf8qAXjmhpuE3WxmLoaur4WhARxrpUZoRp0sbP9qSs2xgPj+3d0x+tr/vTuGmwQ1H2NxgwIsudDEtD8GekLS0dlreOu4+cbxipeNLpaA12bDTab73uz4shPu+NoSU33gHpkR6POtDCNsHW1IaH8YT2v4kYVZIuQxYjpvTK4XUVEtfGb/lRhQH6Rz8O/20Xduwtd5UuI0xdBeo2o6lpCINJD7TyPA4YfBX3wgbY0TZwVb+P8ogQ8a6q8Q+KODQ8PfPcoeQN4ZZQ9Q/z5lX8WuQZ1jR7Jdb7cs2y2NmPZqeh1T6BjiVjTqWPQWHNqS4YA5x0pfnT0H1NgK/rfJ8X8Ke/0pbFLZd0NjE9g7o7IJ8iydDRmqZqU/AeO/BQA5EwAA\",\n",
    "        \"src/make_model.py\": \"H4sIADQy8WEC/2VTsY7bMAzd/RWCJ7sIhAvaqYCXQ1ugQHro0K0oBEaiHbWyZEjyJff3pSzbsXNcIpOPj+Qjo/vB+ciM6zptu0LnTxeK5Rmdl5fdB5ejAg79wCAw+tkHrU1uax+9vB2tjNpZMAnwrSioJmuWyrzDeKIn+koICz0KURdFobBlPfxD0TuFppIHpvBVS2xenMUDm7xigHiZHPXngpHplkk+gIc+8AnBmoaVYz+IY5kRyeYIe4aAPxb2O2E9AdEEvKd40AHZ15vEIU1Sld/tKxitchovqeO1fsAYaS7qYDRRi24Y35cmVb5AhJ/UqjHUwOSvF4486UMWj67KgRV375lpUt5FlrR4zDMOlAgRIgqlZazyXpK3WpHJXOCJiv912lZ36gMrh7cpJ6+Cn7Ut6zo34TGO3uZC89LCVYdLdZs3MgNu7MN8D0F3vdOKAISXBkLY7IFkocdoln0mPiG01VGIKqBpD4xWNRApLcSian75ccEmC+NAZ1TzNae+hyh7Ot1mu6J0xDuE0j0hPj497d0G3tAHinwq9oGzFce8z2eI8vLifH9U1UJVP6BbGTI4T3nSIe538JtiJ5oM/MpxWBurWes8E0xbukfbYbVprf6z8jwWvSCoXPUd83HGJp2J+wpezTLfNqpeNR0YKcVhjE4C9YwWzobkX0TdgJPdqNyqTtr0NphmaGUaYpFkn7wSTHfUSsrfTLSjT5NNh7T+TedrK/4DB/H1690EAAA=\",\n",
    "        \"src/load_data.py\": \"H4sIADQy8WEC/5VVTWvcMBC961cMzsUGY3pe2J5KoRDopbcQhGKNNmplyUhyGyj97x3Ja8WOnSY1e/CKN2/efOhZD6PzEYy7XLS9MD3/dYEtr6OwUgSg3ygZU94N0E1RmwBXgEc59cgHHPgUxAXZDcyoQfxArlDEyWNB954Ono9bCGiwj+WArWOdkUtcOWCMtMJ5UdxdMN7SK/qacysG5LxhjPVGhABf7DjFTyKKEwN6JCrgXFsdOa8pr2qhb2EKM/H5m5+wmZHpSYCup0x9OVLOg9IGcyLQFvouYIwkI3Q65QrP4Zki4kAELnSjiI9dGI2O+BTrwtHcfbjfRDivqSpheIakqFX8d6dtvUoptb/mbZ9lNRs+tSXasXceRyN6rKuuDz+rFqpOVdTANYdWRQE+6RBDvWJtthWnhyZDqpSrVXXrhIQ02kecO9dBCjrB7xXFn6rZcUhFckdJ8oTkV4JN2q1ENHuR+2LfoXUJ2ordU72pmbp5pOAgqIvuXRUGPJb/S3hL60AVfKZYkI4um3URchv+s4TeWVqtCbe5b9IKzLt8hip6oW11eoHI0du7XdPlkqo5AOZOvbj4C3qfeb3x+DBdTq8yimE06TJ7noGHlPtSgByuuMDpeKzFfg45M+SlD9Y7GJUhYvRX60kqrlyLX3116i23Ivw/LSofZT1SsY1x2RZyvdTIZF1opwE9zYscZRReDHR7PGYESsqxtSWn+H6917a0UCdTIheZA7KnNM0x1fxyV7Ib8YAmW9g9NSRV/8o85/ppjgZtajJ8XK+InbFclkaWCZGgmbLeKLLnV8Jb8LQabuCB5obnojQgysLQUEMomgYl8amW3o3zhyQDqKGTt2kUfwEYpqMnaAcAAA==\",\n",
    "        \"src/time_series_api.py\": \"H4sIADQy8WEC/51WbWvcRhD+rl+xKJST6Fn4oOkHkysEmkKhhUBDoBxG2TutzqI6SeyubB8hYMmmOC8lTahN6hTapqZ1Y+yYlkLbJM2PWZ/tfMpf6KxeTm/nFHrgs26e2XlmZ56dlTMKfMqR6w+HjjdUnPTnCqYe/GRKbvDCUTBGmCEvyE1s4ARjg3HMmQQYONvUHyEj5I7LUOZ1eZlQPCSfEk6oogAN6uZkxpDwT+CRUM00PTwipqkrijJwMWPomjMinxHqEHb56scLCoKPRWxkmo7ncNPUGHHtNrLgjw18CtG612hI9NQz8baBybINShjhsMoiq5pF/SD1m7rJOEbmWzVyTCHBBOip6Q910VjGbkhgqwWNOaR+GPTHJoeUHStlzWyaKo2mY6kNRtOBiiTOtQCGmUCwx9qaZOfQiILIJZ7WWK8r1WUeWeXmALvQky6ar2IBJVYJa4LOgDu+J9He4qzyZEgVyjoCUPbUhAmAZWnU90pnUQbU75cJM0GkxZIepfZTwkPqJevKzlCxt/o2ijxXL2I5WmJthAP5Enk+6gXu1kO1kfq5H6JRyDiSBnQjK7mm30B9YssyjcFBypAvESRXoj7mgyXk28jCHBtqUfpMae1U+dJXK0tNP1cV73ZRpyRoCGtmBwKhC8iQh0Yb+G448li3NxU0JJ8fipLiUlO+vtdTqb9S9YYnx1smjI+IxyW0OFtYBg4C4lnaNGKJJalqwjFF62nWOPT62uJIS+UbSl0MWRnauX/R9rxH6QTK4P/TftBWpyyBGW3ORDDCX8jzhAFaQcWxhO7XSLNsjKwOBvdN12GgJ0nfa6XNaLVRK918axH4r07jJZu2KUxitISXCYIaYhfOQB5NndWBnBIzPg6IdjMnWYCrwrASW4tx2tIL1jJkuz7m77/X0m/p506fXAp5rc+dYVUlO3ZlHBUdSoRKx1VDqYpyrOZc6AMIWfYhqwMScHQl+QfZNaPA9WZkF6hWru6HUN2PkuoOfI9jB8aq77lj+EpKXcjVKN0WVVkq/72HC4guILH+jYifiPilWP/99PGfr7efHL+KT7aO0FwHXeoiKr86SESHk7VdET+c3N8W8R2xFnVEtH/26oGINkT0XES/nhz8BE5pBIDn6vjZbz+U8fkafLrxY4rNyFIO8wWULY3uTTaeHr/8SkR3YZmIvpQP8cPT3b9F9K1Yi4//AfumiI6ABAXJiZ2/CPk/FfHtyeH3r3ceA7OInk3DSUhmsS/iWFri++Apoh1YX1AePJp8tycJYoi+NyPH9DPZ3J0c7ohoS8T3pOs6sP4l4mcQAl18B7KIpXUtPvk5FtFBmuGlSopTSjQPlj2Z6NZRAt1982Iz3/ovaaQ3LyDRvdM/vj7b3z5+/khED2TqKfVa3BRGOymlvGyZERBMme9RrTHlsheXdmXG9uY6iw0XfUYhpKQt0g+Hmq1moRfQzZxkOk2yCLdUXWkEKa5+Iwxg0BCN6rOd6PTAn+eRvAgUU8Hv67OO6HWZzBVKfSrfT8nbD6qtVt448/EDuyRyO/8COLQK0CcLAAA=\",\n",
    "        \"src/utils.py\": \"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\",\n",
    "        \"src/run_loop.py\": \"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\",\n",
    "        \"src/make_loss.py\": \"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\",\n",
    "        \"src/make_dataset.py\": \"H4sIADQy8WEC/41TTYvcMAy951eY9JJACCz0VMilbA8LPfY2DMYbyx2z/gi2szvtr69iO/ZkulvqS2TpSXp6cqRerAskWDdfGuGsTua4Bqn8yFlgRCbII9rfLePghmh7CE3TcBBEsxegPLm6eSBcDESxZ1DTD7dC/6UheKQg87gwx3Qqi1gyTaRd9UIf2oTZDvdkIl8x/PhOwb6JOFAeaoZj0gP5dp1hCdKarn0yr0xJTnKbse0j1kFYncEG97RVnCo28gPxl1UIBXhxdqGK+ZAnqFBkWNXobqgPxX5mYb5QL3/DVMauvorL3aa9awmYVdM3617A+elzdS/SUA3aul9R3BoobKdipeBx+DIDijAjyB+0zt99YBSJUmlkoLTzoHALH213O5/Ihhm5QHm4qMTSfdxodafW2TcqeTuQVppX8EGDCZvjPBB2lX56yDuO4mz1Vg809sMy8VvC+KSOiMqlZEe/jwxOZRHRSQ3TcB7xqazgD4l3jIPUkCi/UwDnEFb9g74AhspDorB3u5FXgcnqHqTM+8Jol1Xt64O/i+0t+tu6PyHIALpsTvLrTYOcgqTS7x7AeOuO5U6Ycu5Hge8ldP3/qr6v6u+6aRUfVL2ZK/cf7rZ9jDZ/ALCMjUe5BAAA\",\n",
    "        \"src/make_fold.py\": \"H4sIADQy8WEC/9VUwY7UMAy99yusnlIRVYLjSj2yCHGE22oVZRtniSZ1oiRFy9/jpGWKhh2Q0FyIeqljP/u959YtMaQCtC7xO+gMFDu3haImwwF+oulsCgvkk0edaFyCQa8yepyLCwR7wYcU1vjpPngj4XNJujjr0LRA13UGLSz6hMryu5glGDvcdcDHWZjHqJNe8lgvYZqgf3KUVT6j9FtqPcbCBBfX6nSgygPN6ycelPSCQytH/2qv621u1eG5SnMJ3oJXcLe7DXcHznjUJ+0ywvuXGWN1QPQf6Zv2zkAFG/u9JmFZEzHwLv+fRQt+94N3QdVUHtFRERRH60NI4i284fUYfXh+JzySYAP5dBsfDs8Pd3Izrn/k2mjGeS2c9cDQj7J1n35iS2jK5eleM7F93jqO4sqL5RFn2qRy9K7k6awTtXWSkL+u1nqcvqQVJctDJixMVRc8cjOiaVDD3i0BSRBKAmunHBl8GZgxIA+JPAGKNtDYeoqqEXPZ+Q3Dr2Y28mcQFqEWNhGagFfs+LsT/4Mg1dxbqPHa1/CbEMcvRlyj/s9c2gB5ugmlH6GiyZ1WBQAA\",\n",
    "        \"src/get_score.py\": \"H4sIADQy8WEC/7VUPY+cMBDt/StGrkBCVq5Is8qWKSKd0qSMIuSFYWUFbG7GXLI63X/P2MDuBrZJEQr8MfMeb57HuGEMFKEP57PzZ6XcvPbTMF7AMvhx3eLGjRfD0UZOgTxZY7+sb0+qozAA/+zRkjcDRnINw5Jhm2Yi21xqbgJhBQNaX/PLZAnbGokCKSUi4LhKMWeMzzJFKura2wHrulRKtdiBRGaaIr0lt4JLHWnCNI5CWB4UyOM6WBLgeARNA6OeI+khjBN5KdDwC8ViL6jYkJYZiv2Gdq1sT/13zVu6x2yjmMfB78my32YJ77SphY3xDmgdI3z+3eAYXfCF/uJfbe/a9XtGr4YSyk5bE/LUx6KpoO0q6ELfVnIazMevwePi6UjhJIf0ZD6sFjdmtGQHNvdlJDfvasgGCKztvuukl/UPk1KKOxce8uztyPANlZQ1IV9TensSJ+acK2vezI20y19acint1l1bRdXCXM0iygee/y91/6YrY+UeGee7UHT6W4Id4C3DD5/Mx+5dl7fzy7fXoLenHttbLfO20BRvOiP1YbVKJ69kmQZZpVaRVRreyyteuFP3gJO/SIiQmuhGvv1AyhSKNOwI1f01SAKU+gNSX9vNtwQAAA==\",\n",
    "        \"src/load_model.py\": \"H4sIADQy8WEC/1WOSwrDMAxE9z6FljEEH6CQk5RShKUU0fiDnPb8TezWprPTmxk0q6YALuCT7yERbyAhJ91hEGMM8QpbQmpg8jMQv8WzvRg4VGmBBa43U8GaFHZFiRIfIBG8y6gYisvKlTO15qlutv9LbzbQcz97LBtD5lEiUfvfKQ5z5khTvWybeAx5afwGzAd7rXjOBgEAAA==\",\n",
    "        \"config/main.yaml\": \"H4sIADQy8WEC/4VUXY8TOwx9n18RLVSAxEy7y7KgeUMIxAO8ANLV1WoVuYk7DZuPIclsKWj/O3Zmpq2u9kJfpnaOYx/7OBo3MNic2kqIR6IW4Q5jNBrFdq8jLNMOscfYitDnwQOBaiET2o2sqoLguDh4/gihDSGbZhmG3A85LR//8mHXLv6tF65eaLn4UC8+1Ysv9wT+FtbShq4zvhtjNyE6yBljGm0hknG9xdmaEa14sngKSWXj8FkS14unFu/QemDzhkwX9GD5v6D/mBJ0ZDwp9AqbkemxWEf0DVH4U7WMT8O6hDz+VYg3xKDxg7s/3kx9mrF50HvJNbWC+kYkj0mRSg++Fc5448xPnE68pAtTK84Pdo4GLHtW860IUW1l6kHhnEmIHiK41CREfXQKkfc9JTc+k2djA+STM0s8D4n4tzXdlhOtVidOYpWpXcf8o5Om1oqvccD/VuDlJtgHalCQsQvRKLAnZ2objEKid/3yOaW4qaodeL3mcPSwtsRmzoI+m7wnMi7cDtGQp4/hG/WxFYPrq2mU01xaGiVro1E7fb+k+SpQW76li2EgNnoUfFUlzJkGU+TWR2qU3ET8XrrA6H6g2s6unr86q8YMky53Id6yaB/MVxDGk/j/v55ynJbV2M0cwXhpHKmUQ+aiGk7YFOh9gRzwmPJf4IRYcs1jorHqekzUqHQ32fgDeL0kwx9wp+kzrJ1JiQRbMNwJXA/E/j1Jk7vqZXFIDRlK7ySLiA4o/jDAsmKSWjp5qlExXFqRrbi8XJW7lIU07cCkJvGKQbeml4VA6fxmyo19UCTbC47FJHvIBj2thmDHGjLvCi1YK67K9V0ETYAsQSk5SZuLgx+Sj6Sn9+WwBGPyoplZO9M+G39HLXN8kdF0ZmGNdt51iB3ypnE7aDhFoLJkCRrt0Xw0OqawtCMNWI5lEmp7Kcmhw+78Qr54fSmNv7i4LSrF0gTu2PVNueXENe1WPW7D2dlh16bUJ54x6+TQMfSBBbtqmLiKhh7h8kJ9/vTl3ceQEnnp+S+PFd38RoPjmdBW8UNLnrchUQVvvEewNKB/ILqh/0xNgpg52BLmHOsX3AYmOppXZO6QHp5MElKwL86Xh4YmF0LelnlP4KToEWG7p3cwBV/9Biz5Cau8BgAA\",\n",
    "    }\n",
    "    for path, encoded in file_data.items():\n",
    "        path = Path(path)\n",
    "        path.parent.mkdir(exist_ok=True)\n",
    "        path.write_bytes(gzip.decompress(base64.b64decode(encoded)))\n",
    "    # output current commit hash\n",
    "    print(\"1caf9a9aded5d95a7e725260be340e3ebbb9a8ff\")\n",
    "\n",
    "else:\n",
    "    sys.path.append(\"..\")\n",
    "    sys.path.append(\"../../inputs\")"
   ]
  },
  {
   "cell_type": "code",
   "execution_count": 3,
   "metadata": {},
   "outputs": [],
   "source": [
    "if in_kaggle():\n",
    "    # https://www.kaggle.com/speeddemon/install-hydra-offline-from-dataset\n",
    "\n",
    "    !cp -r /kaggle/input/hydracore105 /kaggle/working\n",
    "    !mv /kaggle/working/hydracore105/antlr4-python3-runtime-4.8.tar.gz.tmp /kaggle/working/hydracore105/antlr4-python3-runtime-4.8.tar.gz\n",
    "    !ls /kaggle/working/hydracore105\n",
    "\n",
    "    !pip install -q /kaggle/working/hydracore105/* --ignore-installed PyYAML\n",
    "    \n",
    "    sys.path.append(\"../input/omegaconf/omegaconf-master\")\n",
    "    omega_conf_path = \"config/main.yaml\"\n",
    "    \n",
    "else:\n",
    "    omega_conf_path = \"../config/main.yaml\""
   ]
  },
  {
   "cell_type": "code",
   "execution_count": 4,
   "metadata": {},
   "outputs": [
    {
     "name": "stdout",
     "output_type": "stream",
     "text": [
      "defaults:\n",
      "- _self_\n",
      "hydra:\n",
      "  run:\n",
      "    dir: ../outputs/${now:%Y-%m-%d_%H-%M-%S}\n",
      "  job_logging:\n",
      "    formatters:\n",
      "      simple:\n",
      "        format: '%(asctime)s [%(levelname)s][%(module)s] %(message)s'\n",
      "wandb:\n",
      "  enabled: false\n",
      "  entity: imokuri\n",
      "  project: ump\n",
      "  dir: ${hydra:runtime.cwd}/../cache\n",
      "  group: default\n",
      "settings:\n",
      "  print_freq: 100\n",
      "  gpus: 6,7\n",
      "  dirs:\n",
      "    working: ..\n",
      "    input: ../../inputs/\n",
      "  inputs:\n",
      "  - train.csv\n",
      "  - example_test.csv\n",
      "  - example_sample_submission.csv\n",
      "  debug: false\n",
      "  n_debug_data: 100000\n",
      "  amp: true\n",
      "  multi_gpu: true\n",
      "params:\n",
      "  seed: 440\n",
      "  n_class: 1\n",
      "  n_fold: 7\n",
      "  skip_training: false\n",
      "  epoch: 20\n",
      "  es_patience: 0\n",
      "  batch_size: 640\n",
      "  gradient_acc_step: 1\n",
      "  max_grad_norm: 1000\n",
      "  fold: group\n",
      "  group_name: investment_id\n",
      "  label_name: target\n",
      "  dataset: ump_1\n",
      "  model: ump_1\n",
      "  pretrained:\n",
      "  - dir: ../../datasets/trainings/2022-01-26_07-47-01/fold0/\n",
      "    model: ump_1\n",
      "  - dir: ../../datasets/trainings/2022-01-26_07-47-03/fold1/\n",
      "    model: ump_1\n",
      "  - dir: ../../datasets/trainings/2022-01-26_07-47-05/fold2/\n",
      "    model: ump_1\n",
      "  - dir: ../../datasets/trainings/2022-01-26_07-47-07/fold3/\n",
      "    model: ump_1\n",
      "  - dir: ../../datasets/trainings/2022-01-26_07-47-10/fold4/\n",
      "    model: ump_1\n",
      "  - dir: ../../datasets/trainings/2022-01-26_07-47-12/fold5/\n",
      "    model: ump_1\n",
      "  - dir: ../../datasets/trainings/2022-01-26_07-47-14/fold6/\n",
      "    model: ump_1\n",
      "  criterion: RMSELoss\n",
      "  optimizer: Adam\n",
      "  scheduler: CosineAnnealingWarmupRestarts\n",
      "  lr: 0.001\n",
      "  min_lr: 1.0e-06\n",
      "  weight_decay: 1.0e-05\n",
      "  label_smoothing: 1.0e-06\n",
      "  scoring: pearson\n",
      "\n"
     ]
    }
   ],
   "source": [
    "from omegaconf import OmegaConf\n",
    "\n",
    "c = OmegaConf.load(omega_conf_path)\n",
    "\n",
    "c.settings.debug = False\n",
    "c.wandb.enabled = False\n",
    "\n",
    "if in_kaggle():\n",
    "    c.settings.gpus = \"0\"\n",
    "\n",
    "    c.settings.dirs.working = \".\"\n",
    "    c.settings.dirs.input = \"../input/ubiquant-market-prediction/\"\n",
    "\n",
    "    pretraind_dir = \"../input/ump-models\"\n",
    "\n",
    "else:\n",
    "    c.settings.dirs.working = \"..\"\n",
    "    c.settings.dirs.input = \"../../inputs/\"\n",
    "\n",
    "    pretraind_dir = \"../../datasets/trainings\"\n",
    "\n",
    "pretrained = f\"\"\"\n",
    "- dir: {pretraind_dir}/2022-01-26_07-47-01/fold0/\n",
    "  model: ump_1\n",
    "- dir: {pretraind_dir}/2022-01-26_07-47-03/fold1/\n",
    "  model: ump_1\n",
    "- dir: {pretraind_dir}/2022-01-26_07-47-05/fold2/\n",
    "  model: ump_1\n",
    "- dir: {pretraind_dir}/2022-01-26_07-47-07/fold3/\n",
    "  model: ump_1\n",
    "- dir: {pretraind_dir}/2022-01-26_07-47-10/fold4/\n",
    "  model: ump_1\n",
    "- dir: {pretraind_dir}/2022-01-26_07-47-12/fold5/\n",
    "  model: ump_1\n",
    "- dir: {pretraind_dir}/2022-01-26_07-47-14/fold6/\n",
    "  model: ump_1\n",
    "\"\"\"\n",
    "\n",
    "c.params.pretrained = OmegaConf.create(pretrained)\n",
    "\n",
    "print(OmegaConf.to_yaml(c))"
   ]
  },
  {
   "cell_type": "code",
   "execution_count": 5,
   "metadata": {},
   "outputs": [],
   "source": [
    "import gc\n",
    "import traceback\n",
    "\n",
    "import src.utils as utils\n",
    "import ubiquant\n",
    "from src.load_model import load_model\n",
    "from src.run_loop import inference"
   ]
  },
  {
   "cell_type": "code",
   "execution_count": 6,
   "metadata": {},
   "outputs": [],
   "source": [
    "utils.fix_seed(c.params.seed)\n",
    "utils.debug_settings(c)\n",
    "device = utils.gpu_settings(c)"
   ]
  },
  {
   "cell_type": "code",
   "execution_count": 7,
   "metadata": {},
   "outputs": [],
   "source": [
    "models = load_model(c, device)"
   ]
  },
  {
   "cell_type": "code",
   "execution_count": 8,
   "metadata": {},
   "outputs": [],
   "source": [
    "env = ubiquant.make_env()  # initialize the environment\n",
    "iter_test = env.iter_test()  # an iterator which loops over the test set and sample submission"
   ]
  },
  {
   "cell_type": "code",
   "execution_count": 9,
   "metadata": {
    "tags": []
   },
   "outputs": [
    {
     "name": "stdout",
     "output_type": "stream",
     "text": [
      "This version of the API is not optimized and should not be used to estimate the runtime of your code on the hidden test set.\n"
     ]
    }
   ],
   "source": [
    "for test_df, sample_prediction_df in iter_test:\n",
    "    try:\n",
    "        gc.collect()\n",
    "\n",
    "        df = inference(c, test_df, device, models)\n",
    "        sample_prediction_df[\"target\"] = df[\"target\"]  # make your predictions here\n",
    "\n",
    "    except Exception as e:\n",
    "        print(\"ERROR!!!\")\n",
    "        print(traceback.format_exc())\n",
    "        pass\n",
    "\n",
    "    env.predict(sample_prediction_df)  # register your predictions"
   ]
  }
 ],
 "metadata": {
  "kernelspec": {
   "display_name": "py37-all-in-one",
   "language": "python",
   "name": "py37-all-in-one"
  },
  "language_info": {
   "codemirror_mode": {
    "name": "ipython",
    "version": 3
   },
   "file_extension": ".py",
   "mimetype": "text/x-python",
   "name": "python",
   "nbconvert_exporter": "python",
   "pygments_lexer": "ipython3",
   "version": "3.7.0"
  }
 },
 "nbformat": 4,
 "nbformat_minor": 4
}
