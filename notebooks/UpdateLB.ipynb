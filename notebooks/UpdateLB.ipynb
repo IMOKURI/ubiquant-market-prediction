{
 "cells": [
  {
   "cell_type": "code",
   "execution_count": 1,
   "id": "a7183d1a-90cb-4f28-942a-034bd2880d6f",
   "metadata": {},
   "outputs": [],
   "source": [
    "import os"
   ]
  },
  {
   "cell_type": "code",
   "execution_count": 2,
   "id": "3dbdbd92-575f-4252-be35-c95c2fdb52e6",
   "metadata": {},
   "outputs": [],
   "source": [
    "RUN_PATH = \"imokuri/ump/2baeyx1q\"\n",
    "LB_SCORE = 0.148"
   ]
  },
  {
   "cell_type": "code",
   "execution_count": 3,
   "id": "c484835c-42cc-40c4-98de-3217fff1aee5",
   "metadata": {},
   "outputs": [],
   "source": [
    "if LB_SCORE is not None:\n",
    "    import wandb\n",
    "    api = wandb.Api()\n",
    "\n",
    "    run = api.run(RUN_PATH)\n",
    "    run.summary[\"LB\"] = LB_SCORE\n",
    "    run.summary.update()"
   ]
  },
  {
   "cell_type": "code",
   "execution_count": null,
   "id": "0b3fa23a-cb78-4bd0-858a-3aabd3c7ec6a",
   "metadata": {},
   "outputs": [],
   "source": []
  }
 ],
 "metadata": {
  "kernelspec": {
   "display_name": "py38-all-in-one",
   "language": "python",
   "name": "py38-all-in-one"
  },
  "language_info": {
   "codemirror_mode": {
    "name": "ipython",
    "version": 3
   },
   "file_extension": ".py",
   "mimetype": "text/x-python",
   "name": "python",
   "nbconvert_exporter": "python",
   "pygments_lexer": "ipython3",
   "version": "3.8.11"
  }
 },
 "nbformat": 4,
 "nbformat_minor": 5
}
