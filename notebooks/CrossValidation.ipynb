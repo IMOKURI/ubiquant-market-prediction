{
 "cells": [
  {
   "cell_type": "markdown",
   "id": "9bf00bb0-eb5d-47ed-8396-d8e506c6fd87",
   "metadata": {},
   "source": [
    "# Cross Validation & Update LB"
   ]
  },
  {
   "cell_type": "code",
   "execution_count": null,
   "id": "518ecf7b-23d0-41fc-a7b3-9e17061c8daf",
   "metadata": {},
   "outputs": [],
   "source": [
    "# https://zenn.dev/currypurin/scraps/47d5f84a0ca89d\n",
    "\n",
    "import datetime\n",
    "import time\n",
    "from datetime import timezone\n",
    "\n",
    "from kaggle.api.kaggle_api_extended import KaggleApi\n",
    "\n",
    "api = KaggleApi()\n",
    "api.authenticate()\n",
    "\n",
    "COMPETITION = \"ubiquant-market-prediction\"\n",
    "result_ = api.competition_submissions(COMPETITION)[0]\n",
    "latest_ref = str(result_)  # 最新のサブミット番号\n",
    "submit_time = result_.date\n",
    "\n",
    "status = \"\"\n",
    "\n",
    "while status != \"complete\":\n",
    "    list_of_submission = api.competition_submissions(COMPETITION)\n",
    "    for result in list_of_submission:\n",
    "        if str(result.ref) == latest_ref:\n",
    "            break\n",
    "    status = result.status\n",
    "\n",
    "    now = datetime.datetime.now(timezone.utc).replace(tzinfo=None)\n",
    "    elapsed_time = int((now - submit_time).seconds / 60) + 1\n",
    "    if status == \"complete\":\n",
    "        print(\"\\r\", f\"run-time: {elapsed_time} min, LB: {result.publicScore}\")\n",
    "    else:\n",
    "        print(\"\\r\", f\"elapsed time: {elapsed_time} min\", end=\"\")\n",
    "        time.sleep(60)"
   ]
  },
  {
   "cell_type": "code",
   "execution_count": 1,
   "id": "da8f7e81-3e02-4449-bd27-2b612ab1399a",
   "metadata": {},
   "outputs": [],
   "source": [
    "import sys\n",
    "\n",
    "sys.path.append(\"..\")\n",
    "sys.path.append(\"../../inputs\")"
   ]
  },
  {
   "cell_type": "code",
   "execution_count": 2,
   "id": "285747a0-f0e7-4379-84b3-8356cfe9746a",
   "metadata": {},
   "outputs": [],
   "source": [
    "import logging\n",
    "\n",
    "logging.basicConfig(\n",
    "    # filename=__file__.replace('.py', '.log'),\n",
    "    level=logging.getLevelName(\"INFO\"),\n",
    "    format=\"%(asctime)s [%(levelname)s] [%(module)s] %(message)s\",\n",
    ")\n",
    "\n",
    "log = logging.getLogger(__name__)"
   ]
  },
  {
   "cell_type": "code",
   "execution_count": 3,
   "id": "8f0f150e-1c69-4a35-b8b8-760241d02133",
   "metadata": {},
   "outputs": [],
   "source": [
    "try:\n",
    "    LB_SCORE = result.publicScore\n",
    "except Exception:\n",
    "    LB_SCORE = 0.150"
   ]
  },
  {
   "cell_type": "code",
   "execution_count": 9,
   "id": "a93d0a09-8361-4c6d-a7d4-11ed389cc855",
   "metadata": {},
   "outputs": [
    {
     "name": "stderr",
     "output_type": "stream",
     "text": [
      "2022-01-26 21:42:21,246 [INFO] [2523262202] defaults:\n",
      "- _self_\n",
      "hydra:\n",
      "  run:\n",
      "    dir: ../outputs/${now:%Y-%m-%d_%H-%M-%S}\n",
      "  job_logging:\n",
      "    formatters:\n",
      "      simple:\n",
      "        format: '%(asctime)s [%(levelname)s][%(module)s] %(message)s'\n",
      "wandb:\n",
      "  enabled: true\n",
      "  entity: imokuri\n",
      "  project: ump\n",
      "  dir: ../../cache/\n",
      "  group: LB\n",
      "settings:\n",
      "  print_freq: 100\n",
      "  gpus: 6,7\n",
      "  dirs:\n",
      "    working: ..\n",
      "    input: ../../inputs/\n",
      "  inputs:\n",
      "  - train.csv\n",
      "  - example_test.csv\n",
      "  - example_sample_submission.csv\n",
      "  debug: false\n",
      "  n_debug_data: 100000\n",
      "  amp: true\n",
      "  multi_gpu: true\n",
      "params:\n",
      "  seed: 440\n",
      "  n_class: 1\n",
      "  n_fold: 7\n",
      "  skip_training: false\n",
      "  epoch: 20\n",
      "  es_patience: 0\n",
      "  batch_size: 640\n",
      "  gradient_acc_step: 1\n",
      "  max_grad_norm: 1000\n",
      "  fold: group\n",
      "  group_name: investment_id\n",
      "  label_name: target\n",
      "  dataset: ump_1\n",
      "  model: ump_1\n",
      "  pretrained:\n",
      "  - dir: ../../datasets/trainings/2022-01-26_07-47-01/fold0/\n",
      "    model: ump_1\n",
      "  - dir: ../../datasets/trainings/2022-01-26_07-47-03/fold1/\n",
      "    model: ump_1\n",
      "  - dir: ../../datasets/trainings/2022-01-26_07-47-05/fold2/\n",
      "    model: ump_1\n",
      "  - dir: ../../datasets/trainings/2022-01-26_07-47-07/fold3/\n",
      "    model: ump_1\n",
      "  - dir: ../../datasets/trainings/2022-01-26_07-47-10/fold4/\n",
      "    model: ump_1\n",
      "  - dir: ../../datasets/trainings/2022-01-26_07-47-12/fold5/\n",
      "    model: ump_1\n",
      "  - dir: ../../datasets/trainings/2022-01-26_07-47-14/fold6/\n",
      "    model: ump_1\n",
      "  criterion: RMSELoss\n",
      "  optimizer: Adam\n",
      "  scheduler: CosineAnnealingWarmupRestarts\n",
      "  lr: 0.001\n",
      "  min_lr: 1.0e-06\n",
      "  weight_decay: 1.0e-05\n",
      "  label_smoothing: 1.0e-06\n",
      "  scoring: pearson\n",
      "\n"
     ]
    }
   ],
   "source": [
    "from omegaconf import OmegaConf\n",
    "\n",
    "c = OmegaConf.load(\"../config/main.yaml\")\n",
    "\n",
    "c.settings.debug = False\n",
    "c.wandb.enabled = True\n",
    "c.wandb.group = \"LB\"\n",
    "c.wandb.dir = \"../../cache/\"\n",
    "c.settings.dirs.working = \"..\"\n",
    "c.settings.dirs.input = \"../../inputs/\"\n",
    "\n",
    "pretrained = \"\"\"\n",
    "- dir: ../../datasets/trainings/2022-01-26_07-47-01/fold0/\n",
    "  model: ump_1\n",
    "- dir: ../../datasets/trainings/2022-01-26_07-47-03/fold1/\n",
    "  model: ump_1\n",
    "- dir: ../../datasets/trainings/2022-01-26_07-47-05/fold2/\n",
    "  model: ump_1\n",
    "- dir: ../../datasets/trainings/2022-01-26_07-47-07/fold3/\n",
    "  model: ump_1\n",
    "- dir: ../../datasets/trainings/2022-01-26_07-47-10/fold4/\n",
    "  model: ump_1\n",
    "- dir: ../../datasets/trainings/2022-01-26_07-47-12/fold5/\n",
    "  model: ump_1\n",
    "- dir: ../../datasets/trainings/2022-01-26_07-47-14/fold6/\n",
    "  model: ump_1\n",
    "\"\"\"\n",
    "\n",
    "c.params.pretrained = OmegaConf.create(pretrained)\n",
    "\n",
    "log.info(OmegaConf.to_yaml(c))"
   ]
  },
  {
   "cell_type": "code",
   "execution_count": 15,
   "id": "f90387ae-31e0-4606-9e94-0de5b915586a",
   "metadata": {},
   "outputs": [],
   "source": [
    "import pandas as pd\n",
    "import os\n",
    "\n",
    "import src.utils as utils\n",
    "from src.get_score import record_result"
   ]
  },
  {
   "cell_type": "code",
   "execution_count": 11,
   "id": "2299f35f-adc1-4145-88ea-0d18a8e70855",
   "metadata": {},
   "outputs": [
    {
     "name": "stderr",
     "output_type": "stream",
     "text": [
      "2022-01-26 21:42:21,514 [ERROR] [jupyter] Failed to detect the name of this notebook, you can set it manually with the WANDB_NOTEBOOK_NAME environment variable to enable code saving.\n",
      "\u001b[34m\u001b[1mwandb\u001b[0m: Currently logged in as: \u001b[33mimokuri\u001b[0m (use `wandb login --relogin` to force relogin)\n",
      "\u001b[34m\u001b[1mwandb\u001b[0m: wandb version 0.12.9 is available!  To upgrade, please run:\n",
      "\u001b[34m\u001b[1mwandb\u001b[0m:  $ pip install wandb --upgrade\n"
     ]
    },
    {
     "data": {
      "text/html": [
       "\n",
       "                    Syncing run <strong><a href=\"https://wandb.ai/imokuri/ump/runs/2v5mts7z\" target=\"_blank\">drawn-pond-29</a></strong> to <a href=\"https://wandb.ai/imokuri/ump\" target=\"_blank\">Weights & Biases</a> (<a href=\"https://docs.wandb.com/integrations/jupyter.html\" target=\"_blank\">docs</a>).<br/>\n",
       "\n",
       "                "
      ],
      "text/plain": [
       "<IPython.core.display.HTML object>"
      ]
     },
     "metadata": {},
     "output_type": "display_data"
    },
    {
     "name": "stderr",
     "output_type": "stream",
     "text": [
      "2022-01-26 21:42:25,117 [INFO] [utils] WandB initialized. name: drawn-pond-29, id: 2v5mts7z\n"
     ]
    }
   ],
   "source": [
    "run = utils.setup_wandb(c)"
   ]
  },
  {
   "cell_type": "code",
   "execution_count": 16,
   "id": "f6ed3c37-8de4-4f68-86df-1223cda3baab",
   "metadata": {},
   "outputs": [
    {
     "name": "stderr",
     "output_type": "stream",
     "text": [
      "2022-01-26 21:42:56,896 [INFO] [get_score] Score: 0.13359\n"
     ]
    },
    {
     "data": {
      "text/plain": [
       "0.13358646953954795"
      ]
     },
     "execution_count": 16,
     "metadata": {},
     "output_type": "execute_result"
    }
   ],
   "source": [
    "# TODO: simple_cpcv のときの oof の計算 0 で初期化して、足し算して、 5 で割る感じかな\n",
    "\n",
    "oof_dfs = []\n",
    "\n",
    "for n, training in enumerate(c.params.pretrained):\n",
    "    oof_df = pd.read_feather(os.path.join(training.dir.rsplit(\"/\", 2)[0], \"oof_df.f\"))\n",
    "    oof_dfs.append(oof_df)\n",
    "\n",
    "oof_df = pd.concat(oof_dfs)\n",
    "\n",
    "record_result(c, oof_df, c.params.n_fold)"
   ]
  },
  {
   "cell_type": "code",
   "execution_count": 17,
   "id": "7026f62f-b65a-4217-aff5-0c0afca0faa1",
   "metadata": {},
   "outputs": [],
   "source": [
    "run.summary[\"LB\"] = LB_SCORE"
   ]
  },
  {
   "cell_type": "code",
   "execution_count": null,
   "id": "b89c3bde-1cfb-4dee-ab79-641414ab3d15",
   "metadata": {},
   "outputs": [],
   "source": []
  }
 ],
 "metadata": {
  "kernelspec": {
   "display_name": "py37-all-in-one",
   "language": "python",
   "name": "py37-all-in-one"
  },
  "language_info": {
   "codemirror_mode": {
    "name": "ipython",
    "version": 3
   },
   "file_extension": ".py",
   "mimetype": "text/x-python",
   "name": "python",
   "nbconvert_exporter": "python",
   "pygments_lexer": "ipython3",
   "version": "3.7.0"
  }
 },
 "nbformat": 4,
 "nbformat_minor": 5
}
