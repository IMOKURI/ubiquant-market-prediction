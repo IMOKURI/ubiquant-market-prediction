{
 "cells": [
  {
   "cell_type": "markdown",
   "id": "9bf00bb0-eb5d-47ed-8396-d8e506c6fd87",
   "metadata": {},
   "source": [
    "# Cross Validation"
   ]
  },
  {
   "cell_type": "code",
   "execution_count": 1,
   "id": "da8f7e81-3e02-4449-bd27-2b612ab1399a",
   "metadata": {},
   "outputs": [],
   "source": [
    "import sys\n",
    "\n",
    "sys.path.append(\"..\")\n",
    "sys.path.append(\"../../inputs\")"
   ]
  },
  {
   "cell_type": "code",
   "execution_count": 2,
   "id": "285747a0-f0e7-4379-84b3-8356cfe9746a",
   "metadata": {},
   "outputs": [],
   "source": [
    "import logging\n",
    "\n",
    "logging.basicConfig(\n",
    "    # filename=__file__.replace('.py', '.log'),\n",
    "    stream=sys.stdout,\n",
    "    level=logging.getLevelName(\"INFO\"),\n",
    "    format=\"%(asctime)s [%(levelname)s] [%(module)s] %(message)s\",\n",
    ")\n",
    "\n",
    "log = logging.getLogger(__name__)"
   ]
  },
  {
   "cell_type": "code",
   "execution_count": 3,
   "id": "a93d0a09-8361-4c6d-a7d4-11ed389cc855",
   "metadata": {},
   "outputs": [],
   "source": [
    "from omegaconf import OmegaConf\n",
    "\n",
    "c = OmegaConf.load(\"../config/main.yaml\")\n",
    "\n",
    "c.settings.debug = False\n",
    "c.wandb.enabled = False\n",
    "c.wandb.group = \"LB\"\n",
    "c.wandb.dir = \"../../cache/\"\n",
    "c.settings.dirs.working = \"..\"\n",
    "c.settings.dirs.input = \"../../inputs/\"\n",
    "\n",
    "pretraind_dir = \"../../datasets/trainings\""
   ]
  },
  {
   "cell_type": "code",
   "execution_count": 4,
   "id": "e1295fa3-7451-468d-81b0-3bf0bd4ccf86",
   "metadata": {},
   "outputs": [],
   "source": [
    "pretrained = f\"\"\"\n",
    "- dir: {pretraind_dir}/2022-03-04_07-58-24/fold1/ \n",
    "  model: ump_lstm\n",
    "- dir: {pretraind_dir}/2022-03-04_07-58-30/fold2/ \n",
    "  model: ump_lstm\n",
    "- dir: {pretraind_dir}/2022-03-04_07-59-03/fold3/ \n",
    "  model: ump_lstm\n",
    "- dir: {pretraind_dir}/2022-03-04_07-59-08/fold4/ \n",
    "  model: ump_lstm\n",
    "- dir: {pretraind_dir}/2022-03-04_07-59-14/fold5/ \n",
    "  model: ump_lstm\n",
    "- dir: {pretraind_dir}/2022-03-04_13-14-39/fold0/ \n",
    "  model: ump_lstm\n",
    "\n",
    "\"\"\"\n",
    "\n",
    "_pretrained = f\"\"\"\n",
    "\"\"\"\n",
    "\n",
    "c.params.pretrained = OmegaConf.create(pretrained)"
   ]
  },
  {
   "cell_type": "code",
   "execution_count": 5,
   "id": "cd93364e-f899-497d-beb9-9b38cc619fc4",
   "metadata": {},
   "outputs": [
    {
     "name": "stdout",
     "output_type": "stream",
     "text": [
      "2022-03-05 20:08:57,283 [INFO] [3244290467] defaults:\n",
      "- _self_\n",
      "hydra:\n",
      "  run:\n",
      "    dir: ../outputs/${now:%Y-%m-%d_%H-%M-%S}\n",
      "  job_logging:\n",
      "    formatters:\n",
      "      simple:\n",
      "        format: '%(asctime)s [%(levelname)s][%(module)s] %(message)s'\n",
      "wandb:\n",
      "  enabled: true\n",
      "  entity: imokuri\n",
      "  project: ump\n",
      "  dir: ../../cache/\n",
      "  group: LB\n",
      "settings:\n",
      "  print_freq: 100\n",
      "  gpus: '6'\n",
      "  dirs:\n",
      "    working: ..\n",
      "    input: ../../inputs/\n",
      "    input_minimal: ${hydra:runtime.cwd}/../datasets/inputs/\n",
      "    feature: ${settings.dirs.input}features/\n",
      "    preprocess: ${settings.dirs.input}preprocess/\n",
      "  inputs:\n",
      "  - train.csv\n",
      "  - example_test.csv\n",
      "  - example_sample_submission.csv\n",
      "  debug: false\n",
      "  n_debug_data: 100000\n",
      "  amp: true\n",
      "  multi_gpu: true\n",
      "  training_method: nn\n",
      "params:\n",
      "  seed: 440\n",
      "  n_class: 10\n",
      "  preprocess: []\n",
      "  pca_n_components: 50\n",
      "  n_fold: 5\n",
      "  skip_training: false\n",
      "  epoch: 10\n",
      "  es_patience: 0\n",
      "  batch_size: 640\n",
      "  gradient_acc_step: 1\n",
      "  max_grad_norm: 1000\n",
      "  fold: combinational_purged\n",
      "  group_name: investment_id\n",
      "  time_name: time_id\n",
      "  label_name: target\n",
      "  use_feature: true\n",
      "  feature_set:\n",
      "  - f001\n",
      "  - f410\n",
      "  - f411\n",
      "  - f902\n",
      "  dataset: ump_1\n",
      "  model: ump_lstm\n",
      "  model_input: 900\n",
      "  model_window: 10\n",
      "  pretrained:\n",
      "  - dir: ../../datasets/trainings/2022-03-04_07-58-24/fold1/\n",
      "    model: ump_lstm\n",
      "  - dir: ../../datasets/trainings/2022-03-04_07-58-30/fold2/\n",
      "    model: ump_lstm\n",
      "  - dir: ../../datasets/trainings/2022-03-04_07-59-03/fold3/\n",
      "    model: ump_lstm\n",
      "  - dir: ../../datasets/trainings/2022-03-04_07-59-08/fold4/\n",
      "    model: ump_lstm\n",
      "  - dir: ../../datasets/trainings/2022-03-04_07-59-14/fold5/\n",
      "    model: ump_lstm\n",
      "  - dir: ../../datasets/trainings/2022-03-04_13-14-39/fold0/\n",
      "    model: ump_lstm\n",
      "  criterion: RMSELoss\n",
      "  optimizer: Adam\n",
      "  scheduler: CosineAnnealingWarmupRestarts\n",
      "  lr: 0.001\n",
      "  min_lr: 1.0e-06\n",
      "  weight_decay: 1.0e-05\n",
      "  label_smoothing: 1.0e-06\n",
      "  scoring: pearson\n",
      "\n"
     ]
    }
   ],
   "source": [
    "log.info(OmegaConf.to_yaml(c))"
   ]
  },
  {
   "cell_type": "code",
   "execution_count": 6,
   "id": "f90387ae-31e0-4606-9e94-0de5b915586a",
   "metadata": {},
   "outputs": [],
   "source": [
    "import os\n",
    "\n",
    "import pandas as pd\n",
    "import src.utils as utils\n",
    "from src.get_score import record_result\n",
    "from tqdm.notebook import tqdm"
   ]
  },
  {
   "cell_type": "code",
   "execution_count": 7,
   "id": "2299f35f-adc1-4145-88ea-0d18a8e70855",
   "metadata": {},
   "outputs": [
    {
     "name": "stdout",
     "output_type": "stream",
     "text": [
      "2022-03-05 20:08:58,931 [ERROR] [jupyter] Failed to detect the name of this notebook, you can set it manually with the WANDB_NOTEBOOK_NAME environment variable to enable code saving.\n"
     ]
    },
    {
     "name": "stderr",
     "output_type": "stream",
     "text": [
      "\u001b[34m\u001b[1mwandb\u001b[0m: Currently logged in as: \u001b[33mimokuri\u001b[0m (use `wandb login --relogin` to force relogin)\n",
      "\u001b[34m\u001b[1mwandb\u001b[0m: wandb version 0.12.11 is available!  To upgrade, please run:\n",
      "\u001b[34m\u001b[1mwandb\u001b[0m:  $ pip install wandb --upgrade\n"
     ]
    },
    {
     "data": {
      "text/html": [
       "\n",
       "                    Syncing run <strong><a href=\"https://wandb.ai/imokuri/ump/runs/1ft3vx1j\" target=\"_blank\">lyric-shape-360</a></strong> to <a href=\"https://wandb.ai/imokuri/ump\" target=\"_blank\">Weights & Biases</a> (<a href=\"https://docs.wandb.com/integrations/jupyter.html\" target=\"_blank\">docs</a>).<br/>\n",
       "\n",
       "                "
      ],
      "text/plain": [
       "<IPython.core.display.HTML object>"
      ]
     },
     "metadata": {},
     "output_type": "display_data"
    },
    {
     "name": "stdout",
     "output_type": "stream",
     "text": [
      "2022-03-05 20:09:02,690 [INFO] [utils] WandB initialized. name: lyric-shape-360, id: 1ft3vx1j\n"
     ]
    }
   ],
   "source": [
    "run = utils.setup_wandb(c)"
   ]
  },
  {
   "cell_type": "code",
   "execution_count": 8,
   "id": "a96e5674-1772-4c24-9053-c9656c41c66b",
   "metadata": {},
   "outputs": [],
   "source": [
    "train = pd.read_feather(\"../../inputs/train.f\")\n",
    "train = train.loc[:, [\"row_id\", \"time_id\", \"target\"]]\n",
    "train.set_index(\"row_id\", inplace=True)"
   ]
  },
  {
   "cell_type": "code",
   "execution_count": 9,
   "id": "f6ed3c37-8de4-4f68-86df-1223cda3baab",
   "metadata": {},
   "outputs": [
    {
     "data": {
      "application/vnd.jupyter.widget-view+json": {
       "model_id": "d74d41ac8d8b41378e8cb88c0902ee8f",
       "version_major": 2,
       "version_minor": 0
      },
      "text/plain": [
       "  0%|          | 0/6 [00:00<?, ?it/s]"
      ]
     },
     "metadata": {},
     "output_type": "display_data"
    }
   ],
   "source": [
    "preds_col = []\n",
    "\n",
    "# 各 OOF の結果を読み取り\n",
    "for n, training in tqdm(enumerate(c.params.pretrained), total=len(c.params.pretrained)):\n",
    "    preds_col.append(f\"preds{n}\")\n",
    "    oof_df = pd.read_feather(os.path.join(training.dir.rsplit(\"/\", 2)[0], \"oof_df.f\")).set_index(\"row_id\")\n",
    "\n",
    "    if training.model == \"lightgbm\":\n",
    "        train[f\"preds{n}\"] = oof_df[\"preds\"].groupby(\"row_id\").sum()\n",
    "    else:\n",
    "        train[f\"preds{n}\"] = oof_df[\"preds\"]\n",
    "\n",
    "# 各行の OOF の結果の数をカウントする\n",
    "train[\"count_oof\"] = len(c.params.pretrained) - train.isnull().sum(axis=1)  # + 4\n",
    "\n",
    "# OOF の結果がない行を 0 埋め\n",
    "train.fillna(0, inplace=True)\n",
    "\n",
    "# OOF の結果をマージ\n",
    "train[\"preds\"] = 0\n",
    "for col in preds_col:\n",
    "    train[\"preds\"] += train[col]\n",
    "\n",
    "# 推論結果がないものは除外\n",
    "train = train[train[\"preds\"] != 0.0]\n",
    "\n",
    "# 複数 OOF を加算している場合は、OOFの数で割る\n",
    "train[\"preds\"] = train[\"preds\"] / train[\"count_oof\"]"
   ]
  },
  {
   "cell_type": "code",
   "execution_count": 10,
   "id": "7881d522-79fe-4a7b-acf8-f56fd5de359f",
   "metadata": {},
   "outputs": [
    {
     "data": {
      "text/html": [
       "<div>\n",
       "<style scoped>\n",
       "    .dataframe tbody tr th:only-of-type {\n",
       "        vertical-align: middle;\n",
       "    }\n",
       "\n",
       "    .dataframe tbody tr th {\n",
       "        vertical-align: top;\n",
       "    }\n",
       "\n",
       "    .dataframe thead th {\n",
       "        text-align: right;\n",
       "    }\n",
       "</style>\n",
       "<table border=\"1\" class=\"dataframe\">\n",
       "  <thead>\n",
       "    <tr style=\"text-align: right;\">\n",
       "      <th></th>\n",
       "      <th>time_id</th>\n",
       "      <th>target</th>\n",
       "      <th>preds0</th>\n",
       "      <th>preds1</th>\n",
       "      <th>preds2</th>\n",
       "      <th>preds3</th>\n",
       "      <th>preds4</th>\n",
       "      <th>preds5</th>\n",
       "      <th>count_oof</th>\n",
       "      <th>preds</th>\n",
       "    </tr>\n",
       "    <tr>\n",
       "      <th>row_id</th>\n",
       "      <th></th>\n",
       "      <th></th>\n",
       "      <th></th>\n",
       "      <th></th>\n",
       "      <th></th>\n",
       "      <th></th>\n",
       "      <th></th>\n",
       "      <th></th>\n",
       "      <th></th>\n",
       "      <th></th>\n",
       "    </tr>\n",
       "  </thead>\n",
       "  <tbody>\n",
       "    <tr>\n",
       "      <th>0_1</th>\n",
       "      <td>0</td>\n",
       "      <td>-0.300875</td>\n",
       "      <td>0.0</td>\n",
       "      <td>0.0</td>\n",
       "      <td>0.0</td>\n",
       "      <td>0.0</td>\n",
       "      <td>0.000000</td>\n",
       "      <td>0.000833</td>\n",
       "      <td>1</td>\n",
       "      <td>0.000833</td>\n",
       "    </tr>\n",
       "    <tr>\n",
       "      <th>0_2</th>\n",
       "      <td>0</td>\n",
       "      <td>-0.231040</td>\n",
       "      <td>0.0</td>\n",
       "      <td>0.0</td>\n",
       "      <td>0.0</td>\n",
       "      <td>0.0</td>\n",
       "      <td>0.000000</td>\n",
       "      <td>-0.034454</td>\n",
       "      <td>1</td>\n",
       "      <td>-0.034454</td>\n",
       "    </tr>\n",
       "    <tr>\n",
       "      <th>0_6</th>\n",
       "      <td>0</td>\n",
       "      <td>0.568807</td>\n",
       "      <td>0.0</td>\n",
       "      <td>0.0</td>\n",
       "      <td>0.0</td>\n",
       "      <td>0.0</td>\n",
       "      <td>0.000000</td>\n",
       "      <td>0.031128</td>\n",
       "      <td>1</td>\n",
       "      <td>0.031128</td>\n",
       "    </tr>\n",
       "    <tr>\n",
       "      <th>0_7</th>\n",
       "      <td>0</td>\n",
       "      <td>-1.064780</td>\n",
       "      <td>0.0</td>\n",
       "      <td>0.0</td>\n",
       "      <td>0.0</td>\n",
       "      <td>0.0</td>\n",
       "      <td>0.000000</td>\n",
       "      <td>-0.079834</td>\n",
       "      <td>1</td>\n",
       "      <td>-0.079834</td>\n",
       "    </tr>\n",
       "    <tr>\n",
       "      <th>0_8</th>\n",
       "      <td>0</td>\n",
       "      <td>-0.531940</td>\n",
       "      <td>0.0</td>\n",
       "      <td>0.0</td>\n",
       "      <td>0.0</td>\n",
       "      <td>0.0</td>\n",
       "      <td>0.000000</td>\n",
       "      <td>0.025497</td>\n",
       "      <td>1</td>\n",
       "      <td>0.025497</td>\n",
       "    </tr>\n",
       "    <tr>\n",
       "      <th>...</th>\n",
       "      <td>...</td>\n",
       "      <td>...</td>\n",
       "      <td>...</td>\n",
       "      <td>...</td>\n",
       "      <td>...</td>\n",
       "      <td>...</td>\n",
       "      <td>...</td>\n",
       "      <td>...</td>\n",
       "      <td>...</td>\n",
       "      <td>...</td>\n",
       "    </tr>\n",
       "    <tr>\n",
       "      <th>1219_3768</th>\n",
       "      <td>1219</td>\n",
       "      <td>0.033600</td>\n",
       "      <td>0.0</td>\n",
       "      <td>0.0</td>\n",
       "      <td>0.0</td>\n",
       "      <td>0.0</td>\n",
       "      <td>-0.143311</td>\n",
       "      <td>0.000000</td>\n",
       "      <td>1</td>\n",
       "      <td>-0.143311</td>\n",
       "    </tr>\n",
       "    <tr>\n",
       "      <th>1219_3769</th>\n",
       "      <td>1219</td>\n",
       "      <td>-0.223264</td>\n",
       "      <td>0.0</td>\n",
       "      <td>0.0</td>\n",
       "      <td>0.0</td>\n",
       "      <td>0.0</td>\n",
       "      <td>-0.153076</td>\n",
       "      <td>0.000000</td>\n",
       "      <td>1</td>\n",
       "      <td>-0.153076</td>\n",
       "    </tr>\n",
       "    <tr>\n",
       "      <th>1219_3770</th>\n",
       "      <td>1219</td>\n",
       "      <td>-0.559415</td>\n",
       "      <td>0.0</td>\n",
       "      <td>0.0</td>\n",
       "      <td>0.0</td>\n",
       "      <td>0.0</td>\n",
       "      <td>0.076843</td>\n",
       "      <td>0.000000</td>\n",
       "      <td>1</td>\n",
       "      <td>0.076843</td>\n",
       "    </tr>\n",
       "    <tr>\n",
       "      <th>1219_3772</th>\n",
       "      <td>1219</td>\n",
       "      <td>0.009599</td>\n",
       "      <td>0.0</td>\n",
       "      <td>0.0</td>\n",
       "      <td>0.0</td>\n",
       "      <td>0.0</td>\n",
       "      <td>0.099121</td>\n",
       "      <td>0.000000</td>\n",
       "      <td>1</td>\n",
       "      <td>0.099121</td>\n",
       "    </tr>\n",
       "    <tr>\n",
       "      <th>1219_3773</th>\n",
       "      <td>1219</td>\n",
       "      <td>1.212112</td>\n",
       "      <td>0.0</td>\n",
       "      <td>0.0</td>\n",
       "      <td>0.0</td>\n",
       "      <td>0.0</td>\n",
       "      <td>0.043274</td>\n",
       "      <td>0.000000</td>\n",
       "      <td>1</td>\n",
       "      <td>0.043274</td>\n",
       "    </tr>\n",
       "  </tbody>\n",
       "</table>\n",
       "<p>3141291 rows × 10 columns</p>\n",
       "</div>"
      ],
      "text/plain": [
       "           time_id    target  preds0  preds1  preds2  preds3    preds4  \\\n",
       "row_id                                                                   \n",
       "0_1              0 -0.300875     0.0     0.0     0.0     0.0  0.000000   \n",
       "0_2              0 -0.231040     0.0     0.0     0.0     0.0  0.000000   \n",
       "0_6              0  0.568807     0.0     0.0     0.0     0.0  0.000000   \n",
       "0_7              0 -1.064780     0.0     0.0     0.0     0.0  0.000000   \n",
       "0_8              0 -0.531940     0.0     0.0     0.0     0.0  0.000000   \n",
       "...            ...       ...     ...     ...     ...     ...       ...   \n",
       "1219_3768     1219  0.033600     0.0     0.0     0.0     0.0 -0.143311   \n",
       "1219_3769     1219 -0.223264     0.0     0.0     0.0     0.0 -0.153076   \n",
       "1219_3770     1219 -0.559415     0.0     0.0     0.0     0.0  0.076843   \n",
       "1219_3772     1219  0.009599     0.0     0.0     0.0     0.0  0.099121   \n",
       "1219_3773     1219  1.212112     0.0     0.0     0.0     0.0  0.043274   \n",
       "\n",
       "             preds5  count_oof     preds  \n",
       "row_id                                    \n",
       "0_1        0.000833          1  0.000833  \n",
       "0_2       -0.034454          1 -0.034454  \n",
       "0_6        0.031128          1  0.031128  \n",
       "0_7       -0.079834          1 -0.079834  \n",
       "0_8        0.025497          1  0.025497  \n",
       "...             ...        ...       ...  \n",
       "1219_3768  0.000000          1 -0.143311  \n",
       "1219_3769  0.000000          1 -0.153076  \n",
       "1219_3770  0.000000          1  0.076843  \n",
       "1219_3772  0.000000          1  0.099121  \n",
       "1219_3773  0.000000          1  0.043274  \n",
       "\n",
       "[3141291 rows x 10 columns]"
      ]
     },
     "execution_count": 10,
     "metadata": {},
     "output_type": "execute_result"
    }
   ],
   "source": [
    "train"
   ]
  },
  {
   "cell_type": "code",
   "execution_count": 11,
   "id": "1d9feb60-fe3d-43ee-914e-8bb1398851c7",
   "metadata": {},
   "outputs": [
    {
     "data": {
      "text/plain": [
       "1    3141291\n",
       "Name: count_oof, dtype: int64"
      ]
     },
     "execution_count": 11,
     "metadata": {},
     "output_type": "execute_result"
    }
   ],
   "source": [
    "train[\"count_oof\"].value_counts()"
   ]
  },
  {
   "cell_type": "code",
   "execution_count": 12,
   "id": "9a551787-a351-4d97-a500-78b6db76ebf7",
   "metadata": {},
   "outputs": [
    {
     "name": "stdout",
     "output_type": "stream",
     "text": [
      "2022-03-05 20:09:12,249 [INFO] [get_score] Score: 0.11832\n"
     ]
    },
    {
     "data": {
      "text/plain": [
       "0.11831549679775508"
      ]
     },
     "execution_count": 12,
     "metadata": {},
     "output_type": "execute_result"
    }
   ],
   "source": [
    "record_result(c, train, c.params.n_fold)"
   ]
  },
  {
   "cell_type": "code",
   "execution_count": null,
   "id": "ac380478-5093-43b1-be70-9f153353c6a4",
   "metadata": {},
   "outputs": [],
   "source": []
  }
 ],
 "metadata": {
  "kernelspec": {
   "display_name": "py37-all-in-one",
   "language": "python",
   "name": "py37-all-in-one"
  },
  "language_info": {
   "codemirror_mode": {
    "name": "ipython",
    "version": 3
   },
   "file_extension": ".py",
   "mimetype": "text/x-python",
   "name": "python",
   "nbconvert_exporter": "python",
   "pygments_lexer": "ipython3",
   "version": "3.7.0"
  }
 },
 "nbformat": 4,
 "nbformat_minor": 5
}
