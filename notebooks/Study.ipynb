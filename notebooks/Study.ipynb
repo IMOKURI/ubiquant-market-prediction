{
 "cells": [
  {
   "cell_type": "markdown",
   "id": "16b0c43f-b039-4106-9e29-cfb895c681e4",
   "metadata": {},
   "source": [
    "# Study room"
   ]
  },
  {
   "cell_type": "markdown",
   "id": "affeb23a-3e64-4ae3-8578-699a0f3aefb8",
   "metadata": {},
   "source": [
    "## Layer Norm for 1d data"
   ]
  },
  {
   "cell_type": "code",
   "execution_count": 1,
   "id": "1e7975c4-7eeb-4c4f-b4c8-cbb1fcc2a1b7",
   "metadata": {},
   "outputs": [],
   "source": [
    "import numpy as np\n",
    "import torch\n",
    "import torch.nn as nn\n",
    "import torch.nn.functional as F\n"
   ]
  },
  {
   "cell_type": "code",
   "execution_count": 2,
   "id": "f67e27f6-cbdf-4e16-83db-cea3ff716201",
   "metadata": {},
   "outputs": [],
   "source": [
    "features = torch.randn(2, 3)"
   ]
  },
  {
   "cell_type": "code",
   "execution_count": 3,
   "id": "48035175-81b4-4735-ad24-a26f6e7ec6ac",
   "metadata": {},
   "outputs": [
    {
     "data": {
      "text/plain": [
       "tensor([[-0.3726,  0.5572,  0.0804],\n",
       "        [-1.3519, -0.9464,  1.0852]])"
      ]
     },
     "execution_count": 3,
     "metadata": {},
     "output_type": "execute_result"
    }
   ],
   "source": [
    "features"
   ]
  },
  {
   "cell_type": "code",
   "execution_count": 5,
   "id": "9219b649-603a-40e5-8e29-ed56995d771f",
   "metadata": {},
   "outputs": [],
   "source": [
    "layer_norm = nn.LayerNorm(3)"
   ]
  },
  {
   "cell_type": "code",
   "execution_count": 6,
   "id": "2dbe826d-9fc6-45bb-b979-e407bda39242",
   "metadata": {},
   "outputs": [
    {
     "data": {
      "text/plain": [
       "tensor([[-1.2141,  1.2350, -0.0210],\n",
       "        [-0.8887, -0.5084,  1.3971]], grad_fn=<NativeLayerNormBackward>)"
      ]
     },
     "execution_count": 6,
     "metadata": {},
     "output_type": "execute_result"
    }
   ],
   "source": [
    "layer_norm(features)"
   ]
  },
  {
   "cell_type": "code",
   "execution_count": 9,
   "id": "21c93f71-e477-4798-9160-975459bcd068",
   "metadata": {},
   "outputs": [],
   "source": [
    "batch_norm = nn.BatchNorm1d(3)"
   ]
  },
  {
   "cell_type": "code",
   "execution_count": 10,
   "id": "8c4fa203-5513-44b6-b2f0-1c7a20d362d1",
   "metadata": {},
   "outputs": [
    {
     "data": {
      "text/plain": [
       "tensor([[ 1.0000,  1.0000, -1.0000],\n",
       "        [-1.0000, -1.0000,  1.0000]], grad_fn=<NativeBatchNormBackward>)"
      ]
     },
     "execution_count": 10,
     "metadata": {},
     "output_type": "execute_result"
    }
   ],
   "source": [
    "batch_norm(features)"
   ]
  },
  {
   "cell_type": "code",
   "execution_count": null,
   "id": "e2bd2b66-8cb7-4489-a2bd-3ba1b83f10d3",
   "metadata": {},
   "outputs": [],
   "source": []
  }
 ],
 "metadata": {
  "kernelspec": {
   "display_name": "py37-all-in-one",
   "language": "python",
   "name": "py37-all-in-one"
  },
  "language_info": {
   "codemirror_mode": {
    "name": "ipython",
    "version": 3
   },
   "file_extension": ".py",
   "mimetype": "text/x-python",
   "name": "python",
   "nbconvert_exporter": "python",
   "pygments_lexer": "ipython3",
   "version": "3.7.0"
  }
 },
 "nbformat": 4,
 "nbformat_minor": 5
}
