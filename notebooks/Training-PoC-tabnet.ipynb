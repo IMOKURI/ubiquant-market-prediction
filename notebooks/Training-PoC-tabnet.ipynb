{
 "cells": [
  {
   "cell_type": "markdown",
   "id": "3933b5ca-2b69-438a-b31c-d5410dd3ff87",
   "metadata": {},
   "source": [
    "# Training PoC"
   ]
  },
  {
   "cell_type": "code",
   "execution_count": 1,
   "id": "2aa35ceb-50e9-4090-bf01-af0423059961",
   "metadata": {},
   "outputs": [],
   "source": [
    "import sys\n",
    "\n",
    "sys.path.append(\"..\")\n",
    "sys.path.append(\"../../inputs\")"
   ]
  },
  {
   "cell_type": "code",
   "execution_count": 2,
   "id": "a2b8a249-a86a-45ac-866d-e8e24391a8b3",
   "metadata": {},
   "outputs": [],
   "source": [
    "import logging\n",
    "\n",
    "logging.basicConfig(\n",
    "    # filename=__file__.replace('.py', '.log'),\n",
    "    stream=sys.stdout,\n",
    "    level=logging.getLevelName(\"INFO\"),\n",
    "    format=\"%(asctime)s [%(levelname)s] [%(module)s] %(message)s\",\n",
    ")"
   ]
  },
  {
   "cell_type": "code",
   "execution_count": 3,
   "id": "f3359f42-fedd-4112-b756-9db1f94b7acf",
   "metadata": {},
   "outputs": [],
   "source": [
    "log = logging.getLogger(__name__)"
   ]
  },
  {
   "cell_type": "code",
   "execution_count": 4,
   "id": "6ce78107-23d6-4e0e-abeb-78c0196d584a",
   "metadata": {},
   "outputs": [],
   "source": [
    "from omegaconf import OmegaConf"
   ]
  },
  {
   "cell_type": "code",
   "execution_count": 5,
   "id": "30546e6e-deba-4e25-a758-026f1a1b0ef1",
   "metadata": {},
   "outputs": [],
   "source": [
    "c = OmegaConf.load(\"../config/main.yaml\")"
   ]
  },
  {
   "cell_type": "code",
   "execution_count": 6,
   "id": "4c0c57b3-9ad0-496d-b224-393873b27f1b",
   "metadata": {},
   "outputs": [],
   "source": [
    "c.settings.debug = True\n",
    "c.wandb.enabled = False\n",
    "c.settings.dirs.working = \"..\"\n",
    "c.settings.dirs.input = \"../../inputs/\""
   ]
  },
  {
   "cell_type": "code",
   "execution_count": 7,
   "id": "b091304e-fca8-40aa-85be-8926feb837ac",
   "metadata": {},
   "outputs": [
    {
     "name": "stdout",
     "output_type": "stream",
     "text": [
      "2022-02-08 22:33:43,696 [INFO] [3244290467] defaults:\n",
      "- _self_\n",
      "hydra:\n",
      "  run:\n",
      "    dir: ../outputs/${now:%Y-%m-%d_%H-%M-%S}\n",
      "  job_logging:\n",
      "    formatters:\n",
      "      simple:\n",
      "        format: '%(asctime)s [%(levelname)s][%(module)s] %(message)s'\n",
      "wandb:\n",
      "  enabled: false\n",
      "  entity: imokuri\n",
      "  project: ump\n",
      "  dir: ${hydra:runtime.cwd}/../cache\n",
      "  group: default\n",
      "settings:\n",
      "  print_freq: 100\n",
      "  gpus: 6,7\n",
      "  dirs:\n",
      "    working: ..\n",
      "    input: ../../inputs/\n",
      "    feature: ${settings.dirs.input}features/\n",
      "    preprocess: ${settings.dirs.input}preprocess/\n",
      "  inputs:\n",
      "  - train.csv\n",
      "  - example_test.csv\n",
      "  - example_sample_submission.csv\n",
      "  debug: true\n",
      "  n_debug_data: 100000\n",
      "  amp: true\n",
      "  multi_gpu: true\n",
      "  training_method: nn\n",
      "params:\n",
      "  seed: 440\n",
      "  n_class: 1\n",
      "  preprocess: false\n",
      "  n_fold: 5\n",
      "  skip_training: false\n",
      "  epoch: 20\n",
      "  es_patience: 0\n",
      "  batch_size: 640\n",
      "  gradient_acc_step: 1\n",
      "  max_grad_norm: 1000\n",
      "  fold: simple_cpcv\n",
      "  group_name: investment_id\n",
      "  time_name: time_id\n",
      "  label_name: target\n",
      "  use_feature: true\n",
      "  feature_set:\n",
      "  - f000\n",
      "  dataset: ump_1\n",
      "  model: ump_1\n",
      "  pretrained: []\n",
      "  criterion: RMSELoss\n",
      "  optimizer: Adam\n",
      "  scheduler: CosineAnnealingWarmupRestarts\n",
      "  lr: 0.001\n",
      "  min_lr: 1.0e-06\n",
      "  weight_decay: 1.0e-05\n",
      "  label_smoothing: 1.0e-06\n",
      "  scoring: pearson\n",
      "\n"
     ]
    }
   ],
   "source": [
    "log.info(OmegaConf.to_yaml(c))"
   ]
  },
  {
   "cell_type": "markdown",
   "id": "ad72c687-c321-48e8-a979-81c6755b8923",
   "metadata": {},
   "source": [
    "## Main"
   ]
  },
  {
   "cell_type": "code",
   "execution_count": 8,
   "id": "1bcb2359-cd66-438e-8c15-ff0dc01876ba",
   "metadata": {},
   "outputs": [],
   "source": [
    "import os\n",
    "import time\n",
    "\n",
    "import matplotlib.pyplot as plt\n",
    "import numpy as np\n",
    "import pandas as pd\n",
    "import seaborn as sns\n",
    "import torch.cuda.amp as amp\n",
    "from pytorch_tabnet.tab_model import TabNetRegressor\n",
    "from torch.optim import Adam\n",
    "from torch.optim.lr_scheduler import CosineAnnealingLR, CosineAnnealingWarmRestarts"
   ]
  },
  {
   "cell_type": "code",
   "execution_count": 9,
   "id": "5f17bfd5-73dc-4058-a431-d05e3a6fccb1",
   "metadata": {},
   "outputs": [],
   "source": [
    "import src.utils as utils\n",
    "from src.get_score import TNPearson\n",
    "from src.load_data import InputData\n",
    "from src.make_dataset import make_dataset_general\n",
    "from src.make_fold import train_test_split\n",
    "from src.make_loss import RMSELoss, make_criterion, make_optimizer, make_scheduler\n",
    "from src.make_model import make_model\n",
    "from src.run_loop import EarlyStopping\n",
    "from src.time_series_api import TimeSeriesAPI\n",
    "from src.utils import AverageMeter"
   ]
  },
  {
   "cell_type": "code",
   "execution_count": 10,
   "id": "58670521-2067-4c08-9e13-5cea2ee6445e",
   "metadata": {},
   "outputs": [
    {
     "name": "stdout",
     "output_type": "stream",
     "text": [
      "2022-02-08 22:33:45,364 [INFO] [utils] Enable debug mode.\n"
     ]
    }
   ],
   "source": [
    "utils.debug_settings(c)"
   ]
  },
  {
   "cell_type": "code",
   "execution_count": 11,
   "id": "e18a84d8-c569-4b2d-bb05-4181e5f7f785",
   "metadata": {},
   "outputs": [],
   "source": [
    "run = utils.setup_wandb(c)"
   ]
  },
  {
   "cell_type": "code",
   "execution_count": 12,
   "id": "8745a44a-fd19-4545-8e07-4852a82f576c",
   "metadata": {},
   "outputs": [
    {
     "name": "stdout",
     "output_type": "stream",
     "text": [
      "2022-02-08 22:33:45,374 [INFO] [utils] Fix seed: 440\n"
     ]
    }
   ],
   "source": [
    "utils.fix_seed(c.params.seed)"
   ]
  },
  {
   "cell_type": "code",
   "execution_count": 13,
   "id": "cf72341c-cff8-4362-87f3-4e5d365764ac",
   "metadata": {},
   "outputs": [
    {
     "name": "stdout",
     "output_type": "stream",
     "text": [
      "2022-02-08 22:33:45,380 [INFO] [utils] CUDA_VISIBLE_DEVICES: 6,7\n",
      "2022-02-08 22:33:45,416 [INFO] [utils] torch device: cuda, device count: 2\n"
     ]
    }
   ],
   "source": [
    "device = utils.gpu_settings(c)"
   ]
  },
  {
   "cell_type": "code",
   "execution_count": 14,
   "id": "7dbf167e-3c8d-428c-b64a-b88a652392c0",
   "metadata": {},
   "outputs": [
    {
     "name": "stdout",
     "output_type": "stream",
     "text": [
      "2022-02-08 22:33:45,420 [INFO] [load_data] Load feather file. path: ../../inputs/train.f\n",
      "2022-02-08 22:34:10,625 [INFO] [utils] Mem. usage decreased to 366Mb: 49% reduction\n",
      "2022-02-08 22:34:10,659 [INFO] [load_data] Load feather file. path: ../../inputs/example_test.f\n",
      "2022-02-08 22:34:10,870 [INFO] [utils] Mem. usage decreased to 0.0Mb: 49% reduction\n",
      "2022-02-08 22:34:10,871 [INFO] [load_data] Load feather file. path: ../../inputs/example_sample_submission.f\n",
      "2022-02-08 22:34:10,875 [INFO] [utils] Mem. usage decreased to 0.0Mb: 34% reduction\n"
     ]
    }
   ],
   "source": [
    "input = InputData(c)"
   ]
  },
  {
   "cell_type": "code",
   "execution_count": 15,
   "id": "3360c604-44dd-47ed-aed4-a6b86d510f90",
   "metadata": {},
   "outputs": [
    {
     "name": "stdout",
     "output_type": "stream",
     "text": [
      "<class 'pandas.core.frame.DataFrame'>\n",
      "RangeIndex: 3141410 entries, 0 to 3141409\n",
      "Columns: 306 entries, row_id to time_fold\n",
      "dtypes: float32(303), int16(2), object(1)\n",
      "memory usage: 3.6+ GB\n"
     ]
    }
   ],
   "source": [
    "input.train.info()"
   ]
  },
  {
   "cell_type": "code",
   "execution_count": 16,
   "id": "d0585cbf-689e-4b96-bbd7-fe3d8d6624eb",
   "metadata": {},
   "outputs": [],
   "source": [
    "oof_df = pd.DataFrame()\n",
    "losses = utils.AverageMeter()\n",
    "evaluation_results = {}\n",
    "callbacks = []"
   ]
  },
  {
   "cell_type": "code",
   "execution_count": 17,
   "id": "8bd31a52-9849-4dac-b3ec-817de80e1fa0",
   "metadata": {},
   "outputs": [
    {
     "name": "stdout",
     "output_type": "stream",
     "text": [
      "2022-02-08 22:34:10,894 [INFO] [1900719927] ========== fold 0 training ==========\n",
      "2022-02-08 22:34:10,895 [INFO] [utils] Fix seed: 440\n",
      "2022-02-08 22:34:11,831 [INFO] [make_fold] Num of training data: 1676930, num of validation data: 1047138\n",
      "Device used : cuda\n",
      "epoch 0  | loss: 0.91369 | valid_rmse: 0.9150800108909607|  0:00:20s\n",
      "epoch 10 | loss: 0.82273 | valid_rmse: 0.9086999893188477|  0:03:34s\n",
      "epoch 20 | loss: 0.81737 | valid_rmse: 0.9083099961280823|  0:06:54s\n"
     ]
    },
    {
     "ename": "KeyboardInterrupt",
     "evalue": "",
     "output_type": "error",
     "traceback": [
      "\u001b[0;31m---------------------------------------------------------------------------\u001b[0m",
      "\u001b[0;31mKeyboardInterrupt\u001b[0m                         Traceback (most recent call last)",
      "\u001b[0;32m/tmp/ipykernel_253437/1900719927.py\u001b[0m in \u001b[0;36m<module>\u001b[0;34m\u001b[0m\n\u001b[1;32m     38\u001b[0m         \u001b[0mvirtual_batch_size\u001b[0m\u001b[0;34m=\u001b[0m\u001b[0;36m128\u001b[0m \u001b[0;34m*\u001b[0m \u001b[0;36m10\u001b[0m\u001b[0;34m,\u001b[0m\u001b[0;34m\u001b[0m\u001b[0m\n\u001b[1;32m     39\u001b[0m         \u001b[0mnum_workers\u001b[0m\u001b[0;34m=\u001b[0m\u001b[0;36m4\u001b[0m\u001b[0;34m,\u001b[0m\u001b[0;34m\u001b[0m\u001b[0m\n\u001b[0;32m---> 40\u001b[0;31m         \u001b[0mdrop_last\u001b[0m\u001b[0;34m=\u001b[0m\u001b[0;32mTrue\u001b[0m\u001b[0;34m,\u001b[0m\u001b[0;34m\u001b[0m\u001b[0m\n\u001b[0m\u001b[1;32m     41\u001b[0m         \u001b[0;31m# callbacks=[],\u001b[0m\u001b[0;34m\u001b[0m\u001b[0;34m\u001b[0m\u001b[0m\n\u001b[1;32m     42\u001b[0m     )\n",
      "\u001b[0;32m/opt/miniconda3/envs/py37-all-in-one/lib/python3.7/site-packages/pytorch_tabnet/abstract_model.py\u001b[0m in \u001b[0;36mfit\u001b[0;34m(self, X_train, y_train, eval_set, eval_name, eval_metric, loss_fn, weights, max_epochs, patience, batch_size, virtual_batch_size, num_workers, drop_last, callbacks, pin_memory, from_unsupervised)\u001b[0m\n\u001b[1;32m    221\u001b[0m             \u001b[0mself\u001b[0m\u001b[0;34m.\u001b[0m\u001b[0m_callback_container\u001b[0m\u001b[0;34m.\u001b[0m\u001b[0mon_epoch_begin\u001b[0m\u001b[0;34m(\u001b[0m\u001b[0mepoch_idx\u001b[0m\u001b[0;34m)\u001b[0m\u001b[0;34m\u001b[0m\u001b[0m\n\u001b[1;32m    222\u001b[0m \u001b[0;34m\u001b[0m\u001b[0m\n\u001b[0;32m--> 223\u001b[0;31m             \u001b[0mself\u001b[0m\u001b[0;34m.\u001b[0m\u001b[0m_train_epoch\u001b[0m\u001b[0;34m(\u001b[0m\u001b[0mtrain_dataloader\u001b[0m\u001b[0;34m)\u001b[0m\u001b[0;34m\u001b[0m\u001b[0m\n\u001b[0m\u001b[1;32m    224\u001b[0m \u001b[0;34m\u001b[0m\u001b[0m\n\u001b[1;32m    225\u001b[0m             \u001b[0;31m# Apply predict epoch to all eval sets\u001b[0m\u001b[0;34m\u001b[0m\u001b[0;34m\u001b[0m\u001b[0m\n",
      "\u001b[0;32m/opt/miniconda3/envs/py37-all-in-one/lib/python3.7/site-packages/pytorch_tabnet/abstract_model.py\u001b[0m in \u001b[0;36m_train_epoch\u001b[0;34m(self, train_loader)\u001b[0m\n\u001b[1;32m    432\u001b[0m             \u001b[0mself\u001b[0m\u001b[0;34m.\u001b[0m\u001b[0m_callback_container\u001b[0m\u001b[0;34m.\u001b[0m\u001b[0mon_batch_begin\u001b[0m\u001b[0;34m(\u001b[0m\u001b[0mbatch_idx\u001b[0m\u001b[0;34m)\u001b[0m\u001b[0;34m\u001b[0m\u001b[0m\n\u001b[1;32m    433\u001b[0m \u001b[0;34m\u001b[0m\u001b[0m\n\u001b[0;32m--> 434\u001b[0;31m             \u001b[0mbatch_logs\u001b[0m \u001b[0;34m=\u001b[0m \u001b[0mself\u001b[0m\u001b[0;34m.\u001b[0m\u001b[0m_train_batch\u001b[0m\u001b[0;34m(\u001b[0m\u001b[0mX\u001b[0m\u001b[0;34m,\u001b[0m \u001b[0my\u001b[0m\u001b[0;34m)\u001b[0m\u001b[0;34m\u001b[0m\u001b[0m\n\u001b[0m\u001b[1;32m    435\u001b[0m \u001b[0;34m\u001b[0m\u001b[0m\n\u001b[1;32m    436\u001b[0m             \u001b[0mself\u001b[0m\u001b[0;34m.\u001b[0m\u001b[0m_callback_container\u001b[0m\u001b[0;34m.\u001b[0m\u001b[0mon_batch_end\u001b[0m\u001b[0;34m(\u001b[0m\u001b[0mbatch_idx\u001b[0m\u001b[0;34m,\u001b[0m \u001b[0mbatch_logs\u001b[0m\u001b[0;34m)\u001b[0m\u001b[0;34m\u001b[0m\u001b[0m\n",
      "\u001b[0;32m/opt/miniconda3/envs/py37-all-in-one/lib/python3.7/site-packages/pytorch_tabnet/abstract_model.py\u001b[0m in \u001b[0;36m_train_batch\u001b[0;34m(self, X, y)\u001b[0m\n\u001b[1;32m    476\u001b[0m         \u001b[0mloss\u001b[0m\u001b[0;34m.\u001b[0m\u001b[0mbackward\u001b[0m\u001b[0;34m(\u001b[0m\u001b[0;34m)\u001b[0m\u001b[0;34m\u001b[0m\u001b[0m\n\u001b[1;32m    477\u001b[0m         \u001b[0;32mif\u001b[0m \u001b[0mself\u001b[0m\u001b[0;34m.\u001b[0m\u001b[0mclip_value\u001b[0m\u001b[0;34m:\u001b[0m\u001b[0;34m\u001b[0m\u001b[0m\n\u001b[0;32m--> 478\u001b[0;31m             \u001b[0mclip_grad_norm_\u001b[0m\u001b[0;34m(\u001b[0m\u001b[0mself\u001b[0m\u001b[0;34m.\u001b[0m\u001b[0mnetwork\u001b[0m\u001b[0;34m.\u001b[0m\u001b[0mparameters\u001b[0m\u001b[0;34m(\u001b[0m\u001b[0;34m)\u001b[0m\u001b[0;34m,\u001b[0m \u001b[0mself\u001b[0m\u001b[0;34m.\u001b[0m\u001b[0mclip_value\u001b[0m\u001b[0;34m)\u001b[0m\u001b[0;34m\u001b[0m\u001b[0m\n\u001b[0m\u001b[1;32m    479\u001b[0m         \u001b[0mself\u001b[0m\u001b[0;34m.\u001b[0m\u001b[0m_optimizer\u001b[0m\u001b[0;34m.\u001b[0m\u001b[0mstep\u001b[0m\u001b[0;34m(\u001b[0m\u001b[0;34m)\u001b[0m\u001b[0;34m\u001b[0m\u001b[0m\n\u001b[1;32m    480\u001b[0m \u001b[0;34m\u001b[0m\u001b[0m\n",
      "\u001b[0;32m/opt/miniconda3/envs/py37-all-in-one/lib/python3.7/site-packages/torch/nn/utils/clip_grad.py\u001b[0m in \u001b[0;36mclip_grad_norm_\u001b[0;34m(parameters, max_norm, norm_type)\u001b[0m\n\u001b[1;32m     36\u001b[0m         \u001b[0mtotal_norm\u001b[0m \u001b[0;34m=\u001b[0m \u001b[0mtorch\u001b[0m\u001b[0;34m.\u001b[0m\u001b[0mnorm\u001b[0m\u001b[0;34m(\u001b[0m\u001b[0mtorch\u001b[0m\u001b[0;34m.\u001b[0m\u001b[0mstack\u001b[0m\u001b[0;34m(\u001b[0m\u001b[0;34m[\u001b[0m\u001b[0mtorch\u001b[0m\u001b[0;34m.\u001b[0m\u001b[0mnorm\u001b[0m\u001b[0;34m(\u001b[0m\u001b[0mp\u001b[0m\u001b[0;34m.\u001b[0m\u001b[0mgrad\u001b[0m\u001b[0;34m.\u001b[0m\u001b[0mdetach\u001b[0m\u001b[0;34m(\u001b[0m\u001b[0;34m)\u001b[0m\u001b[0;34m,\u001b[0m \u001b[0mnorm_type\u001b[0m\u001b[0;34m)\u001b[0m\u001b[0;34m.\u001b[0m\u001b[0mto\u001b[0m\u001b[0;34m(\u001b[0m\u001b[0mdevice\u001b[0m\u001b[0;34m)\u001b[0m \u001b[0;32mfor\u001b[0m \u001b[0mp\u001b[0m \u001b[0;32min\u001b[0m \u001b[0mparameters\u001b[0m\u001b[0;34m]\u001b[0m\u001b[0;34m)\u001b[0m\u001b[0;34m,\u001b[0m \u001b[0mnorm_type\u001b[0m\u001b[0;34m)\u001b[0m\u001b[0;34m\u001b[0m\u001b[0m\n\u001b[1;32m     37\u001b[0m     \u001b[0mclip_coef\u001b[0m \u001b[0;34m=\u001b[0m \u001b[0mmax_norm\u001b[0m \u001b[0;34m/\u001b[0m \u001b[0;34m(\u001b[0m\u001b[0mtotal_norm\u001b[0m \u001b[0;34m+\u001b[0m \u001b[0;36m1e-6\u001b[0m\u001b[0;34m)\u001b[0m\u001b[0;34m\u001b[0m\u001b[0m\n\u001b[0;32m---> 38\u001b[0;31m     \u001b[0;32mif\u001b[0m \u001b[0mclip_coef\u001b[0m \u001b[0;34m<\u001b[0m \u001b[0;36m1\u001b[0m\u001b[0;34m:\u001b[0m\u001b[0;34m\u001b[0m\u001b[0m\n\u001b[0m\u001b[1;32m     39\u001b[0m         \u001b[0;32mfor\u001b[0m \u001b[0mp\u001b[0m \u001b[0;32min\u001b[0m \u001b[0mparameters\u001b[0m\u001b[0;34m:\u001b[0m\u001b[0;34m\u001b[0m\u001b[0m\n\u001b[1;32m     40\u001b[0m             \u001b[0mp\u001b[0m\u001b[0;34m.\u001b[0m\u001b[0mgrad\u001b[0m\u001b[0;34m.\u001b[0m\u001b[0mdetach\u001b[0m\u001b[0;34m(\u001b[0m\u001b[0;34m)\u001b[0m\u001b[0;34m.\u001b[0m\u001b[0mmul_\u001b[0m\u001b[0;34m(\u001b[0m\u001b[0mclip_coef\u001b[0m\u001b[0;34m.\u001b[0m\u001b[0mto\u001b[0m\u001b[0;34m(\u001b[0m\u001b[0mp\u001b[0m\u001b[0;34m.\u001b[0m\u001b[0mgrad\u001b[0m\u001b[0;34m.\u001b[0m\u001b[0mdevice\u001b[0m\u001b[0;34m)\u001b[0m\u001b[0;34m)\u001b[0m\u001b[0;34m\u001b[0m\u001b[0m\n",
      "\u001b[0;31mKeyboardInterrupt\u001b[0m: "
     ]
    }
   ],
   "source": [
    "for fold in range(c.params.n_fold):\n",
    "    log.info(f\"========== fold {fold} training ==========\")\n",
    "    utils.fix_seed(c.params.seed + fold)\n",
    "\n",
    "    ####################################################\n",
    "    # _oof_df, score, loss = train_fold(c, input.train, fold, device)\n",
    "    df = input.train\n",
    "\n",
    "    train_folds, valid_folds = train_test_split(c, df, fold)\n",
    "    train_ds, train_labels, valid_ds, valid_labels = make_dataset_general(c, train_folds, valid_folds)\n",
    "\n",
    "    clf = TabNetRegressor(\n",
    "        n_d=16,\n",
    "        n_a=16,\n",
    "        n_steps=2,\n",
    "        gamma=1.4,\n",
    "        n_independent=6,\n",
    "        n_shared=3,\n",
    "        lambda_sparse=0,\n",
    "        optimizer_fn=Adam,\n",
    "        optimizer_params=dict(lr=2e-2, weight_decay=1e-5),\n",
    "        mask_type=\"entmax\",\n",
    "        scheduler_fn=CosineAnnealingWarmRestarts,\n",
    "        scheduler_params=dict(T_0=200, T_mult=1, eta_min=1e-4, last_epoch=-1),\n",
    "        seed=c.params.seed,\n",
    "        verbose=10,\n",
    "    )\n",
    "    clf.fit(\n",
    "        train_ds,\n",
    "        train_labels.reshape(-1, 1),\n",
    "        eval_set=[(valid_ds, valid_labels.reshape(-1, 1))],\n",
    "        eval_name=[\"valid\"],\n",
    "        eval_metric=[\"rmse\"],\n",
    "        max_epochs=200,\n",
    "        patience=15,\n",
    "        #loss_fn=RMSELoss(),\n",
    "        batch_size=1024 * 10,\n",
    "        virtual_batch_size=128 * 10,\n",
    "        num_workers=4,\n",
    "        drop_last=True,\n",
    "        # callbacks=[],\n",
    "    )\n",
    "\n",
    "    break\n",
    "\n",
    "    ####################################################\n",
    "\n",
    "    oof_df = pd.concat([oof_df, _oof_df])\n",
    "    losses.update(loss)\n",
    "\n",
    "    log.info(f\"========== fold {fold} result ==========\")\n",
    "    record_result(c, _oof_df, fold, loss)\n",
    "\n",
    "    if c.settings.debug:\n",
    "        break"
   ]
  },
  {
   "cell_type": "code",
   "execution_count": null,
   "id": "3c8501e5-3d84-464d-b9ed-250d7e2291f0",
   "metadata": {},
   "outputs": [],
   "source": [
    "raise"
   ]
  },
  {
   "cell_type": "code",
   "execution_count": null,
   "id": "a09c05ce-720b-4129-8a51-2930b3ede2fb",
   "metadata": {},
   "outputs": [],
   "source": [
    "booster.best_score"
   ]
  },
  {
   "cell_type": "code",
   "execution_count": null,
   "id": "6ca57324-6d33-495b-a083-082b93f17d0b",
   "metadata": {},
   "outputs": [],
   "source": [
    "fig, axs = plt.subplots(1, 2, figsize=[15, 4])\n",
    "\n",
    "# Plot the log loss during training\n",
    "axs[0].plot(evaluation_results[\"train\"][\"rmse\"], label=\"train\")\n",
    "axs[0].plot(evaluation_results[\"valid\"][\"rmse\"], label=\"valid\")\n",
    "axs[0].set_ylabel(\"RMSE\")\n",
    "axs[0].set_xlabel(\"Boosting round\")\n",
    "axs[0].set_title(\"Training performance\")\n",
    "axs[0].legend()\n",
    "\n",
    "# Plot feature importance\n",
    "importances = pd.DataFrame(\n",
    "    {\"features\": booster.feature_name(), \"importance\": booster.feature_importance()}\n",
    ").sort_values(\"importance\", ascending=False)[:10]\n",
    "axs[1].bar(x=np.arange(len(importances)), height=importances[\"importance\"])\n",
    "axs[1].set_xticks(np.arange(len(importances)))\n",
    "axs[1].set_xticklabels(importances[\"features\"], rotation=45)\n",
    "axs[1].set_ylabel(\"Feature importance (# times used to split)\")\n",
    "axs[1].set_title(\"Feature importance\")\n",
    "\n",
    "plt.show()"
   ]
  },
  {
   "cell_type": "code",
   "execution_count": null,
   "id": "3dbef56c-91f0-4f04-a229-6309fde3b91b",
   "metadata": {},
   "outputs": [],
   "source": [
    "importances.sort_values(\"importance\", ascending=False)"
   ]
  },
  {
   "cell_type": "code",
   "execution_count": null,
   "id": "02ca9954-af52-4dfc-aa95-7a6678a16218",
   "metadata": {},
   "outputs": [],
   "source": [
    "booster.best_iteration"
   ]
  },
  {
   "cell_type": "code",
   "execution_count": null,
   "id": "ac3183f5-b9a9-4c21-8fdc-5dd6b26f4f1d",
   "metadata": {},
   "outputs": [],
   "source": [
    "oof = booster.predict(\n",
    "    valid_folds.drop([\"row_id\", \"time_id\", \"investment_id\", \"target\", \"group_fold\", \"time_fold\"], axis=1),\n",
    "    num_iteration=booster.best_iteration,\n",
    ")"
   ]
  },
  {
   "cell_type": "code",
   "execution_count": null,
   "id": "8a647070-1013-4079-9723-0b3382535e43",
   "metadata": {},
   "outputs": [],
   "source": [
    "oof"
   ]
  },
  {
   "cell_type": "code",
   "execution_count": null,
   "id": "17b7e44b-0772-47d9-908c-e5fc8c02fa91",
   "metadata": {},
   "outputs": [],
   "source": [
    "len(oof)"
   ]
  },
  {
   "cell_type": "code",
   "execution_count": null,
   "id": "458e457b-7091-41b6-94ec-9ce1f529a7c1",
   "metadata": {},
   "outputs": [],
   "source": []
  }
 ],
 "metadata": {
  "kernelspec": {
   "display_name": "py37-all-in-one",
   "language": "python",
   "name": "py37-all-in-one"
  },
  "language_info": {
   "codemirror_mode": {
    "name": "ipython",
    "version": 3
   },
   "file_extension": ".py",
   "mimetype": "text/x-python",
   "name": "python",
   "nbconvert_exporter": "python",
   "pygments_lexer": "ipython3",
   "version": "3.7.0"
  }
 },
 "nbformat": 4,
 "nbformat_minor": 5
}
